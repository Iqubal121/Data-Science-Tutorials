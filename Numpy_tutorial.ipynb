{
  "nbformat": 4,
  "nbformat_minor": 0,
  "metadata": {
    "colab": {
      "provenance": [],
      "collapsed_sections": [
        "dcgCi7NPsrry",
        "Hp2iRBBYuFK2",
        "bsoGf9Q8xsB6",
        "QSN3NXjb3hAU",
        "ZZBe_dV_8K2o",
        "oVMkuya-dukL",
        "B5dWemfxP7jr",
        "VnX-0_ncaWKP",
        "Di4zKfk4AEJB",
        "0PFLIA2QNPdd",
        "C9F7IBpXYAqm",
        "KxBXz6w8ZPI7"
      ],
      "toc_visible": true,
      "authorship_tag": "ABX9TyMFcTvexrn8CiDFyeIJQ2MX",
      "include_colab_link": true
    },
    "kernelspec": {
      "name": "python3",
      "display_name": "Python 3"
    },
    "language_info": {
      "name": "python"
    }
  },
  "cells": [
    {
      "cell_type": "markdown",
      "metadata": {
        "id": "view-in-github",
        "colab_type": "text"
      },
      "source": [
        "<a href=\"https://colab.research.google.com/github/Iqubal121/Data-Science-Tutorials/blob/main/Numpy_tutorial.ipynb\" target=\"_parent\"><img src=\"https://colab.research.google.com/assets/colab-badge.svg\" alt=\"Open In Colab\"/></a>"
      ]
    },
    {
      "cell_type": "markdown",
      "source": [
        "# **Numpy Tutorial**"
      ],
      "metadata": {
        "id": "X3jhAC9HM0aR"
      }
    },
    {
      "cell_type": "markdown",
      "source": [
        "1. Numpy stand for numerical python. We can perfrom numerical calculation by using numpy module in Python.\n",
        "\n",
        "2. NumPy includes a wide range of mathematical functions for basic arithmetic, linear algebra, Fourier analysis, and more\n",
        "\n",
        "3. NumPy performs numerical operations on large datasets efficiently.\n",
        "\n",
        "4. NumPy plays a crucial role in the Python ecosystem for scientific computing, data analysis, machine learning, and more.\n",
        "\n",
        "5. Its efficient array operations and extensive mathematical functions make it an indispensable tool for working with numerical data in Python.\n",
        "\n",
        "6. Numpy is basically wirtten in python and c++.\n",
        "\n",
        "\n",
        "\n",
        "\n"
      ],
      "metadata": {
        "id": "fNlkr9XAM-bD"
      }
    },
    {
      "cell_type": "code",
      "execution_count": null,
      "metadata": {
        "colab": {
          "base_uri": "https://localhost:8080/"
        },
        "id": "bzR6aBLtMfnF",
        "outputId": "23c1b5c7-6b46-4a48-cd2f-3d2fa7064876"
      },
      "outputs": [
        {
          "output_type": "stream",
          "name": "stdout",
          "text": [
            "[10 20 30 40 50]\n"
          ]
        }
      ],
      "source": [
        "# How to import numpy library\n",
        "import numpy as np # np is an alias name\n",
        "arr = np.array([10, 20, 30, 40, 50])\n",
        "print(arr)\n"
      ]
    },
    {
      "cell_type": "code",
      "source": [
        "# how to install numpy in python.\n",
        "!pip install numpy"
      ],
      "metadata": {
        "colab": {
          "base_uri": "https://localhost:8080/"
        },
        "id": "HhNtnNVsT147",
        "outputId": "b6d29fdd-98d2-401e-f3b7-28b20da21e3a"
      },
      "execution_count": null,
      "outputs": [
        {
          "output_type": "stream",
          "name": "stdout",
          "text": [
            "Requirement already satisfied: numpy in /usr/local/lib/python3.10/dist-packages (1.26.4)\n"
          ]
        }
      ]
    },
    {
      "cell_type": "markdown",
      "source": [
        "## Why to use numpy\n",
        "Basically in numpy we are dealing with array. It is more faster than list and python array module.\n",
        "\n",
        "Note:\n",
        "\n",
        "Numpy arrays stored at one contigious place in memory unlike list, so we can access and manipulate the data very efficiently.\n"
      ],
      "metadata": {
        "id": "7bKVPFO9WWV3"
      }
    },
    {
      "cell_type": "code",
      "source": [
        "# how to check the version of the numpy\n",
        "np.__version__ # it'll show the current version of the numpy library."
      ],
      "metadata": {
        "colab": {
          "base_uri": "https://localhost:8080/",
          "height": 35
        },
        "id": "McSdQXBtaW_W",
        "outputId": "35776e65-5273-40b0-e9b1-dbfa46cab492"
      },
      "execution_count": null,
      "outputs": [
        {
          "output_type": "execute_result",
          "data": {
            "text/plain": [
              "'1.26.4'"
            ],
            "application/vnd.google.colaboratory.intrinsic+json": {
              "type": "string"
            }
          },
          "metadata": {},
          "execution_count": 6
        }
      ]
    },
    {
      "cell_type": "code",
      "source": [
        "# we can create an array using arange():- array_range()\n",
        "\n",
        "# the arguements of the function\n",
        "# start-> start the interval range.\n",
        "# stop -> end the interval\n",
        "# step -> steeping the launch\n",
        "# dtype -> Datatypes of the element.\n",
        "\n",
        "import numpy as np\n",
        "arr = np.arange(10, 40, 2, dtype=int)\n",
        "print(arr)\n"
      ],
      "metadata": {
        "colab": {
          "base_uri": "https://localhost:8080/"
        },
        "id": "k940w0S1v3Gp",
        "outputId": "4401f0d5-6b5e-43cf-98a8-7c201bd76d63"
      },
      "execution_count": null,
      "outputs": [
        {
          "output_type": "stream",
          "name": "stdout",
          "text": [
            "[10 12 14 16 18 20 22 24 26 28 30 32 34 36 38]\n"
          ]
        }
      ]
    },
    {
      "cell_type": "code",
      "source": [
        "# np.zeros() ->\n",
        "import numpy as np\n",
        "arr = np.zeros(5, dtype=int)\n",
        "print(arr)"
      ],
      "metadata": {
        "colab": {
          "base_uri": "https://localhost:8080/"
        },
        "id": "fzSAXj-t15Z0",
        "outputId": "1241bb3a-3fb7-4e0c-a4f2-325fd9412e4e"
      },
      "execution_count": null,
      "outputs": [
        {
          "output_type": "stream",
          "name": "stdout",
          "text": [
            "[0 0 0 0 0]\n"
          ]
        }
      ]
    },
    {
      "cell_type": "code",
      "source": [
        "# Create 2-d array\n",
        "import numpy as np\n",
        "arr = np.zeros((2, 3), dtype=int)\n",
        "print(arr)"
      ],
      "metadata": {
        "colab": {
          "base_uri": "https://localhost:8080/"
        },
        "id": "p0nI2kvm2PS4",
        "outputId": "a57acf33-9c08-4fd9-abc2-814ff9305e22"
      },
      "execution_count": null,
      "outputs": [
        {
          "output_type": "stream",
          "name": "stdout",
          "text": [
            "[[0 0 0]\n",
            " [0 0 0]]\n"
          ]
        }
      ]
    },
    {
      "cell_type": "code",
      "source": [
        "# Create 3-D array\n",
        "import numpy as np\n",
        "arr = np.zeros((2, 3, 4), dtype=int)\n",
        "print(arr)"
      ],
      "metadata": {
        "colab": {
          "base_uri": "https://localhost:8080/"
        },
        "id": "gRedkyPo2cA4",
        "outputId": "61a2b83d-a9ac-4e4f-d0ee-3497482a4f0d"
      },
      "execution_count": null,
      "outputs": [
        {
          "output_type": "stream",
          "name": "stdout",
          "text": [
            "[[[0 0 0 0]\n",
            "  [0 0 0 0]\n",
            "  [0 0 0 0]]\n",
            "\n",
            " [[0 0 0 0]\n",
            "  [0 0 0 0]\n",
            "  [0 0 0 0]]]\n"
          ]
        }
      ]
    },
    {
      "cell_type": "code",
      "source": [
        "# np.ones() ->\n",
        "import numpy as np\n",
        "arr = np.ones(5, dtype=int)\n",
        "print(arr)"
      ],
      "metadata": {
        "colab": {
          "base_uri": "https://localhost:8080/"
        },
        "id": "E47Jz-VZ2q3S",
        "outputId": "915b736b-156b-48c5-f2ac-32978f8fe0a4"
      },
      "execution_count": null,
      "outputs": [
        {
          "output_type": "stream",
          "name": "stdout",
          "text": [
            "[1 1 1 1 1]\n"
          ]
        }
      ]
    },
    {
      "cell_type": "code",
      "source": [
        "# np.linspace() -> returns array of evenly spaced values within the specified interval [start, stop]\n",
        "import numpy as np\n",
        "arr = np.linspace(0, 10, 5)\n",
        "print(arr)"
      ],
      "metadata": {
        "colab": {
          "base_uri": "https://localhost:8080/"
        },
        "id": "SyUN2GBS3Btg",
        "outputId": "8e09ff88-1964-4b9c-a32e-684e33ceaa9a"
      },
      "execution_count": null,
      "outputs": [
        {
          "output_type": "stream",
          "name": "stdout",
          "text": [
            "[ 0.   2.5  5.   7.5 10. ]\n"
          ]
        }
      ]
    },
    {
      "cell_type": "code",
      "source": [
        "# eye() -> returns a 2-D array with 1's as the diagonal and 0's elsewhere.\n",
        "import numpy as np\n",
        "arr = np.eye(3, dtype=int)\n",
        "print(arr)"
      ],
      "metadata": {
        "colab": {
          "base_uri": "https://localhost:8080/"
        },
        "id": "bctiCvTk37FT",
        "outputId": "a8782a16-b507-4f9d-8d7e-f35a9b737ccd"
      },
      "execution_count": null,
      "outputs": [
        {
          "output_type": "stream",
          "name": "stdout",
          "text": [
            "[[1 0 0]\n",
            " [0 1 0]\n",
            " [0 0 1]]\n"
          ]
        }
      ]
    },
    {
      "cell_type": "code",
      "source": [
        "# full() -> used to create full array with same value.\n",
        "import numpy as np\n",
        "arr = np.full((2, 3,4), 5)\n",
        "print(arr)"
      ],
      "metadata": {
        "colab": {
          "base_uri": "https://localhost:8080/"
        },
        "id": "HZqDVUJR4X17",
        "outputId": "134ac47e-2d6d-4c31-af85-c8660a84dc43"
      },
      "execution_count": null,
      "outputs": [
        {
          "output_type": "stream",
          "name": "stdout",
          "text": [
            "[[[5 5 5 5]\n",
            "  [5 5 5 5]\n",
            "  [5 5 5 5]]\n",
            "\n",
            " [[5 5 5 5]\n",
            "  [5 5 5 5]\n",
            "  [5 5 5 5]]]\n"
          ]
        }
      ]
    },
    {
      "cell_type": "code",
      "source": [
        "# empty() -> used to create empty array\n",
        "import numpy as np\n",
        "arr1 = np.empty((5, 3), dtype=int)\n",
        "print(arr1)"
      ],
      "metadata": {
        "colab": {
          "base_uri": "https://localhost:8080/"
        },
        "id": "zIsKVMGb43Ec",
        "outputId": "79d8b15f-91df-40c2-da1f-2a448c874da5"
      },
      "execution_count": null,
      "outputs": [
        {
          "output_type": "stream",
          "name": "stdout",
          "text": [
            "[[10 12 14]\n",
            " [16 18 20]\n",
            " [22 24 26]\n",
            " [28 30 32]\n",
            " [34 36 38]]\n"
          ]
        }
      ]
    },
    {
      "cell_type": "markdown",
      "source": [
        "## Numpy Ndarray\n",
        "![image.png](data:image/png;base64,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)"
      ],
      "metadata": {
        "id": "TItW4dgCUY21"
      }
    },
    {
      "cell_type": "markdown",
      "source": [
        "The array object is known as ndarray # n_dimentional array\n"
      ],
      "metadata": {
        "id": "JYkZlZT5aZaD"
      }
    },
    {
      "cell_type": "code",
      "source": [
        "# how to create a ndarray\n",
        "# np.array()\n",
        "arr1 = np.array([1,2,3,5])\n",
        "print(arr1)\n",
        "print(type(arr1))\n",
        "\n",
        "\n",
        "print(\"----------------------------\")\n",
        "\n",
        "\n",
        "# we can pass the list as well as tuples, and any kind of array objects, by default it'll be converted to the nd array\n",
        "arr2 = np.array((1.2,3,4,565))\n",
        "print(arr2)\n",
        "print(type(arr2))"
      ],
      "metadata": {
        "colab": {
          "base_uri": "https://localhost:8080/"
        },
        "id": "gBWsI9dFUOgs",
        "outputId": "70d53a7b-13a2-417e-d6cc-d77ec5f99d24"
      },
      "execution_count": null,
      "outputs": [
        {
          "output_type": "stream",
          "name": "stdout",
          "text": [
            "[1 2 3 5]\n",
            "<class 'numpy.ndarray'>\n",
            "----------------------------\n",
            "[  1.2   3.    4.  565. ]\n",
            "<class 'numpy.ndarray'>\n"
          ]
        }
      ]
    },
    {
      "cell_type": "code",
      "source": [
        "# dimension of the array\n",
        "# a dimension can be defined as a level of the array\n",
        "# 0-D array, is also known as saclar array.\n",
        "\n",
        "# how to create an 0-d array\n",
        "import numpy as np\n",
        "arr0 = np.array(45)\n",
        "print(arr0)\n",
        "print(arr0.shape)\n"
      ],
      "metadata": {
        "id": "jl8my1jMZKCZ",
        "colab": {
          "base_uri": "https://localhost:8080/"
        },
        "outputId": "484b8159-39e8-429d-be8c-07710ba33aa0"
      },
      "execution_count": null,
      "outputs": [
        {
          "output_type": "stream",
          "name": "stdout",
          "text": [
            "45\n",
            "()\n"
          ]
        }
      ]
    },
    {
      "cell_type": "code",
      "source": [
        "# 1-D array:-\n",
        "import numpy as np\n",
        "arr1 = np.array([1,2,3,4,5])\n",
        "print(arr1)\n",
        "print(arr1.shape)"
      ],
      "metadata": {
        "colab": {
          "base_uri": "https://localhost:8080/"
        },
        "id": "hX7eWhc3iLdg",
        "outputId": "ab210372-751f-4f3e-8941-9da3424e609e"
      },
      "execution_count": null,
      "outputs": [
        {
          "output_type": "stream",
          "name": "stdout",
          "text": [
            "[1 2 3 4 5]\n",
            "(5,)\n"
          ]
        }
      ]
    },
    {
      "cell_type": "code",
      "source": [
        "# How to create 2-d array\n",
        "arr2 = np.array([[1,2,3],[4,5,6]]) # two rows 3 column\n",
        "print(arr2)\n",
        "print(arr2.shape)"
      ],
      "metadata": {
        "colab": {
          "base_uri": "https://localhost:8080/"
        },
        "id": "R-z_tnBGiP1I",
        "outputId": "e141728d-be13-4bea-a8fe-563bffa35526"
      },
      "execution_count": null,
      "outputs": [
        {
          "output_type": "stream",
          "name": "stdout",
          "text": [
            "[[1 2 3]\n",
            " [4 5 6]]\n",
            "(2, 3)\n"
          ]
        }
      ]
    },
    {
      "cell_type": "code",
      "source": [
        "# how to create 3-d array\n",
        "arr3 = np.array([[[1,2,3],[4,5,6]],[[7,8,9],[10,11,12]]])\n",
        "print(arr3)\n",
        "print(arr3.shape)"
      ],
      "metadata": {
        "colab": {
          "base_uri": "https://localhost:8080/"
        },
        "id": "QmcMZx_zi2z0",
        "outputId": "178ce5d9-2808-4c11-bf1b-e3e3bf363ffa"
      },
      "execution_count": null,
      "outputs": [
        {
          "output_type": "stream",
          "name": "stdout",
          "text": [
            "[[[ 1  2  3]\n",
            "  [ 4  5  6]]\n",
            "\n",
            " [[ 7  8  9]\n",
            "  [10 11 12]]]\n",
            "(2, 2, 3)\n"
          ]
        }
      ]
    },
    {
      "cell_type": "code",
      "source": [
        "# we can also check the dimension of the array by using ndim attributes\n",
        "print(arr0.ndim)\n",
        "print(arr1.ndim)\n",
        "print(arr2.ndim)\n",
        "print(arr3.ndim)"
      ],
      "metadata": {
        "colab": {
          "base_uri": "https://localhost:8080/"
        },
        "id": "Gv1QyT0FjCv2",
        "outputId": "5cba12c7-78e9-4c7a-9da7-0ed474c4f71b"
      },
      "execution_count": null,
      "outputs": [
        {
          "output_type": "stream",
          "name": "stdout",
          "text": [
            "0\n",
            "1\n",
            "2\n",
            "3\n"
          ]
        }
      ]
    },
    {
      "cell_type": "code",
      "source": [
        "# Craete an 5-D array\n",
        "arr5 = np.array([1,2,3,4],ndmin=5) # using the ndmin attributes\n",
        "print(arr5)\n",
        "print(arr5.ndim)\n",
        "print(arr5.shape)"
      ],
      "metadata": {
        "colab": {
          "base_uri": "https://localhost:8080/"
        },
        "id": "A7hFFz9Vjjge",
        "outputId": "591fde4b-9c69-4329-bd4a-bfe005578af3"
      },
      "execution_count": null,
      "outputs": [
        {
          "output_type": "stream",
          "name": "stdout",
          "text": [
            "[[[[[1 2 3 4]]]]]\n",
            "5\n",
            "(1, 1, 1, 1, 4)\n"
          ]
        }
      ]
    },
    {
      "cell_type": "markdown",
      "source": [
        "## **Numpy Operations**"
      ],
      "metadata": {
        "id": "aVO5FVEPkjxk"
      }
    },
    {
      "cell_type": "code",
      "source": [
        "# Indexing is basically accessing the elemnent of the numpy array\n",
        "# --> it always start with 0\n",
        "\n",
        "# how to access any elemenet from the numpy array\n",
        "# arr[index]\n",
        "import numpy as np\n",
        "\n",
        "arr = np.array([3,2,4,5,6,8,0,69])\n",
        "print(arr[0])\n",
        "print(arr[3])\n",
        "print(arr[6])"
      ],
      "metadata": {
        "colab": {
          "base_uri": "https://localhost:8080/"
        },
        "id": "OFcSNgSokC7T",
        "outputId": "4188c0bc-1787-4729-d71c-6ff84f6b1ade"
      },
      "execution_count": null,
      "outputs": [
        {
          "output_type": "stream",
          "name": "stdout",
          "text": [
            "3\n",
            "5\n",
            "0\n"
          ]
        }
      ]
    },
    {
      "cell_type": "code",
      "source": [
        "# how to we access the element from the 2-d array\n",
        "import numpy as np\n",
        "arr = np.array([[1,2,3,4], [3,4,5,6]])\n",
        "print(arr[1,3])"
      ],
      "metadata": {
        "colab": {
          "base_uri": "https://localhost:8080/"
        },
        "id": "0ZSWLB5TlH9h",
        "outputId": "61388a32-69d0-4294-d328-b0e75e8182ff"
      },
      "execution_count": null,
      "outputs": [
        {
          "output_type": "stream",
          "name": "stdout",
          "text": [
            "6\n"
          ]
        }
      ]
    },
    {
      "cell_type": "code",
      "source": [
        "# we can access the elemet form the 3-d array as well\n",
        "\n",
        "import numpy as np\n",
        "arr = np.array([[[1,2,3,4,5], [5,4,7,8,9], [52,44,79,82,90]], [[1,2,3,4,5], [5,4,7,89,9], [56,47,79,83,90]]])\n",
        "\n",
        "\n",
        "print(arr.shape)\n",
        "print(arr[1,2,3])"
      ],
      "metadata": {
        "colab": {
          "base_uri": "https://localhost:8080/"
        },
        "id": "w-VQ4Bw1liRf",
        "outputId": "a9bff6e0-2c9a-493f-8658-91d6f597d109"
      },
      "execution_count": null,
      "outputs": [
        {
          "output_type": "stream",
          "name": "stdout",
          "text": [
            "(2, 3, 5)\n",
            "83\n"
          ]
        }
      ]
    },
    {
      "cell_type": "code",
      "source": [
        "# how to slice the element from the numpy array\n",
        "# arr[start:end]\n",
        "import numpy as np\n",
        "arr = np.array([1,2,3,4,5,6,7,8,9])\n",
        "print(arr[0:5])\n"
      ],
      "metadata": {
        "colab": {
          "base_uri": "https://localhost:8080/"
        },
        "id": "fntwmQD_mKfO",
        "outputId": "451a7fa8-7522-4531-8798-2f1b4801bed2"
      },
      "execution_count": null,
      "outputs": [
        {
          "output_type": "stream",
          "name": "stdout",
          "text": [
            "[1 2 3 4 5]\n"
          ]
        }
      ]
    },
    {
      "cell_type": "code",
      "source": [
        "# slicing element of the 2-d array\n",
        "import numpy as np\n",
        "arr = np.array([[1,2,3,4,5], [6,7,8,9,10]])\n",
        "print(arr[1,1:4])\n",
        "\n",
        "# using negative slicing\n",
        "print(\"\\n using negative index: \", arr[-1,-2:])"
      ],
      "metadata": {
        "colab": {
          "base_uri": "https://localhost:8080/"
        },
        "id": "KJG3GgYynPvm",
        "outputId": "99ec7030-7889-43b9-da89-3b057e4d4ce0"
      },
      "execution_count": null,
      "outputs": [
        {
          "output_type": "stream",
          "name": "stdout",
          "text": [
            "[7 8 9]\n",
            "\n",
            " using negative index:  [ 9 10]\n"
          ]
        }
      ]
    },
    {
      "cell_type": "code",
      "source": [
        "# slicing elements of the 3-d array\n",
        "import numpy as np\n",
        "\n",
        "arr = np.array([[[1,2,3,4,5], [6,7,8,9,10]], [[11,12,13,14,15], [16,17,18,19,20]]])\n",
        "print(arr)\n",
        "print(\"\\nThe shape of the array is:  \\n\", arr.shape)\n",
        "print(\"\\nThe elements after slicing:  \\n\",arr[1,0:2, :2])\n",
        "\n",
        "# using negative slicing\n",
        "print(\"\\n using negative index: \\n\", arr[-1,-2:, :])"
      ],
      "metadata": {
        "colab": {
          "base_uri": "https://localhost:8080/"
        },
        "id": "LM6RDKyqnbTC",
        "outputId": "ecb1e854-02cd-4670-b06f-cc4c142051d8"
      },
      "execution_count": null,
      "outputs": [
        {
          "output_type": "stream",
          "name": "stdout",
          "text": [
            "[[[ 1  2  3  4  5]\n",
            "  [ 6  7  8  9 10]]\n",
            "\n",
            " [[11 12 13 14 15]\n",
            "  [16 17 18 19 20]]]\n",
            "\n",
            "The shape of the array is:  \n",
            " (2, 2, 5)\n",
            "\n",
            "The elements after slicing:  \n",
            " [[11 12]\n",
            " [16 17]]\n",
            "\n",
            " using negative index: \n",
            " [[11 12 13 14 15]\n",
            " [16 17 18 19 20]]\n"
          ]
        }
      ]
    },
    {
      "cell_type": "markdown",
      "source": [
        "## **DataTypes of the Numpy**"
      ],
      "metadata": {
        "id": "dXxzCImLpYcv"
      }
    },
    {
      "cell_type": "code",
      "source": [
        "# string, integer, boolena, unsigned, float, complex_float, timedelta(m), datetime(M), unicode string(U), memory(M)\n"
      ],
      "metadata": {
        "id": "o55e6K7dnouU"
      },
      "execution_count": null,
      "outputs": []
    },
    {
      "cell_type": "code",
      "source": [
        "# how to check the numpy array element data types\n",
        "import numpy as np\n",
        "arr = np.array([1,2,3,4])\n",
        "print(arr.dtype)"
      ],
      "metadata": {
        "colab": {
          "base_uri": "https://localhost:8080/"
        },
        "id": "3vReMY5EqAo4",
        "outputId": "61791822-b790-4329-8ae1-0d52dc439d37"
      },
      "execution_count": null,
      "outputs": [
        {
          "output_type": "stream",
          "name": "stdout",
          "text": [
            "int64\n"
          ]
        }
      ]
    },
    {
      "cell_type": "code",
      "source": [
        "import numpy as np\n",
        "arr = np.array([\"abc\",2,3,4])\n",
        "print(arr.dtype)"
      ],
      "metadata": {
        "colab": {
          "base_uri": "https://localhost:8080/"
        },
        "id": "3v7El98FqIQV",
        "outputId": "68c2ec1d-a2bd-4c80-d651-ace0b7b5f3f6"
      },
      "execution_count": null,
      "outputs": [
        {
          "output_type": "stream",
          "name": "stdout",
          "text": [
            "<U21\n"
          ]
        }
      ]
    },
    {
      "cell_type": "code",
      "source": [
        "# create an array with 4 byte integer\n",
        "\n",
        "import numpy as np\n",
        "\n",
        "arr = np.array([1,2,3,4], dtype='i4')\n",
        "print(arr)\n",
        "print(arr.dtype)"
      ],
      "metadata": {
        "colab": {
          "base_uri": "https://localhost:8080/"
        },
        "id": "0KkseUjHqT8f",
        "outputId": "aa956e53-26b6-463c-a6b5-4bc3f10ff06b"
      },
      "execution_count": null,
      "outputs": [
        {
          "output_type": "stream",
          "name": "stdout",
          "text": [
            "[1 2 3 4]\n",
            "int32\n"
          ]
        }
      ]
    },
    {
      "cell_type": "code",
      "source": [
        "# we can change the datatypes of the array by using astype()\n",
        "arr1 = arr.astype(str)\n",
        "print(arr1)\n",
        "print(arr1.dtype)"
      ],
      "metadata": {
        "colab": {
          "base_uri": "https://localhost:8080/"
        },
        "id": "OlDCstGoqqkx",
        "outputId": "b4dc584b-c9ab-4155-a1e9-31137aad576a"
      },
      "execution_count": null,
      "outputs": [
        {
          "output_type": "stream",
          "name": "stdout",
          "text": [
            "['1' '2' '3' '4']\n",
            "<U11\n"
          ]
        }
      ]
    },
    {
      "cell_type": "markdown",
      "source": [
        "## **Copy and view in Numpy Python**"
      ],
      "metadata": {
        "id": "HHtYJtIxrhDh"
      }
    },
    {
      "cell_type": "markdown",
      "source": [
        "1. **Copy**:- We can duplicate the data, it'll craete the new data from the existing data, The changes won't be reflected into the existing copy\n",
        "\n",
        "2. **View**:- Only we can read the array, changes will be directly reflected into the original array\n",
        "\n"
      ],
      "metadata": {
        "id": "AfJJyARBrpnf"
      }
    },
    {
      "cell_type": "code",
      "source": [
        "# 1. Copy\n",
        "\n",
        "import numpy as np\n",
        "arr = np.array([1,2,3,4,5])\n",
        "x = arr.copy()\n",
        "arr[0] = 42\n",
        "x[2] = 56\n",
        "\n",
        "print(arr)\n",
        "print(x)"
      ],
      "metadata": {
        "colab": {
          "base_uri": "https://localhost:8080/"
        },
        "id": "PoqaNMUQrnO1",
        "outputId": "f343e4f4-b7ba-4b54-ec48-a63814675959"
      },
      "execution_count": null,
      "outputs": [
        {
          "output_type": "stream",
          "name": "stdout",
          "text": [
            "[42  2  3  4  5]\n",
            "[ 1  2 56  4  5]\n"
          ]
        }
      ]
    },
    {
      "cell_type": "code",
      "source": [
        "# How to append a new element of into the array\n",
        "import numpy as np\n",
        "\n",
        "# create an array\n",
        "arr1 = np.array([1,2,3,4])\n",
        "\n",
        "# append an element into the end of the array\n",
        "arr1 = np.append(arr1, [5,6])\n",
        "print(arr1)\n"
      ],
      "metadata": {
        "colab": {
          "base_uri": "https://localhost:8080/"
        },
        "id": "hmDDp9A4DDpE",
        "outputId": "81fcbcf6-a5f9-4e97-a199-63baaee146da"
      },
      "execution_count": null,
      "outputs": [
        {
          "output_type": "stream",
          "name": "stdout",
          "text": [
            "[1 2 3 4 5 6]\n"
          ]
        }
      ]
    },
    {
      "cell_type": "code",
      "source": [
        "# add a row into the 2-D array\n",
        "import numpy as np\n",
        "arr1 = np.array([[1,2,3,4], [5,6,7,8]])\n",
        "arr1 = np.append(arr1, [[9,10,11,12]], axis=0)\n",
        "print(arr1)"
      ],
      "metadata": {
        "colab": {
          "base_uri": "https://localhost:8080/"
        },
        "id": "7wBQle0lEGm9",
        "outputId": "b29f4670-620d-45ef-fec0-18009da8e735"
      },
      "execution_count": null,
      "outputs": [
        {
          "output_type": "stream",
          "name": "stdout",
          "text": [
            "[[ 1  2  3  4]\n",
            " [ 5  6  7  8]\n",
            " [ 9 10 11 12]]\n"
          ]
        }
      ]
    },
    {
      "cell_type": "code",
      "source": [
        "# How to swap the element of the array\n",
        "import numpy as np\n",
        "\n",
        "# create an array and reshape it into 2-D array\n",
        "arr = np.arange(12).reshape(4,3)\n",
        "\n",
        "print(\"Original Array column: \\n\", arr)\n",
        "\n",
        "# swap the array\n",
        "arr[:, [0,2]] = arr[:, [2,0]] # 1st column with last colomn\n",
        "print(\"\\nAfter Swapping column: \\n\", arr)"
      ],
      "metadata": {
        "colab": {
          "base_uri": "https://localhost:8080/"
        },
        "id": "O0MtvqoZEXRR",
        "outputId": "5ab0e7ba-2185-4ed0-e03d-effcdfcec8a6"
      },
      "execution_count": null,
      "outputs": [
        {
          "output_type": "stream",
          "name": "stdout",
          "text": [
            "Original Array: \n",
            " [[ 0  1  2]\n",
            " [ 3  4  5]\n",
            " [ 6  7  8]\n",
            " [ 9 10 11]]\n",
            "\n",
            "After Swapping: \n",
            " [[ 2  1  0]\n",
            " [ 5  4  3]\n",
            " [ 8  7  6]\n",
            " [11 10  9]]\n"
          ]
        }
      ]
    },
    {
      "cell_type": "code",
      "source": [
        "# swap the array raw wise\n",
        "import numpy as np\n",
        "\n",
        "# create an array and reshape it into 2-D array\n",
        "arr = np.arange(12).reshape(4,3)\n",
        "print(\"Original Array raw: \\n\", arr)\n",
        "\n",
        "# swap the raw\n",
        "arr[[0,3], :] = arr[[3,0], :]\n",
        "print(\"\\nAfter Swapping raw: \\n\", arr)\n",
        "\n",
        "\n"
      ],
      "metadata": {
        "colab": {
          "base_uri": "https://localhost:8080/"
        },
        "id": "pEczsB3MIKhA",
        "outputId": "5cd1e3c7-0069-4441-d1bc-a6afc4b52375"
      },
      "execution_count": null,
      "outputs": [
        {
          "output_type": "stream",
          "name": "stdout",
          "text": [
            "Original Array raw: \n",
            " [[ 0  1  2]\n",
            " [ 3  4  5]\n",
            " [ 6  7  8]\n",
            " [ 9 10 11]]\n",
            "\n",
            "After Swapping raw: \n",
            " [[ 9 10 11]\n",
            " [ 3  4  5]\n",
            " [ 6  7  8]\n",
            " [ 0  1  2]]\n"
          ]
        }
      ]
    },
    {
      "cell_type": "code",
      "source": [
        "# find the unique elements from the numpy array\n",
        "import numpy as np\n",
        "\n",
        "# create an 2-d array\n",
        "arr1 = np.array([[2,3,4,5,7],\n",
        "                 [3,5,7,8,9],\n",
        "                 [2,4,6,8,9],\n",
        "                 [8,4,5,7,2]])\n",
        "\n",
        "# find the unique elements\n",
        "unique_arr = np.unique(arr1)\n",
        "print(unique_arr)"
      ],
      "metadata": {
        "colab": {
          "base_uri": "https://localhost:8080/"
        },
        "id": "HVQWaXm1LJz9",
        "outputId": "a6cd8b92-573d-45b8-ea65-483acb166a4e"
      },
      "execution_count": null,
      "outputs": [
        {
          "output_type": "stream",
          "name": "stdout",
          "text": [
            "[2 3 4 5 6 7 8 9]\n"
          ]
        }
      ]
    },
    {
      "cell_type": "code",
      "source": [
        "# np.trim_zeros()-> used to trim the leading &/| trailing zeros form a 1-D array.\n",
        "import numpy as np\n",
        "\n",
        "# array with zeros\n",
        "arr = np.array((0,0,0,1,2,3,0,0,0,5,6,7,0,0))\n",
        "\n",
        "print(np.trim_zeros(arr))\n",
        "\n",
        "\n",
        "# remove the first zero\n",
        "print(np.trim_zeros(arr, 'f'))\n",
        "\n",
        "# remove the last zero\n",
        "print(np.trim_zeros(arr, 'b'))"
      ],
      "metadata": {
        "colab": {
          "base_uri": "https://localhost:8080/"
        },
        "id": "5uAhYVtrOiZl",
        "outputId": "c57026d1-7e32-4d18-c55c-ac100553ca42"
      },
      "execution_count": null,
      "outputs": [
        {
          "output_type": "stream",
          "name": "stdout",
          "text": [
            "[1 2 3 0 0 0 5 6 7]\n",
            "[1 2 3 0 0 0 5 6 7 0 0]\n",
            "[0 0 0 1 2 3 0 0 0 5 6 7]\n"
          ]
        }
      ]
    },
    {
      "cell_type": "code",
      "source": [
        "#\n",
        "import numpy as np\n",
        "\n",
        "# create an 2-d array\n",
        "arr1 = np.array([[2,3,4,5,7],\n",
        "                 [3,5,7,8,9],\n",
        "                 [2,4,6,8,9],\n",
        "                 [8,4,5,7,2]])\n",
        "\n",
        "# find the unique elements\n",
        "unique_arr = np.unique(arr1, axis=1)\n",
        "print(unique_arr)"
      ],
      "metadata": {
        "colab": {
          "base_uri": "https://localhost:8080/"
        },
        "id": "PMjyPrLrNDmR",
        "outputId": "5a6fe25b-1ae7-4ee0-f8f7-798eb9fd8335"
      },
      "execution_count": null,
      "outputs": [
        {
          "output_type": "stream",
          "name": "stdout",
          "text": [
            "[[2 3 4 5 7]\n",
            " [3 5 7 8 9]\n",
            " [2 4 6 8 9]\n",
            " [8 4 5 7 2]]\n"
          ]
        }
      ]
    },
    {
      "cell_type": "code",
      "source": [
        "# using View\n",
        "import numpy as np\n",
        "arr2 = np.array([1,2,3,4,5])\n",
        "x = arr2.view()\n",
        "arr2[0] = 42\n",
        "x[2] = 56\n",
        "\n",
        "print(arr2)\n",
        "print(x)"
      ],
      "metadata": {
        "colab": {
          "base_uri": "https://localhost:8080/"
        },
        "id": "Z4IkCIoNsJRR",
        "outputId": "88ac6d8d-8a52-49f2-a6cf-2a32d262b00e"
      },
      "execution_count": null,
      "outputs": [
        {
          "output_type": "stream",
          "name": "stdout",
          "text": [
            "[42  2 56  4  5]\n",
            "[42  2 56  4  5]\n"
          ]
        }
      ]
    },
    {
      "cell_type": "markdown",
      "source": [
        "## **Shape of the array**\n"
      ],
      "metadata": {
        "id": "dcgCi7NPsrry"
      }
    },
    {
      "cell_type": "markdown",
      "source": [
        "The Number of Elements in each elements of the array is defined as the shape of the array\n"
      ],
      "metadata": {
        "id": "4rvGMvNdtObn"
      }
    },
    {
      "cell_type": "code",
      "source": [
        "# Create an array and get the shape of the array\n",
        "import numpy as np\n",
        "arr = np.array([[1,2,3,4],[5,6,7,8]])\n",
        "print(arr.shape)"
      ],
      "metadata": {
        "colab": {
          "base_uri": "https://localhost:8080/"
        },
        "id": "ufq_Z7A5sTwX",
        "outputId": "11cbda79-b117-4706-848a-967c71dc21cd"
      },
      "execution_count": null,
      "outputs": [
        {
          "output_type": "stream",
          "name": "stdout",
          "text": [
            "(2, 4)\n"
          ]
        }
      ]
    },
    {
      "cell_type": "code",
      "source": [
        "# create an 4d array with the elements and get the shape of the array\n",
        "import numpy as np\n",
        "arr = np.array([1,2,3,4], ndmin=4)\n",
        "print(arr)\n",
        "print(arr.shape)"
      ],
      "metadata": {
        "colab": {
          "base_uri": "https://localhost:8080/"
        },
        "id": "vNX1_XevtlC0",
        "outputId": "e8b210bf-f1fa-474c-a71e-54fd6c17f54f"
      },
      "execution_count": null,
      "outputs": [
        {
          "output_type": "stream",
          "name": "stdout",
          "text": [
            "[[[[1 2 3 4]]]]\n",
            "(1, 1, 1, 4)\n"
          ]
        }
      ]
    },
    {
      "cell_type": "code",
      "source": [
        "# Create an 2 d array and get the shape of the areray\n",
        "import numpy as np\n",
        "\n",
        "arr = np.array([[[1,2,3,4,5], [6,7,8,9,10]], [[11,12,13,14,15], [16,17,18,19,20]]])\n",
        "print(arr)"
      ],
      "metadata": {
        "colab": {
          "base_uri": "https://localhost:8080/"
        },
        "id": "YTuyQnjWtzsd",
        "outputId": "88a9973f-0d89-43c2-ca9b-72202b10c22c"
      },
      "execution_count": null,
      "outputs": [
        {
          "output_type": "stream",
          "name": "stdout",
          "text": [
            "[[[ 1  2  3  4  5]\n",
            "  [ 6  7  8  9 10]]\n",
            "\n",
            " [[11 12 13 14 15]\n",
            "  [16 17 18 19 20]]]\n"
          ]
        }
      ]
    },
    {
      "cell_type": "markdown",
      "source": [
        "## **Numpy Array Reshaping**"
      ],
      "metadata": {
        "id": "Hp2iRBBYuFK2"
      }
    },
    {
      "cell_type": "markdown",
      "source": [
        "Changing the shape of the array"
      ],
      "metadata": {
        "id": "bK4Z3ZM2uTGJ"
      }
    },
    {
      "cell_type": "code",
      "source": [
        "# how to create an 1 array into the 2d array\n",
        "\n",
        "# -> reshape(rows, colon)\n",
        "import numpy as np\n",
        "\n",
        "arr1 = np.array([1,2,3,4,5,6,7,8,9,10,11,12])\n",
        "newarr = arr1.reshape(4,3)\n",
        "print(newarr)\n",
        "\n",
        "print(\"\\nThe dimension of the array is: \", newarr.ndim)\n",
        "print(\"\\nThe shape of the array is: \", newarr.shape)\n"
      ],
      "metadata": {
        "colab": {
          "base_uri": "https://localhost:8080/"
        },
        "id": "CzlXlkMGuBGv",
        "outputId": "a4d462e8-fc01-4cbd-d292-d47135f72f8f"
      },
      "execution_count": null,
      "outputs": [
        {
          "output_type": "stream",
          "name": "stdout",
          "text": [
            "[[ 1  2  3]\n",
            " [ 4  5  6]\n",
            " [ 7  8  9]\n",
            " [10 11 12]]\n",
            "\n",
            "The dimension of the array is:  2\n",
            "\n",
            " the shape of the array is:  (4, 3)\n"
          ]
        }
      ]
    },
    {
      "cell_type": "code",
      "source": [
        "# reshape the array into 4-d\n",
        "\n",
        "import numpy as np\n",
        "\n",
        "arr1 = np.array([1,2,3,4,5,6,7,8,9,10,11,12,13,14,15,16])\n",
        "newarr = arr1.reshape(2,4,1,2)\n",
        "print(newarr)\n",
        "\n",
        "print(\"\\nThe dimension of the array is: \", newarr.ndim)\n",
        "print(\"\\n the shape of the array is: \", newarr.shape)"
      ],
      "metadata": {
        "colab": {
          "base_uri": "https://localhost:8080/"
        },
        "id": "_CEhYZU6u3Iw",
        "outputId": "18cf8bc5-6029-42fd-a1de-9e21a0401fe5"
      },
      "execution_count": null,
      "outputs": [
        {
          "output_type": "stream",
          "name": "stdout",
          "text": [
            "[[[[ 1  2]]\n",
            "\n",
            "  [[ 3  4]]\n",
            "\n",
            "  [[ 5  6]]\n",
            "\n",
            "  [[ 7  8]]]\n",
            "\n",
            "\n",
            " [[[ 9 10]]\n",
            "\n",
            "  [[11 12]]\n",
            "\n",
            "  [[13 14]]\n",
            "\n",
            "  [[15 16]]]]\n",
            "\n",
            "The dimension of the array is:  4\n",
            "\n",
            " the shape of the array is:  (2, 4, 1, 2)\n"
          ]
        }
      ]
    },
    {
      "cell_type": "code",
      "source": [
        "# Flattening the array by converting multidimensional array in 1-d\n",
        "\n",
        "import numpy as np\n",
        "arr1 = np.array([[1,2,3,4,5], [6,7,8,9,10]])\n",
        "newarr = arr1.reshape(-1)"
      ],
      "metadata": {
        "id": "voYMKODSv9Y7"
      },
      "execution_count": null,
      "outputs": []
    },
    {
      "cell_type": "markdown",
      "source": [
        "## **Numpy Array Iterating**"
      ],
      "metadata": {
        "id": "bsoGf9Q8xsB6"
      }
    },
    {
      "cell_type": "code",
      "source": [
        "# iterate the element of the 1-d array\n",
        "import numpy as np\n",
        "arr = np.array([1,2,3,4,5,6,7,8,9])\n",
        "for x in arr:\n",
        "  print(x)"
      ],
      "metadata": {
        "colab": {
          "base_uri": "https://localhost:8080/"
        },
        "id": "ynJ-R4Hxx3MQ",
        "outputId": "80d85837-b449-4093-ffcd-b274299af2a1"
      },
      "execution_count": null,
      "outputs": [
        {
          "output_type": "stream",
          "name": "stdout",
          "text": [
            "1\n",
            "2\n",
            "3\n",
            "4\n",
            "5\n",
            "6\n",
            "7\n",
            "8\n",
            "9\n"
          ]
        }
      ]
    },
    {
      "cell_type": "code",
      "source": [
        "# Iterate the element of the 2-d array\n",
        "import numpy as np\n",
        "arr = np.array([[1,2,3,4,5], [6,7,8,9,10]])\n",
        "\n",
        "for i in arr:\n",
        "  for j in i:\n",
        "    print(j)"
      ],
      "metadata": {
        "colab": {
          "base_uri": "https://localhost:8080/"
        },
        "id": "LUS4vvFyyDuU",
        "outputId": "c044e04e-0930-43cb-8a86-c1496e69b3d5"
      },
      "execution_count": null,
      "outputs": [
        {
          "output_type": "stream",
          "name": "stdout",
          "text": [
            "1\n",
            "2\n",
            "3\n",
            "4\n",
            "5\n",
            "6\n",
            "7\n",
            "8\n",
            "9\n",
            "10\n"
          ]
        }
      ]
    },
    {
      "cell_type": "code",
      "source": [
        "# iterate the element of the 3-d array\n",
        "import numpy as np\n",
        "\n",
        "arr1 = np.array([1,2,3,4,5,6,7,8,9,10,11,12,13,14,15,16,17,18])\n",
        "new_arr = arr1.reshape(3,3,2)\n",
        "\n",
        "print\n",
        "print(new_arr)\n",
        "\n",
        "for i in new_arr:\n",
        "  for j in i:\n",
        "    for k in j:\n",
        "      print(k, end=\" \")"
      ],
      "metadata": {
        "colab": {
          "base_uri": "https://localhost:8080/"
        },
        "id": "f48ZmQQqzvkt",
        "outputId": "ac152ed3-9bef-48a8-cbd7-83ef8bcc6c9c"
      },
      "execution_count": null,
      "outputs": [
        {
          "output_type": "stream",
          "name": "stdout",
          "text": [
            "[[[ 1  2]\n",
            "  [ 3  4]\n",
            "  [ 5  6]]\n",
            "\n",
            " [[ 7  8]\n",
            "  [ 9 10]\n",
            "  [11 12]]\n",
            "\n",
            " [[13 14]\n",
            "  [15 16]\n",
            "  [17 18]]]\n",
            "1 2 3 4 5 6 7 8 9 10 11 12 13 14 15 16 17 18 "
          ]
        }
      ]
    },
    {
      "cell_type": "code",
      "source": [
        "# Iterating the array using nditer() in numpy\n",
        "arr1 = np.array([1,2,3,4,5,6,7,8,9,10,11,12,13,14,15,16,17,18])\n",
        "new_arr = arr1.reshape(3,3,2)\n",
        "\n",
        "print(\"\\nThe new array is: \", new_arr)\n",
        "\n",
        "print(\"\\nThe iterartion of the array is: \")\n",
        "for i in np.nditer(new_arr):\n",
        "  print(i, end=\" \")"
      ],
      "metadata": {
        "colab": {
          "base_uri": "https://localhost:8080/"
        },
        "id": "XQ-u3_Gt0xbQ",
        "outputId": "af666a3e-fff5-43fe-f1fb-0acafe00c622"
      },
      "execution_count": null,
      "outputs": [
        {
          "output_type": "stream",
          "name": "stdout",
          "text": [
            "\n",
            "The new array is:  [[[ 1  2]\n",
            "  [ 3  4]\n",
            "  [ 5  6]]\n",
            "\n",
            " [[ 7  8]\n",
            "  [ 9 10]\n",
            "  [11 12]]\n",
            "\n",
            " [[13 14]\n",
            "  [15 16]\n",
            "  [17 18]]]\n",
            "\n",
            "The iterartion of the array is: \n",
            "1 2 3 4 5 6 7 8 9 10 11 12 13 14 15 16 17 18 "
          ]
        }
      ]
    },
    {
      "cell_type": "code",
      "source": [
        "# We can iterate with difference stpes and sizes\n",
        "arr1 = np.array([1,2,3,4,5,6,7,8,9,10,11,12,13,14,15,16,17,18])\n",
        "new_arr = arr1.reshape(3,3,2)\n",
        "\n",
        "print(\"\\nThe new array is: \", new_arr)\n",
        "\n",
        "print(\"\\nThe iterartion of the array is: \")\n",
        "for i in np.nditer(new_arr[:, ::2]):\n",
        "  print(i, end=\" \")\n"
      ],
      "metadata": {
        "colab": {
          "base_uri": "https://localhost:8080/"
        },
        "id": "wj2Eg5Se2bV7",
        "outputId": "10a3ffe6-3296-4d30-e2a8-7eac4f02ce52"
      },
      "execution_count": null,
      "outputs": [
        {
          "output_type": "stream",
          "name": "stdout",
          "text": [
            "\n",
            "The new array is:  [[[ 1  2]\n",
            "  [ 3  4]\n",
            "  [ 5  6]]\n",
            "\n",
            " [[ 7  8]\n",
            "  [ 9 10]\n",
            "  [11 12]]\n",
            "\n",
            " [[13 14]\n",
            "  [15 16]\n",
            "  [17 18]]]\n",
            "\n",
            "The iterartion of the array is: \n",
            "1 2 5 6 7 8 11 12 13 14 17 18 "
          ]
        }
      ]
    },
    {
      "cell_type": "markdown",
      "source": [
        "## **Numpy Joining**"
      ],
      "metadata": {
        "id": "QSN3NXjb3hAU"
      }
    },
    {
      "cell_type": "markdown",
      "source": [
        "More the one arrays combine together"
      ],
      "metadata": {
        "id": "-5XHcxNd3n9z"
      }
    },
    {
      "cell_type": "code",
      "source": [
        "# joining the numpy array using concatenate function()\n",
        "import numpy as np\n",
        "arr1 = np.array([1,2,3,4,5])\n",
        "arr2 = np.array([6,7,8,9,10])\n",
        "\n",
        "arr = np.concatenate((arr1, arr2))\n",
        "print(arr)"
      ],
      "metadata": {
        "colab": {
          "base_uri": "https://localhost:8080/"
        },
        "id": "2NVPrDqK3HB8",
        "outputId": "3bd1603d-73c4-4aad-cabc-c23ee129b6da"
      },
      "execution_count": null,
      "outputs": [
        {
          "output_type": "stream",
          "name": "stdout",
          "text": [
            "[ 1  2  3  4  5  6  7  8  9 10]\n"
          ]
        }
      ]
    },
    {
      "cell_type": "code",
      "source": [
        "# joining the 2d array\n",
        "import numpy as np\n",
        "\n",
        "arr1  = np.array([[1,2,3,4,5], [6,7,8,9,10]])\n",
        "arr2 = np.array([[11,12,13,14,15], [16,17,18,19,20]])\n",
        "\n",
        "# we can concatenate the 2d array on the basis of axis\n",
        "\n",
        "# axis = 0 --> defines rows\n",
        "# axis = 1 --> defines column (2d array)\n",
        "new_arr = np.concatenate((arr1, arr2), axis = 1) #  on the basis of column arr1[0] + arr2[0] ---> [1,2,3,5,11,12,13,14,15]\n",
        "print(new_arr)\n"
      ],
      "metadata": {
        "colab": {
          "base_uri": "https://localhost:8080/"
        },
        "id": "p5C-wFZp30Wq",
        "outputId": "472d29f8-cb3e-4075-99a6-7ac5607b6e44"
      },
      "execution_count": null,
      "outputs": [
        {
          "output_type": "stream",
          "name": "stdout",
          "text": [
            "[[ 1  2  3  4  5 11 12 13 14 15]\n",
            " [ 6  7  8  9 10 16 17 18 19 20]]\n"
          ]
        }
      ]
    },
    {
      "cell_type": "code",
      "source": [
        "# we can join the multiple array by using stack function as well\n",
        "import numpy as np\n",
        "arr1 = np.array([1,2,3,4,5])\n",
        "arr2 = np.array([6,7,8,9,10])\n",
        "\n",
        "new_arr = np.stack((arr1, arr2), axis=1) # by using index value\n",
        "print(new_arr)"
      ],
      "metadata": {
        "colab": {
          "base_uri": "https://localhost:8080/"
        },
        "id": "XcYX9VQr4veY",
        "outputId": "fc0871ce-601d-4a1d-9330-75f2115da413"
      },
      "execution_count": null,
      "outputs": [
        {
          "output_type": "stream",
          "name": "stdout",
          "text": [
            "[[ 1  6]\n",
            " [ 2  7]\n",
            " [ 3  8]\n",
            " [ 4  9]\n",
            " [ 5 10]]\n"
          ]
        }
      ]
    },
    {
      "cell_type": "code",
      "source": [
        "# we can use\n",
        "# hstack --> for horizontol stack\n",
        "# vstack --> vertical stack\n",
        "# dstack --> depth stack\n",
        "\n",
        "import numpy as np\n",
        "\n",
        "arr1 =  np.array([1,2,3,4,5])\n",
        "arr2 = np.array([6,7,8,9,10])\n",
        "\n",
        "new_arr = np.hstack((arr1, arr2))\n",
        "print(new_arr)"
      ],
      "metadata": {
        "colab": {
          "base_uri": "https://localhost:8080/"
        },
        "id": "q80OEtYc6UmQ",
        "outputId": "d2df4080-3415-4ba6-c6d7-6ff242f47236"
      },
      "execution_count": null,
      "outputs": [
        {
          "output_type": "stream",
          "name": "stdout",
          "text": [
            "[ 1  2  3  4  5  6  7  8  9 10]\n"
          ]
        }
      ]
    },
    {
      "cell_type": "code",
      "source": [
        "arr1 =  np.array([1,2,3,4,5])\n",
        "arr2 = np.array([6,7,8,9,10])\n",
        "\n",
        "print(np.vstack((arr1, arr2)))"
      ],
      "metadata": {
        "colab": {
          "base_uri": "https://localhost:8080/"
        },
        "id": "oP6yBEt-7jE0",
        "outputId": "80e40940-d65f-4d96-bd6c-777f10013e3e"
      },
      "execution_count": null,
      "outputs": [
        {
          "output_type": "stream",
          "name": "stdout",
          "text": [
            "[[ 1  2  3  4  5]\n",
            " [ 6  7  8  9 10]]\n"
          ]
        }
      ]
    },
    {
      "cell_type": "code",
      "source": [
        "arr1 =  np.array([1,2,3,4,5])\n",
        "arr2 = np.array([6,7,8,9,10])\n",
        "print(np.dstack((arr1, arr2)))"
      ],
      "metadata": {
        "colab": {
          "base_uri": "https://localhost:8080/"
        },
        "id": "lEOhuG2Z7szn",
        "outputId": "37a09183-091e-414e-e072-59fe0acc5ef5"
      },
      "execution_count": null,
      "outputs": [
        {
          "output_type": "stream",
          "name": "stdout",
          "text": [
            "[[[ 1  6]\n",
            "  [ 2  7]\n",
            "  [ 3  8]\n",
            "  [ 4  9]\n",
            "  [ 5 10]]]\n"
          ]
        }
      ]
    },
    {
      "cell_type": "markdown",
      "source": [
        "## **Splitting Numpy Array**"
      ],
      "metadata": {
        "id": "ZZBe_dV_8K2o"
      }
    },
    {
      "cell_type": "code",
      "source": [
        "# We can splitv the array by using array_split(arrName, N):-\n",
        "# N:- defines the number of splitted array\n",
        "import numpy as np\n",
        "arr = np.array([1,2,3,4,5,6,7,8,9,10])\n",
        "new_arr = np.array_split(arr, 4) # split the array into 4 parts\n",
        "print(new_arr)\n",
        "\n",
        "# if the number of elements is not divisible by N, then it'll take the first elents value"
      ],
      "metadata": {
        "id": "mxluvr9_7v-A",
        "colab": {
          "base_uri": "https://localhost:8080/"
        },
        "outputId": "80113412-b368-400f-bfcc-413f59eb3c0b"
      },
      "execution_count": null,
      "outputs": [
        {
          "output_type": "stream",
          "name": "stdout",
          "text": [
            "[array([1, 2, 3]), array([4, 5, 6]), array([7, 8]), array([ 9, 10])]\n"
          ]
        }
      ]
    },
    {
      "cell_type": "code",
      "source": [
        "# Lets see how actually splitting is working\n",
        "import numpy as np\n",
        "\n",
        "arr = np.array(range(1,20))\n",
        "new_arr = np.array_split(arr, 4)\n",
        "print(new_arr)"
      ],
      "metadata": {
        "colab": {
          "base_uri": "https://localhost:8080/"
        },
        "id": "tzbz3VJqXqZ_",
        "outputId": "fa40a4af-7c0d-44a7-865a-bb0cf54cd094"
      },
      "execution_count": null,
      "outputs": [
        {
          "output_type": "stream",
          "name": "stdout",
          "text": [
            "[array([1, 2, 3, 4, 5]), array([ 6,  7,  8,  9, 10]), array([11, 12, 13, 14, 15]), array([16, 17, 18, 19])]\n"
          ]
        }
      ]
    },
    {
      "cell_type": "code",
      "source": [
        "# Splitting the 2d array\n",
        "import numpy as np\n",
        "\n",
        "arr = np.array([[1,2,3,4,5], [6,7,8,9,10]])\n",
        "new_arr = np.array_split(arr, 4, axis = 1)\n",
        "print(new_arr)"
      ],
      "metadata": {
        "colab": {
          "base_uri": "https://localhost:8080/"
        },
        "id": "LTBSSMsPcX3r",
        "outputId": "fef3fe00-04cf-4396-b37f-e872b8b9d305"
      },
      "execution_count": null,
      "outputs": [
        {
          "output_type": "stream",
          "name": "stdout",
          "text": [
            "[array([[1, 2],\n",
            "       [6, 7]]), array([[3],\n",
            "       [8]]), array([[4],\n",
            "       [9]]), array([[ 5],\n",
            "       [10]])]\n"
          ]
        }
      ]
    },
    {
      "cell_type": "code",
      "source": [
        "# we can use hsplit(), vsplit(), and dsplit() as well\n",
        "import numpy as np\n",
        "\n",
        "arr = np.array([[1,2,3,4,5], [6,7,8,9,10]])\n",
        "new_arr = np.hsplit(arr, 5)\n",
        "print(new_arr)"
      ],
      "metadata": {
        "colab": {
          "base_uri": "https://localhost:8080/"
        },
        "id": "iTL6G_QFc5I8",
        "outputId": "1259154d-857a-410e-8275-a4380347eee4"
      },
      "execution_count": null,
      "outputs": [
        {
          "output_type": "stream",
          "name": "stdout",
          "text": [
            "[array([[1],\n",
            "       [6]]), array([[2],\n",
            "       [7]]), array([[3],\n",
            "       [8]]), array([[4],\n",
            "       [9]]), array([[ 5],\n",
            "       [10]])]\n"
          ]
        }
      ]
    },
    {
      "cell_type": "markdown",
      "source": [
        "## **Numpy Searching**"
      ],
      "metadata": {
        "id": "oVMkuya-dukL"
      }
    },
    {
      "cell_type": "markdown",
      "source": [
        "We can search the element from the array and get the index of searched number\n"
      ],
      "metadata": {
        "id": "tX2uGOSsdyyH"
      }
    },
    {
      "cell_type": "code",
      "source": [
        "# We'll implemnt the array\n",
        "\n",
        "import numpy as np\n",
        "\n",
        "arr = np.array([1,2,3,4,5,6,7,8,9,10])\n",
        "x = np.where(arr == 4)  # search the 4 elemet and return the index/ies of the array\n",
        "print(x)\n"
      ],
      "metadata": {
        "colab": {
          "base_uri": "https://localhost:8080/"
        },
        "id": "et3wBXWkdyH3",
        "outputId": "b529a911-1491-4101-b772-e8b28067428a"
      },
      "execution_count": null,
      "outputs": [
        {
          "output_type": "stream",
          "name": "stdout",
          "text": [
            "(array([3]),)\n"
          ]
        }
      ]
    },
    {
      "cell_type": "code",
      "source": [
        "# We can find all the even number from the array\n",
        "import numpy as np\n",
        "\n",
        "arr = np.array([1,2,3,4,5,6,7,8,9,10])\n",
        "\n",
        "x = np.where(arr%2 == 0)\n",
        "print(x)\n"
      ],
      "metadata": {
        "colab": {
          "base_uri": "https://localhost:8080/"
        },
        "id": "moVv0JQ4eCWY",
        "outputId": "8227464f-504f-428a-d893-f5403e51a6c4"
      },
      "execution_count": null,
      "outputs": [
        {
          "output_type": "stream",
          "name": "stdout",
          "text": [
            "(array([1, 3, 5, 7, 9]),)\n"
          ]
        }
      ]
    },
    {
      "cell_type": "code",
      "source": [
        "# We can performthe binary search using searchsorted()\n",
        "\n",
        "import numpy as np\n",
        "\n",
        "# create an array\n",
        "arr = np.array(range(10,25))\n",
        "\n",
        "print(arr)\n",
        "\n",
        "# perform the binary search\n",
        "\n",
        "x = np.searchsorted(arr, 12)\n",
        "print(x)"
      ],
      "metadata": {
        "colab": {
          "base_uri": "https://localhost:8080/"
        },
        "id": "zpn7Pp1ceX13",
        "outputId": "a6d62369-ea69-4f0a-e627-136937b76c35"
      },
      "execution_count": null,
      "outputs": [
        {
          "output_type": "stream",
          "name": "stdout",
          "text": [
            "[10 11 12 13 14 15 16 17 18 19 20 21 22 23 24]\n",
            "2\n"
          ]
        }
      ]
    },
    {
      "cell_type": "code",
      "source": [
        "# we can pass the parameter as well\n",
        "import numpy as np\n",
        "\n",
        "arr = np.array(range(10,25))\n",
        "\n",
        "print(arr)\n",
        "\n",
        "# perform the binary search\n",
        "\n",
        "x = np.searchsorted(arr, 23, side='right')\n",
        "print(x)\n"
      ],
      "metadata": {
        "colab": {
          "base_uri": "https://localhost:8080/"
        },
        "id": "mb29oWkHfBGI",
        "outputId": "267e1f6f-6472-44e4-bf35-6a7051c09a30"
      },
      "execution_count": null,
      "outputs": [
        {
          "output_type": "stream",
          "name": "stdout",
          "text": [
            "[10 11 12 13 14 15 16 17 18 19 20 21 22 23 24]\n",
            "14\n"
          ]
        }
      ]
    },
    {
      "cell_type": "code",
      "source": [
        "# how to r=search multiple values in array\n",
        "import numpy as np\n",
        "\n",
        "arr = np.array(range(0,30, 2))\n",
        "\n",
        "print(\"The array is: \", arr)\n",
        "\n",
        "# find thye index of multiple element index from the array using where() function\n",
        "x = np.where((arr >= 10) & (arr <= 18))\n",
        "print(x)"
      ],
      "metadata": {
        "colab": {
          "base_uri": "https://localhost:8080/"
        },
        "id": "nFQvjfROfein",
        "outputId": "81b9785e-61e6-4bf0-f086-2efdec83b42a"
      },
      "execution_count": null,
      "outputs": [
        {
          "output_type": "stream",
          "name": "stdout",
          "text": [
            "The array is:  [ 0  2  4  6  8 10 12 14 16 18 20 22 24 26 28]\n",
            "(array([5, 6, 7, 8, 9]),)\n"
          ]
        }
      ]
    },
    {
      "cell_type": "code",
      "source": [
        "# using searchsorted()\n",
        "\n",
        "import numpy as np\n",
        "\n",
        "# create an array\n",
        "arr = np.array(range(1, 50, 3))\n",
        "print(arr)\n",
        "\n",
        "# find the index of the follwing items in the array\n",
        "x = np.searchsorted(arr, [7,4,31])\n",
        "print(x)\n",
        "\n",
        "print(arr)"
      ],
      "metadata": {
        "colab": {
          "base_uri": "https://localhost:8080/"
        },
        "id": "AS0fGhE2gPyx",
        "outputId": "d46928f7-82d3-4d17-ae38-7dc947df34d0"
      },
      "execution_count": null,
      "outputs": [
        {
          "output_type": "stream",
          "name": "stdout",
          "text": [
            "[ 1  4  7 10 13 16 19 22 25 28 31 34 37 40 43 46 49]\n",
            "[ 2  1 10]\n",
            "[ 1  4  7 10 13 16 19 22 25 28 31 34 37 40 43 46 49]\n"
          ]
        }
      ]
    },
    {
      "cell_type": "markdown",
      "source": [
        "## **Sorting the array**"
      ],
      "metadata": {
        "id": "SMAUSqAqhbof"
      }
    },
    {
      "cell_type": "markdown",
      "source": [
        "Arranging the array into some order\n"
      ],
      "metadata": {
        "id": "r7vlxOELhg1v"
      }
    },
    {
      "cell_type": "code",
      "source": [
        "# We can sort the array using sort() function\n",
        "\n",
        "import numpy as np\n",
        "\n",
        "# create an array\n",
        "\n",
        "arr = np.array([3,2,7,0,5,6,12,56,23,])\n",
        "\n",
        "# print the arrayy of the  original array\n",
        "print(\"the original array is: \", arr)\n",
        "\n",
        "# we can sort the array\n",
        "print(\"The sorted array is: \", np.sort(arr))\n"
      ],
      "metadata": {
        "colab": {
          "base_uri": "https://localhost:8080/"
        },
        "id": "aV2PBBz5g-tP",
        "outputId": "73222a2e-d09b-4be2-c96e-b3356853e926"
      },
      "execution_count": null,
      "outputs": [
        {
          "output_type": "stream",
          "name": "stdout",
          "text": [
            "the original array is:  [ 3  2  7  0  5  6 12 56 23]\n",
            "The sorted array is:  [ 0  2  3  5  6  7 12 23 56]\n"
          ]
        }
      ]
    },
    {
      "cell_type": "code",
      "source": [
        "# we can sort the array alphabetically\n",
        "import numpy as np\n",
        "\n",
        "# create and print the array\n",
        "arr = np.array([\"apple\", \"cherr\", \"orange\", \"mango\", \"banana\"])\n",
        "print(np.sort(arr))"
      ],
      "metadata": {
        "colab": {
          "base_uri": "https://localhost:8080/"
        },
        "id": "LvVkCYErhqj5",
        "outputId": "186bf7cf-7f99-48e9-c827-445b9db92247"
      },
      "execution_count": null,
      "outputs": [
        {
          "output_type": "stream",
          "name": "stdout",
          "text": [
            "['apple' 'banana' 'cherr' 'mango' 'orange']\n"
          ]
        }
      ]
    },
    {
      "cell_type": "code",
      "source": [
        "# we can sort the 2-D array as well\n",
        "\n",
        "import numpy as np\n",
        "\n",
        "# create an 2-d array\n",
        "arr = np.array([[5,4,6,8,2,1,7], [9,8,7,8,9,0,1]])\n",
        "print(np.sort(arr))"
      ],
      "metadata": {
        "colab": {
          "base_uri": "https://localhost:8080/"
        },
        "id": "9N6MfhhuiZZg",
        "outputId": "3a7c3a73-161d-456d-e36a-cddeed29458a"
      },
      "execution_count": null,
      "outputs": [
        {
          "output_type": "stream",
          "name": "stdout",
          "text": [
            "[[1 2 4 5 6 7 8]\n",
            " [0 1 7 8 8 9 9]]\n"
          ]
        }
      ]
    },
    {
      "cell_type": "markdown",
      "source": [
        "## **Numpy Filter**"
      ],
      "metadata": {
        "id": "ioo12rZTjEJ9"
      }
    },
    {
      "cell_type": "markdown",
      "source": [
        "We can create an array by applying some conditions from the existing array is known as filter"
      ],
      "metadata": {
        "id": "kEEOinUqjX9D"
      }
    },
    {
      "cell_type": "code",
      "source": [
        "# How to filter the element of the array\n",
        "import numpy as np\n",
        "\n",
        "# create an array\n",
        "arr = np.array(range(30,50))\n",
        "print(\"\\nThe elements of the array:\")\n",
        "print(arr)\n",
        "\n",
        "\n",
        "# create an empty list\n",
        "li = []\n",
        "\n",
        "# apply the filter function and find the value which is divisible by 2\n",
        "for i in arr:\n",
        "  if i%2 == 0:\n",
        "    li.append(i)\n",
        "  else:\n",
        "    None\n",
        "\n",
        "print(li)\n"
      ],
      "metadata": {
        "colab": {
          "base_uri": "https://localhost:8080/"
        },
        "id": "nZODghf0i1j0",
        "outputId": "3d0c25f1-bbdf-4ea8-a0fd-db823bba9660"
      },
      "execution_count": null,
      "outputs": [
        {
          "output_type": "stream",
          "name": "stdout",
          "text": [
            "\n",
            "The elements of the array:\n",
            "[30 31 32 33 34 35 36 37 38 39 40 41 42 43 44 45 46 47 48 49]\n",
            "[30, 32, 34, 36, 38, 40, 42, 44, 46, 48]\n"
          ]
        }
      ]
    },
    {
      "cell_type": "markdown",
      "source": [
        "## **Matrix Manipulation**"
      ],
      "metadata": {
        "id": "j_bL-K_3Pukz"
      }
    },
    {
      "cell_type": "markdown",
      "source": [
        "### Operation of Matrix\n",
        "\n",
        "1. **add()** :- perform element wise matrix addition\n",
        "2. **subtract()** :- perform element wise matrix subtract\n",
        "3. **divide()** :- perform element wise matrix division\n",
        "4. **multiply()**:- perform element wise matrix multiply\n",
        "5. **dot()** :- matrix multiplication, rather than element wise matrix multiplcation"
      ],
      "metadata": {
        "id": "B5dWemfxP7jr"
      }
    },
    {
      "cell_type": "code",
      "source": [
        "# Perform the operations.\n",
        "import numpy as np\n",
        "\n",
        "# create an array\n",
        "arr1 = np.array([[1,2,3,4,5], [6,7,8,9,10]])\n",
        "arr2 = np.array([[10,20,30,40,50], [60,70,80,90,100]])\n",
        "\n",
        "# add the array\n",
        "print(\"\\nThe addition: \\n\",np.add(arr2, arr1))\n",
        "\n",
        "# subtract the array\n",
        "print(\"\\nThe subtraction: \\n\",np.subtract(arr2, arr1))\n",
        "\n",
        "# divide the array\n",
        "print(\"\\nThe division: \\n\",np.divide(arr2, arr1))\n",
        "\n",
        "# multiply the array\n",
        "print(\"\\nThe multiplication: \\n\",np.multiply(arr2, arr1))\n",
        "\n",
        "# dot the array\n",
        "\n"
      ],
      "metadata": {
        "colab": {
          "base_uri": "https://localhost:8080/"
        },
        "id": "Go3060hBP2Vr",
        "outputId": "ff9f1bfb-ffb7-4730-fa51-1b63b04eef4f"
      },
      "execution_count": null,
      "outputs": [
        {
          "output_type": "stream",
          "name": "stdout",
          "text": [
            "\n",
            "The addition: \n",
            " [[ 11  22  33  44  55]\n",
            " [ 66  77  88  99 110]]\n",
            "\n",
            "The subtraction: \n",
            " [[ 9 18 27 36 45]\n",
            " [54 63 72 81 90]]\n",
            "\n",
            "The division: \n",
            " [[10. 10. 10. 10. 10.]\n",
            " [10. 10. 10. 10. 10.]]\n",
            "\n",
            "The multiplication: \n",
            " [[  10   40   90  160  250]\n",
            " [ 360  490  640  810 1000]]\n"
          ]
        }
      ]
    },
    {
      "cell_type": "markdown",
      "source": [
        "## **Binary Operations**"
      ],
      "metadata": {
        "id": "bbOmslT_Ssp2"
      }
    },
    {
      "cell_type": "code",
      "source": [
        "# np.bitwise_and():-\n",
        "import numpy as np\n",
        "\n",
        "# create two variable\n",
        "a = 9\n",
        "b = 10\n",
        "\n",
        "# ----- Explanation ------\n",
        "# 9\n",
        "# 8 4 2 1\n",
        "# 1 0 0 1\n",
        "# -------------\n",
        "# 10\n",
        "# 8 4 2 1\n",
        "# 1 0 1 0\n",
        "# -------------\n",
        "# 1 0 0 1\n",
        "# 1 0 1 0 x\n",
        "# --------------\n",
        "# 1 0 0 0 --> 8\n",
        "\n",
        "# perform the bitwise and operation\n",
        "print(np.bitwise_and(a,b))"
      ],
      "metadata": {
        "colab": {
          "base_uri": "https://localhost:8080/"
        },
        "id": "WPmV-2k8QzJx",
        "outputId": "7bf5717d-47d5-447c-f9d3-25452c636f6d"
      },
      "execution_count": null,
      "outputs": [
        {
          "output_type": "stream",
          "name": "stdout",
          "text": [
            "8\n"
          ]
        }
      ]
    },
    {
      "cell_type": "code",
      "source": [
        "# np.bitwise_and():-\n",
        "import numpy as np\n",
        "\n",
        "# create two variable\n",
        "a = 9\n",
        "b = 10\n",
        "\n",
        "# ----- Explanation ------\n",
        "# 9\n",
        "# 8 4 2 1\n",
        "# 1 0 0 1\n",
        "# -------------\n",
        "# 10\n",
        "# 8 4 2 1\n",
        "# 1 0 1 0\n",
        "# -------------\n",
        "# 1 0 0 1\n",
        "# 1 0 1 0 +\n",
        "# --------------\n",
        "# 1 0 1 1 -->\n",
        "\n",
        "# perform the bitwise and operation\n",
        "print(np.bitwise_or(a,b))"
      ],
      "metadata": {
        "colab": {
          "base_uri": "https://localhost:8080/"
        },
        "id": "KmhAWg56TT9j",
        "outputId": "cb3377e5-b17c-4883-fd1d-a02ed700e565"
      },
      "execution_count": null,
      "outputs": [
        {
          "output_type": "stream",
          "name": "stdout",
          "text": [
            "11\n"
          ]
        }
      ]
    },
    {
      "cell_type": "code",
      "source": [
        "# np.bitwise_and():-\n",
        "import numpy as np\n",
        "\n",
        "# create two variable\n",
        "a = 9\n",
        "b = 10\n",
        "\n",
        "# ----- Explanation ------\n",
        "# 9\n",
        "# 8 4 2 1\n",
        "# 1 0 0 1\n",
        "# -------------\n",
        "# 10\n",
        "# 8 4 2 1\n",
        "# 1 0 1 0\n",
        "# -------------\n",
        "# 1 0 0 1\n",
        "# 1 0 1 0 x-1\n",
        "# --------------\n",
        "# 0 0 1 1 --> 3\n",
        "\n",
        "# perform the bitwise and operation\n",
        "print(np.bitwise_xor(a,b))"
      ],
      "metadata": {
        "colab": {
          "base_uri": "https://localhost:8080/"
        },
        "id": "71NoByW4UnL9",
        "outputId": "434b2dbf-cae3-4fcb-afe3-221c294d6961"
      },
      "execution_count": null,
      "outputs": [
        {
          "output_type": "stream",
          "name": "stdout",
          "text": [
            "3\n"
          ]
        }
      ]
    },
    {
      "cell_type": "code",
      "source": [
        "# invert()\n",
        "\n",
        "import numpy as np\n",
        "\n",
        "a = 20\n",
        "print(a)\n",
        "\n",
        "# invert it\n",
        "print(np.invert(a))"
      ],
      "metadata": {
        "colab": {
          "base_uri": "https://localhost:8080/"
        },
        "id": "2jhQ9R1bUyXx",
        "outputId": "f6041fea-7b17-4f38-9f88-512070d7f3f6"
      },
      "execution_count": null,
      "outputs": [
        {
          "output_type": "stream",
          "name": "stdout",
          "text": [
            "20\n",
            "-21\n"
          ]
        }
      ]
    },
    {
      "cell_type": "code",
      "source": [
        "# left_shift():-\n",
        "# right_shift():-\n"
      ],
      "metadata": {
        "id": "yOV5HC7MVRM1"
      },
      "execution_count": null,
      "outputs": []
    },
    {
      "cell_type": "markdown",
      "source": [
        "## **String Operations**"
      ],
      "metadata": {
        "id": "sgv8A3BPVqcr"
      }
    },
    {
      "cell_type": "code",
      "source": [
        "# 1. np.char.lower():-\n",
        "\n",
        "import numpy as np\n",
        "\n",
        "# converting into lowercase\n",
        "print(np.char.lower([\"HEllO\", \"WORLD!\"]))\n",
        "\n",
        "# 2. np.char.upper()\n",
        "print(np.char.upper([\"Sunday\", \"mONDAY\"]))\n",
        "\n",
        "\n"
      ],
      "metadata": {
        "colab": {
          "base_uri": "https://localhost:8080/"
        },
        "id": "pKhr2oaLV6uI",
        "outputId": "4c8e5d8f-37ac-44a1-9189-5b73cabe6536"
      },
      "execution_count": null,
      "outputs": [
        {
          "output_type": "stream",
          "name": "stdout",
          "text": [
            "['hello' 'world!']\n",
            "['SUNDAY' 'MONDAY']\n"
          ]
        }
      ]
    },
    {
      "cell_type": "code",
      "source": [
        "# we can apply all the string functions to the numpy array as well by using np.char.fun_name()"
      ],
      "metadata": {
        "id": "B43BuIH_Ww3s"
      },
      "execution_count": null,
      "outputs": []
    },
    {
      "cell_type": "markdown",
      "source": [
        "## **Numpy Arthemetic Operation**"
      ],
      "metadata": {
        "id": "VnX-0_ncaWKP"
      }
    },
    {
      "cell_type": "markdown",
      "source": [
        "### Numpy Broadcasting\n"
      ],
      "metadata": {
        "id": "Di4zKfk4AEJB"
      }
    },
    {
      "cell_type": "markdown",
      "source": [
        "The ability of Numpy to treat arrays with different dimensions during arithmetic operations known as broadcasting.\n",
        "\n",
        "It provides a means of vectorizing arrays operations, therefore eliminating the need for python loops.\n",
        "\n",
        "![image.png](data:image/png;base64,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)"
      ],
      "metadata": {
        "id": "ex2S-BYfARIo"
      }
    },
    {
      "cell_type": "code",
      "source": [
        "# We broadcast 2-d array element wise using multiplication operation\n",
        "import numpy as np\n",
        "\n",
        "# create an array\n",
        "arr = np.arange(2,20).reshape(3,6)\n",
        "print(\"Array1: \\n\", arr)\n",
        "\n",
        "arr2 = np.arange(5,11)\n",
        "print(\"\\nArray2: \\n\",arr2)\n",
        "\n",
        "# broadcast the arrays\n",
        "arr3 = arr * arr2\n",
        "print(\"\\nBroadcasted Array: \\n\",arr3)"
      ],
      "metadata": {
        "colab": {
          "base_uri": "https://localhost:8080/"
        },
        "id": "aeugRlpnBUu5",
        "outputId": "b949a1c3-8fd0-423a-c099-9dbc1ed9cedd"
      },
      "execution_count": null,
      "outputs": [
        {
          "output_type": "stream",
          "name": "stdout",
          "text": [
            "Array1: \n",
            " [[ 2  3  4  5  6  7]\n",
            " [ 8  9 10 11 12 13]\n",
            " [14 15 16 17 18 19]]\n",
            "\n",
            "Array2: \n",
            " [ 5  6  7  8  9 10]\n",
            "\n",
            "Broadcasted Array: \n",
            " [[ 10  18  28  40  54  70]\n",
            " [ 40  54  70  88 108 130]\n",
            " [ 70  90 112 136 162 190]]\n"
          ]
        }
      ]
    },
    {
      "cell_type": "code",
      "source": [
        "# Perform the boradcast using both the arrays as 2d array\n",
        "import numpy as np\n",
        "\n",
        "# create a first array\n",
        "arr1 = np.arange(2,20,2).reshape(3,3)\n",
        "print(\"Array1: \\n\", arr1)\n",
        "\n",
        "# create 2nd array\n",
        "arr2 = np.arange(1,19,2).reshape(3,3)\n",
        "print(\"\\nArray2: \\n\", arr2)\n",
        "\n",
        "# broadcast the array\n",
        "arr3 = arr1 + arr2\n",
        "\n",
        "print(\"\\nthe broadcasted array is: \\n \", arr3)"
      ],
      "metadata": {
        "colab": {
          "base_uri": "https://localhost:8080/"
        },
        "id": "xMeQ3abCCDC5",
        "outputId": "ea137a47-cb26-430f-f03d-b89d5879467a"
      },
      "execution_count": null,
      "outputs": [
        {
          "output_type": "stream",
          "name": "stdout",
          "text": [
            "Array1: \n",
            " [[ 2  4  6]\n",
            " [ 8 10 12]\n",
            " [14 16 18]]\n",
            "\n",
            "Array2: \n",
            " [[ 1  3  5]\n",
            " [ 7  9 11]\n",
            " [13 15 17]]\n",
            "\n",
            "the broadcasted array is: \n",
            "  [[ 3  7 11]\n",
            " [15 19 23]\n",
            " [27 31 35]]\n"
          ]
        }
      ]
    },
    {
      "cell_type": "markdown",
      "source": [
        "### Estimation of Variables\n"
      ],
      "metadata": {
        "id": "qSLoAoN2ErXA"
      }
    },
    {
      "cell_type": "code",
      "source": [
        "# Deviation:- errors/residuals\n",
        "# deviation = sequence - central_value\n",
        "\n",
        "# variance:- It is squared deviation:\n",
        "# np.var()\n",
        "\n",
        "# std:- standard Deviations\n",
        "# np.std()\n",
        "\n"
      ],
      "metadata": {
        "id": "4ri0pPeyDVAq"
      },
      "execution_count": null,
      "outputs": []
    },
    {
      "cell_type": "code",
      "source": [
        "# Code for deviation, variance and standrad deviation\n",
        "\n",
        "# create an array and find the variance:\n",
        "import numpy as np\n",
        "\n",
        "# craete an array\n",
        "arr1 = np.arange(1,10)\n",
        "print(\"Array1: \\n\", arr1)\n",
        "\n",
        "# print the varaince of the array\n",
        "print(\"Variance of the array is: \", np.var(arr1))\n",
        "\n",
        "# print the standard deviation of the array\n",
        "print(\"Standard Deviation of the array is: \", np.std(arr1))"
      ],
      "metadata": {
        "colab": {
          "base_uri": "https://localhost:8080/"
        },
        "id": "uBESBQV-F8N6",
        "outputId": "fa0d2854-0aac-47b5-f7c4-93894b236dee"
      },
      "execution_count": null,
      "outputs": [
        {
          "output_type": "stream",
          "name": "stdout",
          "text": [
            "Array1: \n",
            " [1 2 3 4 5 6 7 8 9]\n",
            "Variance of the array is:  6.666666666666667\n",
            "Standard Deviation of the array is:  2.581988897471611\n"
          ]
        }
      ]
    },
    {
      "cell_type": "code",
      "source": [
        "# how to use np.sum()\n",
        "\n",
        "# create 2-d array and find the sum of the elements\n",
        "import numpy as np\n",
        "\n",
        "# create an array\n",
        "arr1 = np.arange(1,10).reshape(3,3)\n",
        "print(\"Array1: \\n\", arr1)\n",
        "\n",
        "# print the sum of the array\n",
        "print(\"Sum of the array is: \", np.sum(arr1, axis=1))\n"
      ],
      "metadata": {
        "colab": {
          "base_uri": "https://localhost:8080/"
        },
        "id": "SqIe4NQAGcuS",
        "outputId": "0bee224f-a722-4b9f-e88b-6b92f11950f3"
      },
      "execution_count": null,
      "outputs": [
        {
          "output_type": "stream",
          "name": "stdout",
          "text": [
            "Array1: \n",
            " [[1 2 3]\n",
            " [4 5 6]\n",
            " [7 8 9]]\n",
            "Sum of the array is:  [ 6 15 24]\n"
          ]
        }
      ]
    },
    {
      "cell_type": "code",
      "source": [
        "# how to use the np.divide()\n",
        "\n",
        "import numpy as np\n",
        "\n",
        "# create an array\n",
        "arr1 = np.arange(50,69,2).reshape(2,5)\n",
        "print(\"Array1: \\n\", arr1)\n",
        "\n",
        "# create 2nd array:\n",
        "arr2 = np.arange(1,20,2).reshape(2,5)\n",
        "\n",
        "\n",
        "print(\"Array2: \\n\", arr2)\n",
        "# perfrom devide operation using function.\n",
        "print(np.divide(arr1,arr2))"
      ],
      "metadata": {
        "colab": {
          "base_uri": "https://localhost:8080/"
        },
        "id": "a2xhPP8iHxZn",
        "outputId": "ba60f456-32f9-47eb-8775-0c2e8179fef8"
      },
      "execution_count": null,
      "outputs": [
        {
          "output_type": "stream",
          "name": "stdout",
          "text": [
            "Array1: \n",
            " [[50 52 54 56 58]\n",
            " [60 62 64 66 68]]\n",
            "Array2: \n",
            " [[ 1  3  5  7  9]\n",
            " [11 13 15 17 19]]\n",
            "[[50.         17.33333333 10.8         8.          6.44444444]\n",
            " [ 5.45454545  4.76923077  4.26666667  3.88235294  3.57894737]]\n"
          ]
        }
      ]
    },
    {
      "cell_type": "code",
      "source": [
        "# How to use inner function in numpy\n",
        "# It used to computes the inner products of two arrays\n",
        "\n",
        "\n",
        "# create an array\n",
        "arr1 = np.arange(50,69,2).reshape(2,5)\n",
        "print(\"Array1: \\n\", arr1)\n",
        "\n",
        "# create 2nd array:\n",
        "arr2 = np.arange(1,11).reshape(2,5)\n",
        "print(\"\\nArray2: \\n\", arr2)\n",
        "\n",
        "# find the inner products of the array\n",
        "print(\"Inner product of the array is: \\n\", np.inner(arr1,arr2))"
      ],
      "metadata": {
        "colab": {
          "base_uri": "https://localhost:8080/"
        },
        "id": "kGtRursLIuXy",
        "outputId": "52c83f6e-a894-4d86-98f1-fff05854babd"
      },
      "execution_count": null,
      "outputs": [
        {
          "output_type": "stream",
          "name": "stdout",
          "text": [
            "Array1: \n",
            " [[50 52 54 56 58]\n",
            " [60 62 64 66 68]]\n",
            "\n",
            "Array2: \n",
            " [[ 1  2  3  4  5]\n",
            " [ 6  7  8  9 10]]\n",
            "Inner product of the array is: \n",
            " [[ 830 2180]\n",
            " [ 980 2580]]\n"
          ]
        }
      ]
    },
    {
      "cell_type": "code",
      "source": [
        "# How to find the greatest commom divisior (GCD)\n",
        "\n",
        "import numpy as np\n",
        "\n",
        "# create an array\n",
        "arr1 = np.arange(300,150,-20)\n",
        "print(\"Array1:\\n \", arr1)\n",
        "print(\"GCD:\\n\", np.gcd(arr1,20))"
      ],
      "metadata": {
        "colab": {
          "base_uri": "https://localhost:8080/"
        },
        "id": "_llNOpenKHLv",
        "outputId": "54e6f33e-8693-425f-d22f-dfe6a8df4f70"
      },
      "execution_count": null,
      "outputs": [
        {
          "output_type": "stream",
          "name": "stdout",
          "text": [
            "Array1:\n",
            "  [300 280 260 240 220 200 180 160]\n",
            "GCD:\n",
            " [20 20 20 20 20 20 20 20]\n"
          ]
        }
      ]
    },
    {
      "cell_type": "markdown",
      "source": [
        "## **Numpy Random**"
      ],
      "metadata": {
        "id": "0PFLIA2QNPdd"
      }
    },
    {
      "cell_type": "markdown",
      "source": [
        "The random libraries is used to generate the random number automatically.\n",
        "We can't logocally predict the generated number\n",
        "\n",
        "#### **randint()** --> random integer used for generating integer values"
      ],
      "metadata": {
        "id": "A0ZjgFYOGIoY"
      }
    },
    {
      "cell_type": "code",
      "source": [
        "# how to generate a random number .\n",
        "\n",
        "# import the library\n",
        "from numpy import *\n",
        "\n",
        "# generate the random number 0-100\n",
        "print(random.randint(100))"
      ],
      "metadata": {
        "id": "tuiyvg-xNYfh",
        "colab": {
          "base_uri": "https://localhost:8080/"
        },
        "outputId": "43230980-a867-4f7b-b5cd-a32a6e1a15d6"
      },
      "execution_count": null,
      "outputs": [
        {
          "output_type": "stream",
          "name": "stdout",
          "text": [
            "23\n"
          ]
        }
      ]
    },
    {
      "cell_type": "code",
      "source": [
        "# How to print the generate the float value using random value\n",
        "\n",
        "# import the library\n",
        "from numpy import *\n",
        "\n",
        "# we can empty the rand function\n",
        "print(random.rand())\n",
        "\n",
        "# generate the random number 0-5\n",
        "print(random.rand(5))\n",
        "#"
      ],
      "metadata": {
        "colab": {
          "base_uri": "https://localhost:8080/"
        },
        "id": "iqCE36ZHHOuQ",
        "outputId": "cc113ea2-15bc-4a23-97b6-2e1cba84f1ef"
      },
      "execution_count": null,
      "outputs": [
        {
          "output_type": "stream",
          "name": "stdout",
          "text": [
            "0.14388891862140452\n",
            "[0.70288263 0.80249951 0.25545543 0.45360814 0.48372977]\n"
          ]
        }
      ]
    },
    {
      "cell_type": "code",
      "source": [
        "# How to generate 1-d array using random module\n",
        "\n",
        "# import library\n",
        "\n",
        "from numpy import *\n",
        "\n",
        "# generate -d array\n",
        "\n",
        "print(random.randint(20, size=(8)))\n",
        "\n"
      ],
      "metadata": {
        "colab": {
          "base_uri": "https://localhost:8080/"
        },
        "id": "6klZlj7jHf00",
        "outputId": "1f2d2de0-c35d-4e83-cde5-d548fd58e29c"
      },
      "execution_count": null,
      "outputs": [
        {
          "output_type": "stream",
          "name": "stdout",
          "text": [
            "[ 7  3 11  4 14 19  0 18]\n"
          ]
        }
      ]
    },
    {
      "cell_type": "code",
      "source": [
        "# how to create a 2-d array using numpy\n",
        "\n",
        "# import the library.\n",
        "from numpy import * # -> * indicates every methods of numpy library\n",
        "\n",
        "# generate the 2-d array\n",
        "print(random.randint(100, size=(2,6)))"
      ],
      "metadata": {
        "colab": {
          "base_uri": "https://localhost:8080/"
        },
        "id": "klR_tsW9JUgW",
        "outputId": "cb9da908-6c91-47b9-de15-0fcd2467a7b3"
      },
      "execution_count": null,
      "outputs": [
        {
          "output_type": "stream",
          "name": "stdout",
          "text": [
            "[[ 3 65 82 60 54 13]\n",
            " [60 84 86  2 24 61]]\n"
          ]
        }
      ]
    },
    {
      "cell_type": "code",
      "source": [
        "# how to generate 3-d array using numpy\n",
        "# import the library\n",
        "\n",
        "from numpy import *\n",
        "\n",
        "# generate the 3-d array\n",
        "print(random.randint(40, size = (4,3,3)))"
      ],
      "metadata": {
        "colab": {
          "base_uri": "https://localhost:8080/"
        },
        "id": "E_L8GYENJ06S",
        "outputId": "78c0edb1-9984-4260-f095-c1c92c79a154"
      },
      "execution_count": null,
      "outputs": [
        {
          "output_type": "stream",
          "name": "stdout",
          "text": [
            "[[[26 37  3]\n",
            "  [ 9 20 16]\n",
            "  [34 31 35]]\n",
            "\n",
            " [[23 23 21]\n",
            "  [ 6 26  1]\n",
            "  [24  2 12]]\n",
            "\n",
            " [[11 10 34]\n",
            "  [ 9  8 28]\n",
            "  [23 24 11]]\n",
            "\n",
            " [[32  6  2]\n",
            "  [16  8 19]\n",
            "  [35 23 29]]]\n"
          ]
        }
      ]
    },
    {
      "cell_type": "code",
      "source": [
        "# how to generate the random array using float value\n",
        "\n",
        "# import the library\n",
        "from numpy import *\n",
        "\n",
        "# generate 1-d array\n",
        "print(\"-------1-d array---------\")\n",
        "print(random.rand(4))\n",
        "\n",
        "# generate 2-d array\n",
        "print(\"\\n-------2-d array---------\")\n",
        "print(random.rand(3,4))\n",
        "\n",
        "\n",
        "# generate 3-d array\n",
        "print(\"\\n -------1-d array---------\")\n",
        "print(random.rand(2,2,3))"
      ],
      "metadata": {
        "colab": {
          "base_uri": "https://localhost:8080/"
        },
        "id": "5qO1I408KoxE",
        "outputId": "09520460-5d93-4c47-9b95-853fd629c42e"
      },
      "execution_count": null,
      "outputs": [
        {
          "output_type": "stream",
          "name": "stdout",
          "text": [
            "-------1-d array---------\n",
            "[0.94574679 0.42797458 0.27548814 0.38820921]\n",
            "\n",
            "-------2-d array---------\n",
            "[[0.28529261 0.08693884 0.36382831 0.003859  ]\n",
            " [0.53100827 0.62374545 0.17803482 0.33720217]\n",
            " [0.12009888 0.6384845  0.00298379 0.84159357]]\n",
            "\n",
            " -------1-d array---------\n",
            "[[[0.33259301 0.1239623  0.25374764]\n",
            "  [0.3806793  0.38392125 0.72123067]]\n",
            "\n",
            " [[0.72955041 0.56463424 0.86979774]\n",
            "  [0.30550163 0.2745408  0.69974683]]]\n"
          ]
        }
      ]
    },
    {
      "cell_type": "code",
      "source": [
        "# we can also generate random from an array\n",
        "# choice() ---> used to select the random number from the array/\n",
        "\n",
        "# import the library\n",
        "from numpy import *\n",
        "\n",
        "# generate the random number from an array\n",
        "print(random.choice(arange(20,40,3))) # generating the number from 20 - 40 and choice the random number\n",
        "\n",
        "# select the random number from the 1-d array\n",
        "\n",
        "from numpy import *\n",
        "\n",
        "arr = arange(20,40,2)\n",
        "\n",
        "# pirnt the array\n",
        "print(arr)\n",
        "\n",
        "# select the random number from thearray.\n",
        "print(random.choice(arr))   # it won't work\n",
        "\n",
        "# we can create a random array from an existing array\n",
        "print(random.choice(arr, size=(5,3)))\n"
      ],
      "metadata": {
        "colab": {
          "base_uri": "https://localhost:8080/"
        },
        "id": "Chtl5LRVLaxh",
        "outputId": "7fe879d1-6296-4fb8-85cb-d33f51e22a12"
      },
      "execution_count": null,
      "outputs": [
        {
          "output_type": "stream",
          "name": "stdout",
          "text": [
            "35\n",
            "[20 22 24 26 28 30 32 34 36 38]\n",
            "34\n",
            "[[22 24 38]\n",
            " [26 20 30]\n",
            " [34 24 38]\n",
            " [36 38 30]\n",
            " [36 30 34]]\n"
          ]
        }
      ]
    },
    {
      "cell_type": "markdown",
      "source": [
        "#### **Random data distribution**"
      ],
      "metadata": {
        "id": "SbmxXy0bNwTt"
      }
    },
    {
      "cell_type": "markdown",
      "source": [
        "Data Distribution is a list of all possible values, and how often each value occurs.\n",
        "\n",
        "Such lists are important when working with statistics and data science.\n",
        "\n",
        "The random module offer methods that returns randomly generated data distributions"
      ],
      "metadata": {
        "id": "gdm0PXr9O_FR"
      }
    },
    {
      "cell_type": "markdown",
      "source": [
        "Random Distribution:- A random distribution is a set of random numbers that follow a certain probability density function"
      ],
      "metadata": {
        "id": "dB_BUAYVUy4w"
      }
    },
    {
      "cell_type": "code",
      "source": [
        "# create an od array:-\n",
        "from numpy import *\n",
        "\n",
        "# create an 1-d array where values is between 3,8,6,9 only/\n",
        "# The probablity for the 3 is set to be 0.1\n",
        "# The probablity for the 8 is set to be 0.2\n",
        "# The probablity for the 6 is set to be 0.3\n",
        "# The probablity for the 9 is set to be 0.4\n",
        "# ---------------------sum of probabllity is 1.0\\\n",
        "\n",
        "\n",
        "arr = random.choice([3,8,6,9], p=[0.1,0.2,0.3,0.4], size=(20))\n",
        "print(arr)"
      ],
      "metadata": {
        "colab": {
          "base_uri": "https://localhost:8080/"
        },
        "id": "6rSboP-TMC3B",
        "outputId": "0ff9ad7f-6f02-4cb8-d11e-5b5f097093d5"
      },
      "execution_count": null,
      "outputs": [
        {
          "output_type": "stream",
          "name": "stdout",
          "text": [
            "[9 9 9 9 9 9 8 6 6 9 8 8 6 8 3 9 9 9 3 9]\n"
          ]
        }
      ]
    },
    {
      "cell_type": "code",
      "source": [
        "# craete an 2-d array between some values and their probablity\n",
        "from numpy import *\n",
        "\n",
        "arr = random.choice([31,6,9,4,3], p=[0.1,0.3,0.0,0.2,0.4], size=(4,5))\n",
        "print(arr)"
      ],
      "metadata": {
        "colab": {
          "base_uri": "https://localhost:8080/"
        },
        "id": "SAZNARpRVTEe",
        "outputId": "52da4bc0-5fee-4da0-a6fe-14a3f054970a"
      },
      "execution_count": null,
      "outputs": [
        {
          "output_type": "stream",
          "name": "stdout",
          "text": [
            "[[4 3 4 6 3]\n",
            " [6 6 4 6 6]\n",
            " [4 4 3 3 3]\n",
            " [6 6 3 4 3]]\n"
          ]
        }
      ]
    },
    {
      "cell_type": "markdown",
      "source": [
        "#### **Random Permutations**"
      ],
      "metadata": {
        "id": "2sSQwO-HXid8"
      }
    },
    {
      "cell_type": "markdown",
      "source": [
        "It reverse to the arrangements of the elemenets.\n",
        "e.g [1,2,3] is a permuation of [3,2,1] and vice-versa\n",
        "\n",
        "**shuffle()** :- Changing arrangements of elements in-place. i-e in the array itself.\n",
        "\n",
        "**permutation()** :- returns a re-arranged array and leaves the original array un-changed\n"
      ],
      "metadata": {
        "id": "FyYiplxDXqED"
      }
    },
    {
      "cell_type": "code",
      "source": [
        "# import the numpy library\n",
        "\n",
        "from numpy import *\n",
        "\n",
        "# creata an array and print the permutation of the array using shuffle().\n",
        "arr = arange(10,29,2)\n",
        "print(\"the originbal aray is: \", arr)\n",
        "\n",
        "# apply shuffle() for rearranging the elemnts of the array\n",
        "random.shuffle(arr)\n",
        "print(\"the shuffled array is: \", arr)\n"
      ],
      "metadata": {
        "colab": {
          "base_uri": "https://localhost:8080/"
        },
        "id": "TsoRL8bUMFDs",
        "outputId": "a3ec7159-87ce-49f8-8747-ce0895fbd665"
      },
      "execution_count": null,
      "outputs": [
        {
          "output_type": "stream",
          "name": "stdout",
          "text": [
            "the originbal aray is:  [10 12 14 16 18 20 22 24 26 28]\n",
            "the shuffled array is:  [14 10 12 22 26 24 20 16 18 28]\n"
          ]
        }
      ]
    },
    {
      "cell_type": "code",
      "source": [
        "# apply the premuation() for rearrange the elemenets of the array\n",
        "\n",
        "# import * from numpy\n",
        "from numpy import *\n",
        "\n",
        "# create an array\n",
        "arr = arange(30,59,3)\n",
        "print(\"the origunbal array is: \", arr)\n",
        "\n",
        "# print the permutation of the array\n",
        "print(random.permutation(arr))"
      ],
      "metadata": {
        "colab": {
          "base_uri": "https://localhost:8080/"
        },
        "id": "QFhBw1haZUzI",
        "outputId": "bd191359-196b-4dd6-f1ac-37391c0a89c7"
      },
      "execution_count": null,
      "outputs": [
        {
          "output_type": "stream",
          "name": "stdout",
          "text": [
            "the origunbal array is:  [30 33 36 39 42 45 48 51 54 57]\n",
            "[54 33 57 48 30 42 45 36 51 39]\n"
          ]
        }
      ]
    },
    {
      "cell_type": "markdown",
      "source": [
        "#### **Numpy Seaborn**"
      ],
      "metadata": {
        "id": "f_E8T0IOabRj"
      }
    },
    {
      "cell_type": "markdown",
      "source": [
        "We can visulize the ditribution using numpy library\n"
      ],
      "metadata": {
        "id": "pSOr5tuuakE5"
      }
    },
    {
      "cell_type": "code",
      "source": [
        "# how to install seaborn\n",
        "! pip install seaborn"
      ],
      "metadata": {
        "colab": {
          "base_uri": "https://localhost:8080/"
        },
        "id": "R1OcMdEQaPtu",
        "outputId": "ee47b97f-f4f4-461a-cd68-95566e14da63"
      },
      "execution_count": null,
      "outputs": [
        {
          "output_type": "stream",
          "name": "stdout",
          "text": [
            "Requirement already satisfied: seaborn in /usr/local/lib/python3.10/dist-packages (0.13.1)\n",
            "Requirement already satisfied: numpy!=1.24.0,>=1.20 in /usr/local/lib/python3.10/dist-packages (from seaborn) (1.26.4)\n",
            "Requirement already satisfied: pandas>=1.2 in /usr/local/lib/python3.10/dist-packages (from seaborn) (2.1.4)\n",
            "Requirement already satisfied: matplotlib!=3.6.1,>=3.4 in /usr/local/lib/python3.10/dist-packages (from seaborn) (3.7.1)\n",
            "Requirement already satisfied: contourpy>=1.0.1 in /usr/local/lib/python3.10/dist-packages (from matplotlib!=3.6.1,>=3.4->seaborn) (1.3.0)\n",
            "Requirement already satisfied: cycler>=0.10 in /usr/local/lib/python3.10/dist-packages (from matplotlib!=3.6.1,>=3.4->seaborn) (0.12.1)\n",
            "Requirement already satisfied: fonttools>=4.22.0 in /usr/local/lib/python3.10/dist-packages (from matplotlib!=3.6.1,>=3.4->seaborn) (4.53.1)\n",
            "Requirement already satisfied: kiwisolver>=1.0.1 in /usr/local/lib/python3.10/dist-packages (from matplotlib!=3.6.1,>=3.4->seaborn) (1.4.7)\n",
            "Requirement already satisfied: packaging>=20.0 in /usr/local/lib/python3.10/dist-packages (from matplotlib!=3.6.1,>=3.4->seaborn) (24.1)\n",
            "Requirement already satisfied: pillow>=6.2.0 in /usr/local/lib/python3.10/dist-packages (from matplotlib!=3.6.1,>=3.4->seaborn) (9.4.0)\n",
            "Requirement already satisfied: pyparsing>=2.3.1 in /usr/local/lib/python3.10/dist-packages (from matplotlib!=3.6.1,>=3.4->seaborn) (3.1.4)\n",
            "Requirement already satisfied: python-dateutil>=2.7 in /usr/local/lib/python3.10/dist-packages (from matplotlib!=3.6.1,>=3.4->seaborn) (2.8.2)\n",
            "Requirement already satisfied: pytz>=2020.1 in /usr/local/lib/python3.10/dist-packages (from pandas>=1.2->seaborn) (2024.2)\n",
            "Requirement already satisfied: tzdata>=2022.1 in /usr/local/lib/python3.10/dist-packages (from pandas>=1.2->seaborn) (2024.1)\n",
            "Requirement already satisfied: six>=1.5 in /usr/local/lib/python3.10/dist-packages (from python-dateutil>=2.7->matplotlib!=3.6.1,>=3.4->seaborn) (1.16.0)\n"
          ]
        }
      ]
    },
    {
      "cell_type": "code",
      "source": [
        "import matplotlib.pyplot as plt\n",
        "import seaborn as sns\n",
        "\n",
        "sns.distplot([20,25,63,56], hist=False)\n",
        "\n",
        "plt.show()"
      ],
      "metadata": {
        "colab": {
          "base_uri": "https://localhost:8080/",
          "height": 624
        },
        "id": "rYrB4JKOauQ8",
        "outputId": "6f8ba137-cf8b-46c5-a535-e4d64c59b7e3"
      },
      "execution_count": null,
      "outputs": [
        {
          "output_type": "stream",
          "name": "stderr",
          "text": [
            "<ipython-input-70-5b4bef9458c9>:4: UserWarning: \n",
            "\n",
            "`distplot` is a deprecated function and will be removed in seaborn v0.14.0.\n",
            "\n",
            "Please adapt your code to use either `displot` (a figure-level function with\n",
            "similar flexibility) or `kdeplot` (an axes-level function for kernel density plots).\n",
            "\n",
            "For a guide to updating your code to use the new functions, please see\n",
            "https://gist.github.com/mwaskom/de44147ed2974457ad6372750bbe5751\n",
            "\n",
            "  sns.distplot([20,25,63,56], hist=False)\n"
          ]
        },
        {
          "output_type": "display_data",
          "data": {
            "text/plain": [
              "<Figure size 640x480 with 1 Axes>"
            ],
            "image/png": "[encoded data removed]"
          },
          "metadata": {}
        }
      ]
    },
    {
      "cell_type": "markdown",
      "source": [
        "#### **Normal *(Gaussian)* Distribution**"
      ],
      "metadata": {
        "id": "DM7oLyRebjpu"
      }
    },
    {
      "cell_type": "markdown",
      "source": [
        "Normal distribution, also known as the Gaussian distribution, is a continuous probability distribution that is symmetric about the mean, depicting that data near the mean are more frequent in occurrence than data far from the mean\n",
        "\n",
        "![image.png](data:image/png;base64,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)\n",
        "\n",
        "\n",
        "where,\n",
        "\n",
        "x -> Random Variable\n",
        "\n",
        "μ -> Mean\n",
        "\n",
        "σ -> Standard Deviation\n",
        "\n",
        "In any Normal Distribution, random variables are those variables that take unknown values related to the distribution and are generally bound by a range.\n"
      ],
      "metadata": {
        "id": "Jzfp2GHLcGyz"
      }
    },
    {
      "cell_type": "markdown",
      "source": [
        "Empirical Rule states that,\n",
        "\n",
        "**68%** of the data approximately fall within one standard deviation of the mean, i.e. it falls between {Mean – One Standard Deviation, and Mean + One Standard Deviation}\n",
        "\n",
        "**95%** of the data approximately fall within two standard deviations of the mean, i.e. it falls between {Mean – Two Standard Deviation, and Mean + Two Standard Deviation}\n",
        "\n",
        "**99.7%** of the data approximately fall within a third standard deviation of the mean, i.e. it falls between {Mean – Third Standard Deviation, and Mean + Third Standard Deviation}\n",
        "\n",
        "![image.png](data:image/png;base64,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)"
      ],
      "metadata": {
        "id": "Hn1zUY1ajRml"
      }
    },
    {
      "cell_type": "code",
      "source": [
        "# generate the normal random distribution and plot it into the distplot\n",
        "\n",
        "# import all the libraries\n",
        "from numpy import *\n",
        "import matplotlib.pyplot as plt\n",
        "import seaborn as sns\n",
        "\n",
        "\n",
        "# create an array with normal distribution.\n",
        "arr = random.normal(loc=1 , scale=2, size=100)\n",
        "\n",
        "# plot the distribution\n",
        "sns.distplot(arr)\n"
      ],
      "metadata": {
        "colab": {
          "base_uri": "https://localhost:8080/",
          "height": 638
        },
        "id": "5VJ4G2HSa8n3",
        "outputId": "e346c14d-72dc-4b81-d21f-e85224a39d3d"
      },
      "execution_count": null,
      "outputs": [
        {
          "output_type": "stream",
          "name": "stderr",
          "text": [
            "<ipython-input-71-dfa44d450115>:13: UserWarning: \n",
            "\n",
            "`distplot` is a deprecated function and will be removed in seaborn v0.14.0.\n",
            "\n",
            "Please adapt your code to use either `displot` (a figure-level function with\n",
            "similar flexibility) or `histplot` (an axes-level function for histograms).\n",
            "\n",
            "For a guide to updating your code to use the new functions, please see\n",
            "https://gist.github.com/mwaskom/de44147ed2974457ad6372750bbe5751\n",
            "\n",
            "  sns.distplot(arr)\n"
          ]
        },
        {
          "output_type": "execute_result",
          "data": {
            "text/plain": [
              "<Axes: ylabel='Density'>"
            ]
          },
          "metadata": {},
          "execution_count": 71
        },
        {
          "output_type": "display_data",
          "data": {
            "text/plain": [
              "<Figure size 640x480 with 1 Axes>"
            ],
            "image/png": "[encoded data removed]"
          },
          "metadata": {}
        }
      ]
    },
    {
      "cell_type": "markdown",
      "source": [
        "The same way we are having all the distribution in the numpy in random method.\n",
        "we will read these in berief during the stats\n",
        "1. Bionomial distribution.\n",
        "2. Poission Distribution\n",
        "3. uniform Distribution\n",
        "4. Logistic Distribution.\n",
        "5. Multinominal Dis..\n",
        "6. Expontential Dist...\n",
        "7. Chi Square Dist..\n",
        "8. etc"
      ],
      "metadata": {
        "id": "MjGJhWNMn-PE"
      }
    },
    {
      "cell_type": "code",
      "source": [],
      "metadata": {
        "id": "D4AKsFDVn7Pd"
      },
      "execution_count": null,
      "outputs": []
    },
    {
      "cell_type": "markdown",
      "source": [
        "## **Numpy Universal *(ufunc)* function**"
      ],
      "metadata": {
        "id": "ERTFLpmWo2Vj"
      }
    },
    {
      "cell_type": "markdown",
      "source": [
        "**ufuncs** stands for *Universal function* and they are numpy functions that operate on the **ndarray** objects\n",
        "\n",
        "These are used to implement vectorizition in Numpy which is faster than iterating over elements.\n",
        "\n",
        "**ufuncs** also take aditional arguements like:\n",
        "\n",
        "*where*:- boolean array or condition defining where the operations should take place.\n",
        "\n",
        "*dtype*:- defining the return type of the elements\n",
        "\n",
        "*out* :- Output array where the return value should be copied.\n"
      ],
      "metadata": {
        "id": "qSn1_mdZpVyj"
      }
    },
    {
      "cell_type": "markdown",
      "source": [
        "#### **Vectorization**:-"
      ],
      "metadata": {
        "id": "TDftwqpGqXCT"
      }
    },
    {
      "cell_type": "markdown",
      "source": [
        "Convert iterative statements into a vector based operation is called vectorization.\n",
        "\n",
        "It is faster as modern CPUs are optimized for such operations\n",
        "\n"
      ],
      "metadata": {
        "id": "_DvBuPAiqddA"
      }
    },
    {
      "cell_type": "code",
      "source": [
        "# example\n",
        "# we can use the add() function\n",
        "import numpy as np\n",
        "\n",
        "a = [1,3,4,5,7]\n",
        "b = [3,4,5,6,9]\n",
        "\n",
        "# perfom ufunc add() function\n",
        "sum = np.add(a,b)\n",
        "print(sum)"
      ],
      "metadata": {
        "colab": {
          "base_uri": "https://localhost:8080/"
        },
        "id": "LQ5Nt6rzpD2M",
        "outputId": "32bd7355-f87a-4a83-e66d-fc69a7556e9e"
      },
      "execution_count": null,
      "outputs": [
        {
          "output_type": "stream",
          "name": "stdout",
          "text": [
            "[ 4  7  9 11 16]\n"
          ]
        }
      ]
    },
    {
      "cell_type": "markdown",
      "source": [
        "#### **Create ufunc**"
      ],
      "metadata": {
        "id": "Io9wbJBgrQOe"
      }
    },
    {
      "cell_type": "markdown",
      "source": [
        "--> The process to create an *ufunc* is same as python normal function creation, then you add it to your *NumPy ufunc* library with the ***frompyfunc()*** methods\n",
        "\n",
        "--> args* of ***frompyfunc***\n",
        "1. **function** :- the name of the function.\n",
        "2. **inputs** :- the number of input arguements (arrays)\n",
        "3. **outputs** :- the number of output arrays."
      ],
      "metadata": {
        "id": "XCT1AOGvrb0Y"
      }
    },
    {
      "cell_type": "code",
      "source": [
        "# Create a function and make it ufunc\n",
        "# import numpy library\n",
        "\n",
        "import numpy as np\n",
        "\n",
        "# create an normal function\n",
        "def total_sum(a,b):\n",
        "  return a*b/a+b\n",
        "\n",
        "# create an ufunc\n",
        "total_sum = np.frompyfunc(total_sum, 2, 1)\n",
        "\n",
        "print(total_sum([1,2,3,4,5],[6,7,8,9,10]))"
      ],
      "metadata": {
        "colab": {
          "base_uri": "https://localhost:8080/"
        },
        "id": "HgAUDRXqrarJ",
        "outputId": "406777e4-1cca-4667-a5a4-166951cefb79"
      },
      "execution_count": null,
      "outputs": [
        {
          "output_type": "stream",
          "name": "stdout",
          "text": [
            "[12.0 14.0 16.0 18.0 20.0]\n"
          ]
        }
      ]
    },
    {
      "cell_type": "code",
      "source": [
        "# how to check either function is ufunc or not\n",
        "print(type(total_sum)) # -->\n",
        "print(type(np.add))\n",
        "print(type(np.random))"
      ],
      "metadata": {
        "colab": {
          "base_uri": "https://localhost:8080/"
        },
        "id": "v3h_hiIctU0L",
        "outputId": "4a22b82a-1c83-4c8d-b3e1-b8801a05ce30"
      },
      "execution_count": null,
      "outputs": [
        {
          "output_type": "stream",
          "name": "stdout",
          "text": [
            "<class 'numpy.ufunc'>\n",
            "<class 'numpy.ufunc'>\n",
            "<class 'module'>\n"
          ]
        }
      ]
    },
    {
      "cell_type": "markdown",
      "source": [
        "#### **Simple Arithematic**\n"
      ],
      "metadata": {
        "id": "FrAqlWGwuJDt"
      }
    },
    {
      "cell_type": "code",
      "source": [
        "# add()\n",
        "import numpy as np\n",
        "\n",
        "print(np.add([1,2,34],[3,4,5]))"
      ],
      "metadata": {
        "colab": {
          "base_uri": "https://localhost:8080/"
        },
        "id": "l2EW0uvDtqKp",
        "outputId": "867a8dce-dad1-45fe-8bdc-13a8d683db65"
      },
      "execution_count": null,
      "outputs": [
        {
          "output_type": "stream",
          "name": "stdout",
          "text": [
            "[ 4  6 39]\n"
          ]
        }
      ]
    },
    {
      "cell_type": "code",
      "source": [
        "# subtract()\n",
        "import numpy as np\n",
        "\n",
        "print(np.subtract([1,2,34],[3,4,5]))"
      ],
      "metadata": {
        "colab": {
          "base_uri": "https://localhost:8080/"
        },
        "id": "0Zdf3LJNucbY",
        "outputId": "5f8b874f-1c7e-4392-ae8a-4085f0e28cad"
      },
      "execution_count": null,
      "outputs": [
        {
          "output_type": "stream",
          "name": "stdout",
          "text": [
            "[-2 -2 29]\n"
          ]
        }
      ]
    },
    {
      "cell_type": "code",
      "source": [
        "# multiply\n",
        "import numpy as np\n",
        "\n",
        "print(np.multiply([1,2,34],[3,4,5]))"
      ],
      "metadata": {
        "colab": {
          "base_uri": "https://localhost:8080/"
        },
        "id": "xhSuTi7Uuhhv",
        "outputId": "f5429ec8-ed05-4d67-b6cf-1fd8c0bfbafb"
      },
      "execution_count": null,
      "outputs": [
        {
          "output_type": "stream",
          "name": "stdout",
          "text": [
            "[  3   8 170]\n"
          ]
        }
      ]
    },
    {
      "cell_type": "code",
      "source": [
        "# divide()\n",
        "import numpy as np\n",
        "\n",
        "print(np.divide([1,2,34],[3,4,5]))"
      ],
      "metadata": {
        "colab": {
          "base_uri": "https://localhost:8080/"
        },
        "id": "EWmpEwaounsX",
        "outputId": "d5a581da-f310-49e0-8985-e724d8cac023"
      },
      "execution_count": null,
      "outputs": [
        {
          "output_type": "stream",
          "name": "stdout",
          "text": [
            "[0.33333333 0.5        6.8       ]\n"
          ]
        }
      ]
    },
    {
      "cell_type": "code",
      "source": [
        "# power()\n",
        "\n",
        "import numpy as np\n",
        "\n",
        "print(np.power([1,2,34],[3,4,5]))"
      ],
      "metadata": {
        "colab": {
          "base_uri": "https://localhost:8080/"
        },
        "id": "S-njPT_BusnQ",
        "outputId": "7d819bbf-a9c9-425f-8860-600893276cb2"
      },
      "execution_count": null,
      "outputs": [
        {
          "output_type": "stream",
          "name": "stdout",
          "text": [
            "[       1       16 45435424]\n"
          ]
        }
      ]
    },
    {
      "cell_type": "code",
      "source": [
        "# mod()\n",
        "\n",
        "import numpy as np\n",
        "\n",
        "print(np.mod([14,21,34],[3,4,5]))\n",
        "\n",
        "# remainder()\n",
        "print(np.remainder([14,21,34],[3,4,5]))"
      ],
      "metadata": {
        "colab": {
          "base_uri": "https://localhost:8080/"
        },
        "id": "--df6rlAuzfF",
        "outputId": "8dc75055-0407-4ec2-c341-21e043539a66"
      },
      "execution_count": null,
      "outputs": [
        {
          "output_type": "stream",
          "name": "stdout",
          "text": [
            "[2 1 4]\n",
            "[2 1 4]\n"
          ]
        }
      ]
    },
    {
      "cell_type": "code",
      "source": [
        "# divmod():- return both the quotient and the mod. The return value is two arrays\n",
        "# 1st array --> contains quotients'\n",
        "# 2nd array --> contains the mod\n",
        "\n",
        "import numpy as np\n",
        "\n",
        "print(np.divmod([14,21,34],[3,4,5]))"
      ],
      "metadata": {
        "colab": {
          "base_uri": "https://localhost:8080/"
        },
        "id": "xVn9Fs8IvAu_",
        "outputId": "f2950edc-b191-4aae-ea1b-b07009eef8de"
      },
      "execution_count": null,
      "outputs": [
        {
          "output_type": "stream",
          "name": "stdout",
          "text": [
            "(array([4, 5, 6]), array([2, 1, 4]))\n"
          ]
        }
      ]
    },
    {
      "cell_type": "code",
      "source": [
        "# absolute() --> returns the absolute values\n",
        "\n",
        "import numpy as np\n",
        "\n",
        "print(np.absolute([-1,-2,-3]))"
      ],
      "metadata": {
        "colab": {
          "base_uri": "https://localhost:8080/"
        },
        "id": "ueYo1PpYvojl",
        "outputId": "679a63bc-d672-4dd6-9136-5aae7942e7a1"
      },
      "execution_count": null,
      "outputs": [
        {
          "output_type": "stream",
          "name": "stdout",
          "text": [
            "[1 2 3]\n"
          ]
        }
      ]
    },
    {
      "cell_type": "markdown",
      "source": [
        "#### **Rounding Decimals**\n"
      ],
      "metadata": {
        "id": "xvoa-IyMvzcg"
      }
    },
    {
      "cell_type": "code",
      "source": [
        "# trunc() --> remove the decimens and return the float number closest to 0.\n",
        "# import the numpy library\n",
        "\n",
        "import numpy as np\n",
        "\n",
        "# create an array\n",
        "arr = np.trunc([-1.1666, 2.999])\n",
        "\n",
        "print(arr)"
      ],
      "metadata": {
        "colab": {
          "base_uri": "https://localhost:8080/"
        },
        "id": "XQ3dr1Favw6d",
        "outputId": "a7551668-1458-46cc-de34-485ec1780d62"
      },
      "execution_count": null,
      "outputs": [
        {
          "output_type": "stream",
          "name": "stdout",
          "text": [
            "[-1.  2.]\n"
          ]
        }
      ]
    },
    {
      "cell_type": "code",
      "source": [
        "# fix()--> same as trunc()\n",
        "\n",
        "import numpy as np\n",
        "\n",
        "# create an array\n",
        "arr = np.fix([-1.1666, 2.999])\n",
        "\n",
        "print(arr)"
      ],
      "metadata": {
        "colab": {
          "base_uri": "https://localhost:8080/"
        },
        "id": "gO2G-COrwM1_",
        "outputId": "129132af-b6e4-4ce7-d3d3-1a4e6c8bb5dc"
      },
      "execution_count": null,
      "outputs": [
        {
          "output_type": "stream",
          "name": "stdout",
          "text": [
            "[-1.  2.]\n"
          ]
        }
      ]
    },
    {
      "cell_type": "code",
      "source": [
        "# around() --> increments preceding digit or decimal by 1 if >= 5, esle do nothing.\n",
        "# eg:- 3.1676 --> 3.2\n",
        "\n",
        "# import the numpy library\n",
        "\n",
        "import numpy as np\n",
        "\n",
        "# create an array\n",
        "arr = np.around([-1.4666, 2.999])\n",
        "\n",
        "print(arr)\n"
      ],
      "metadata": {
        "colab": {
          "base_uri": "https://localhost:8080/"
        },
        "id": "C0mhBuzRwiJU",
        "outputId": "a3585b35-b2d7-4d45-aa43-83de5d4e9963"
      },
      "execution_count": null,
      "outputs": [
        {
          "output_type": "stream",
          "name": "stdout",
          "text": [
            "[-1.  3.]\n"
          ]
        }
      ]
    },
    {
      "cell_type": "code",
      "source": [
        "# floor() --> round off decimal to nearest lower integer.\n",
        "# eg:- 3.1676 --> 3\n",
        "\n",
        "# import the numpy library\n",
        "\n",
        "import numpy as np\n",
        "\n",
        "# create an array\n",
        "arr = np.floor([-1.4666, 2.999])\n",
        "\n",
        "print(arr)"
      ],
      "metadata": {
        "colab": {
          "base_uri": "https://localhost:8080/"
        },
        "id": "vOkE9tBtw5-C",
        "outputId": "0a5e7098-0bd3-4002-aed9-c3b6e09818a1"
      },
      "execution_count": null,
      "outputs": [
        {
          "output_type": "stream",
          "name": "stdout",
          "text": [
            "[-2.  2.]\n"
          ]
        }
      ]
    },
    {
      "cell_type": "code",
      "source": [
        "# ceil() --> round off the decimal to nearest upper integer.\n",
        "\n",
        "# import the numPy\n",
        "\n",
        "import numpy as np\n",
        "\n",
        "# create an array\n",
        "arr = np.ceil([1.6666, 2.999])\n",
        "\n",
        "print(arr)\n"
      ],
      "metadata": {
        "colab": {
          "base_uri": "https://localhost:8080/"
        },
        "id": "UpH9Hn2KxG-U",
        "outputId": "dc4799a1-c6d6-4395-81f0-72946d375c1a"
      },
      "execution_count": null,
      "outputs": [
        {
          "output_type": "stream",
          "name": "stdout",
          "text": [
            "[2. 3.]\n"
          ]
        }
      ]
    },
    {
      "cell_type": "markdown",
      "source": [
        "#### **NumPy Logs**"
      ],
      "metadata": {
        "id": "ulI63CMsxkKo"
      }
    },
    {
      "cell_type": "code",
      "source": [
        "# log2() --> perform log at base 2\n",
        "\n",
        "# import the numpy library\n",
        "\n",
        "import numpy as np\n",
        "\n",
        "# create an array\n",
        "arr = np.log2([5])\n",
        "\n",
        "print(arr)"
      ],
      "metadata": {
        "colab": {
          "base_uri": "https://localhost:8080/"
        },
        "id": "EkZbLDsNxXow",
        "outputId": "ed0bca12-4ed0-4b76-d170-a755ba2c374e"
      },
      "execution_count": null,
      "outputs": [
        {
          "output_type": "stream",
          "name": "stdout",
          "text": [
            "[2.32192809]\n"
          ]
        }
      ]
    },
    {
      "cell_type": "code",
      "source": [
        "# log10() --> perform log at the base 10\n",
        "\n",
        "# import the numpy library\n",
        "\n",
        "import numpy as np\n",
        "\n",
        "# create an array\n",
        "arr = np.log10([5])\n",
        "\n",
        "print(arr)"
      ],
      "metadata": {
        "colab": {
          "base_uri": "https://localhost:8080/"
        },
        "id": "w14EgKvm1DdG",
        "outputId": "e6255d5d-9c0a-4457-e66c-ffa1865359b0"
      },
      "execution_count": null,
      "outputs": [
        {
          "output_type": "stream",
          "name": "stdout",
          "text": [
            "[0.69897]\n"
          ]
        }
      ]
    },
    {
      "cell_type": "code",
      "source": [
        "# log() --> perform log at the base e\n",
        "\n",
        "# import the numpy library\n",
        "\n",
        "import numpy as np\n",
        "\n",
        "# create an array\n",
        "arr = np.log([5])\n",
        "\n",
        "print(arr)\n"
      ],
      "metadata": {
        "colab": {
          "base_uri": "https://localhost:8080/"
        },
        "id": "gOtVSEq71Qcg",
        "outputId": "1e34dced-d76a-4857-9705-c9e66e7fc989"
      },
      "execution_count": null,
      "outputs": [
        {
          "output_type": "stream",
          "name": "stdout",
          "text": [
            "[1.60943791]\n"
          ]
        }
      ]
    },
    {
      "cell_type": "markdown",
      "source": [
        "#### **Summations**\n"
      ],
      "metadata": {
        "id": "JBi-tnbh1cqV"
      }
    },
    {
      "cell_type": "markdown",
      "source": [
        "Addition is done between two arguements where summations happens over n elements\n"
      ],
      "metadata": {
        "id": "01Yd_58F1jd3"
      }
    },
    {
      "cell_type": "code",
      "source": [
        "# Example of addition\n",
        "\n",
        "import numpy as np\n",
        "\n",
        "print(np.add(1,2))"
      ],
      "metadata": {
        "colab": {
          "base_uri": "https://localhost:8080/"
        },
        "id": "op91YCPT1XR0",
        "outputId": "07403802-9d65-4d16-cd8d-96f8f014f2ee"
      },
      "execution_count": null,
      "outputs": [
        {
          "output_type": "stream",
          "name": "stdout",
          "text": [
            "3\n"
          ]
        }
      ]
    },
    {
      "cell_type": "code",
      "source": [
        "# Example of sum\n",
        "\n",
        "import numpy as np\n",
        "\n",
        "arr1 = np.arange(5,10)\n",
        "arr2 = np.arange(12,17)\n",
        "\n",
        "new_arr = np.sum([arr1,arr2])\n",
        "print(new_arr)"
      ],
      "metadata": {
        "colab": {
          "base_uri": "https://localhost:8080/"
        },
        "id": "99YyOTPK1y80",
        "outputId": "ab700255-580f-4a69-ad2d-b3bbf474bd5f"
      },
      "execution_count": null,
      "outputs": [
        {
          "output_type": "stream",
          "name": "stdout",
          "text": [
            "105\n"
          ]
        }
      ]
    },
    {
      "cell_type": "code",
      "source": [
        "# over an Axis--> each arrau\n",
        "\n",
        "import numpy as np\n",
        "\n",
        "arr1 = np.arange(5,10)\n",
        "arr2 = np.arange(12,17)\n",
        "\n",
        "new_arr = np.sum([arr1,arr2], axis=1)\n",
        "print(new_arr)\n"
      ],
      "metadata": {
        "colab": {
          "base_uri": "https://localhost:8080/"
        },
        "id": "oBFB5SlK2Duh",
        "outputId": "1ff22298-0cd0-4d1c-bf5e-c7173e301504"
      },
      "execution_count": null,
      "outputs": [
        {
          "output_type": "stream",
          "name": "stdout",
          "text": [
            "[35 70]\n"
          ]
        }
      ]
    },
    {
      "cell_type": "code",
      "source": [
        "# cumsum() --> partially adding the elements in array.\n",
        "\n",
        "import numpy as np\n",
        "\n",
        "arr1 = np.arange(5,10)\n",
        "print(\"Array1: \", arr1)\n",
        "arr2 = np.arange(12,17)\n",
        "print(\"\\nArray2: \", arr2)\n",
        "\n",
        "new_arr = np.cumsum([arr1,arr2]) # --> [5+6+7+8+9+12+13+..+16]\n",
        "print(\"\\nNew Array: \", new_arr)"
      ],
      "metadata": {
        "colab": {
          "base_uri": "https://localhost:8080/"
        },
        "id": "WYgh9qSd2Nq5",
        "outputId": "a2527200-5e7c-430c-d640-f3738bc1ce57"
      },
      "execution_count": null,
      "outputs": [
        {
          "output_type": "stream",
          "name": "stdout",
          "text": [
            "Array1:  [5 6 7 8 9]\n",
            "\n",
            "Array2:  [12 13 14 15 16]\n",
            "\n",
            "New Array:  [  5  11  18  26  35  47  60  74  89 105]\n"
          ]
        }
      ]
    },
    {
      "cell_type": "markdown",
      "source": [
        "#### **Numpy Products**"
      ],
      "metadata": {
        "id": "br-L_9LD283X"
      }
    },
    {
      "cell_type": "code",
      "source": [
        "# prod() --> find the elements of an array\n",
        "\n",
        "# import the libraries\n",
        "import numpy as np\n",
        "\n",
        "# create an array\n",
        "arr = np.arange(1,6)\n",
        "print(\"The array is: \",arr)\n",
        "\n",
        "# find the product of the elements\n",
        "x = np.prod(arr)\n",
        "print(\"The product of the array is: \",x)\n"
      ],
      "metadata": {
        "colab": {
          "base_uri": "https://localhost:8080/"
        },
        "id": "yM27GyVY2iV8",
        "outputId": "e237bdfc-f642-4fe2-cc84-8ced3d77636f"
      },
      "execution_count": null,
      "outputs": [
        {
          "output_type": "stream",
          "name": "stdout",
          "text": [
            "The array is:  [1 2 3 4 5]\n",
            "The product of the array is:  120\n"
          ]
        }
      ]
    },
    {
      "cell_type": "code",
      "source": [
        "# find the product of 2 arrays\n",
        "\n",
        "import numpy as np\n",
        "\n",
        "arr1 = np.arange(1,3)\n",
        "print(\"Array1: \", arr1)\n",
        "\n",
        "arr2 = np.arange(12,14)\n",
        "print(\"\\n Array2: \", arr2)\n",
        "\n",
        "new_arr = np.prod([arr1,arr2])\n",
        "print(\"\\n The product of the arrays are: \", new_arr)"
      ],
      "metadata": {
        "colab": {
          "base_uri": "https://localhost:8080/"
        },
        "id": "efj1aZAW3jQg",
        "outputId": "67196d40-2733-4761-ad1c-4f9b15ad938e"
      },
      "execution_count": null,
      "outputs": [
        {
          "output_type": "stream",
          "name": "stdout",
          "text": [
            "Array1:  [1 2]\n",
            "\n",
            " Array2:  [12 13]\n",
            "\n",
            " The product of the arrays are:  312\n"
          ]
        }
      ]
    },
    {
      "cell_type": "code",
      "source": [
        "# find the product over an axis\n",
        "import numpy as np\n",
        "\n",
        "arr1 = np.arange(1,5)\n",
        "print(\"Array1: \", arr1)\n",
        "\n",
        "arr2 = np.arange(12,16)\n",
        "print(\"\\n Array2: \", arr2)\n",
        "\n",
        "# find the product over an axis\n",
        "new_arr = np.prod([arr1,arr2], axis=0) # --> axis 0 deines the column wise product --> axis=1 --> row wise products\n",
        "\n",
        "print(\"\\n The product of the arrays are: \", new_arr)\n"
      ],
      "metadata": {
        "colab": {
          "base_uri": "https://localhost:8080/"
        },
        "id": "ZIaykB6J3vUr",
        "outputId": "81ea1d16-830f-47c8-85fb-038d0036d9ab"
      },
      "execution_count": null,
      "outputs": [
        {
          "output_type": "stream",
          "name": "stdout",
          "text": [
            "Array1:  [1 2 3 4]\n",
            "\n",
            " Array2:  [12 13 14 15]\n",
            "\n",
            " The product of the arrays are:  [12 26 42 60]\n"
          ]
        }
      ]
    },
    {
      "cell_type": "code",
      "source": [
        "# cumprod() --> taking the product partially\n",
        "# eg:- [1,2,3,4] --> [1, 1*2, 1*2*3, 1*2*3*4] --. [1,2,6,24]\n",
        "\n",
        "import numpy as np\n",
        "\n",
        "arr = np.arange(10,15)\n",
        "print(\"Array: \", arr)\n",
        "\n",
        "new_arr = np.cumprod(arr)\n",
        "print(\"the Cummulative product of an array is: \", new_arr)"
      ],
      "metadata": {
        "colab": {
          "base_uri": "https://localhost:8080/"
        },
        "id": "LQ4Q2qbu4eJD",
        "outputId": "338340c4-f800-4b0e-b4e6-682a6191d0cc"
      },
      "execution_count": null,
      "outputs": [
        {
          "output_type": "stream",
          "name": "stdout",
          "text": [
            "Array:  [10 11 12 13 14]\n",
            "the Cummulative product of an array is:  [    10    110   1320  17160 240240]\n"
          ]
        }
      ]
    },
    {
      "cell_type": "markdown",
      "source": [
        "#### **Differences**\n"
      ],
      "metadata": {
        "id": "9RMZThoY5Svl"
      }
    },
    {
      "cell_type": "code",
      "source": [
        "# diff() --> subtracting two sucessive elements.\n",
        "# eg:= [1,2,3,4] --> [2-1,3-2,4-3] --> [1,1,1]\n",
        "\n",
        "import numpy as np\n",
        "\n",
        "arr = np.array([10,12,35,25]) #--> [12-10, 35-12, 25-35] -->  [2,23, -10]\n",
        "new_arr = np.diff(arr)\n",
        "print(new_arr)"
      ],
      "metadata": {
        "colab": {
          "base_uri": "https://localhost:8080/"
        },
        "id": "uzD9qUXb5Bfu",
        "outputId": "da88ef21-32ec-4e41-cef0-34bf60c05e49"
      },
      "execution_count": null,
      "outputs": [
        {
          "output_type": "stream",
          "name": "stdout",
          "text": [
            "[  2  23 -10]\n"
          ]
        }
      ]
    },
    {
      "cell_type": "markdown",
      "source": [
        "#### **LCM *(lowest commom multiply)***\n",
        "\n",
        "#### **GCD *(greatest common denominator)***"
      ],
      "metadata": {
        "id": "Nzf-sBtc7B4f"
      }
    },
    {
      "cell_type": "code",
      "source": [
        "# lcm() --> used to find the lcm\n",
        "\n",
        "import numpy as np\n",
        "item1 = 25\n",
        "item2 = 45\n",
        "\n",
        "print(\"the LCM is: \", np.lcm(item1,item2))"
      ],
      "metadata": {
        "colab": {
          "base_uri": "https://localhost:8080/"
        },
        "id": "UVY_5wxV6wgO",
        "outputId": "e4a4f1a8-53f3-4d72-c977-8fd233d5b8d9"
      },
      "execution_count": null,
      "outputs": [
        {
          "output_type": "stream",
          "name": "stdout",
          "text": [
            "the LCM is:  225\n"
          ]
        }
      ]
    },
    {
      "cell_type": "code",
      "source": [
        "# gcd() ---> also known as hcf\n",
        "\n",
        "import numpy as np\n",
        "item1 = 25 # 5*5\n",
        "item2 = 45 # 9*5\n",
        "\n",
        "print(\"the GCD is: \", np.gcd(item1,item2))"
      ],
      "metadata": {
        "colab": {
          "base_uri": "https://localhost:8080/"
        },
        "id": "nPONe2oz7kdO",
        "outputId": "384af851-9964-4a13-af07-79b1b8aee182"
      },
      "execution_count": null,
      "outputs": [
        {
          "output_type": "stream",
          "name": "stdout",
          "text": [
            "the GCD is:  5\n"
          ]
        }
      ]
    },
    {
      "cell_type": "markdown",
      "source": [
        "#### **Trigonometric**"
      ],
      "metadata": {
        "id": "k0yLcUXy8HKP"
      }
    },
    {
      "cell_type": "code",
      "source": [
        "# 1. sin()\n",
        "# 2. cos()\n",
        "# 3. tan()\n"
      ],
      "metadata": {
        "id": "9c_z1WFY7_M5"
      },
      "execution_count": null,
      "outputs": []
    },
    {
      "cell_type": "markdown",
      "source": [
        "#### **Set Operations**"
      ],
      "metadata": {
        "id": "SOAHYM8I95-c"
      }
    },
    {
      "cell_type": "code",
      "source": [
        "# unique() --> find the unique elemets from any array\n",
        "\n",
        "import numpy as np\n",
        "\n",
        "arr1 = np.array([1,1,1,2,3,4,6,4,5,6,7,8,8])\n",
        "\n",
        "print(\"Array1: \", arr1)\n",
        "\n",
        "x = np.unique(arr1)\n",
        "print(\"The unique elements are: \", x)"
      ],
      "metadata": {
        "colab": {
          "base_uri": "https://localhost:8080/"
        },
        "id": "QBmiJTHb9Z7X",
        "outputId": "23fff8ca-eced-425d-f8f5-4d51fee8115e"
      },
      "execution_count": null,
      "outputs": [
        {
          "output_type": "stream",
          "name": "stdout",
          "text": [
            "Array1:  [1 1 1 2 3 4 6 4 5 6 7 8 8]\n",
            "The unique elements are:  [1 2 3 4 5 6 7 8]\n"
          ]
        }
      ]
    },
    {
      "cell_type": "code",
      "source": [
        "# union1d() --> find the union between two elements\n",
        "import numpy as np\n",
        "\n",
        "arr1 = np.array([1,2,3,4])\n",
        "arr2 = np.array([3,4,5,6])\n",
        "\n",
        "new_arr = np.union1d(arr1,arr2)\n",
        "\n",
        "print(new_arr)"
      ],
      "metadata": {
        "colab": {
          "base_uri": "https://localhost:8080/"
        },
        "id": "gV9iUrWn-g9D",
        "outputId": "0d5bb258-fbec-4547-a484-61afb946b79a"
      },
      "execution_count": null,
      "outputs": [
        {
          "output_type": "stream",
          "name": "stdout",
          "text": [
            "[1 2 3 4 5 6]\n"
          ]
        }
      ]
    },
    {
      "cell_type": "code",
      "source": [
        "# intersect1d() -->\n",
        "\n",
        "import numpy as np\n",
        "\n",
        "arr1 = np.array([1,2,3,4])\n",
        "arr2 = np.array([3,4,5,6])\n",
        "\n",
        "new_arr = np.intersect1d(arr1,arr2)\n",
        "\n",
        "print(new_arr)"
      ],
      "metadata": {
        "colab": {
          "base_uri": "https://localhost:8080/"
        },
        "id": "DcQQoP2M-4Cb",
        "outputId": "0f66dfe2-1aac-4856-9f73-b90a571dd290"
      },
      "execution_count": null,
      "outputs": [
        {
          "output_type": "stream",
          "name": "stdout",
          "text": [
            "[3 4]\n"
          ]
        }
      ]
    },
    {
      "cell_type": "code",
      "source": [],
      "metadata": {
        "id": "UWEvr3A3_Ten"
      },
      "execution_count": null,
      "outputs": []
    },
    {
      "cell_type": "markdown",
      "source": [
        "# **Numpy Practice Questions**"
      ],
      "metadata": {
        "id": "C9F7IBpXYAqm"
      }
    },
    {
      "cell_type": "code",
      "source": [
        "# 1. How to create an empty array and Full array\n",
        "\n",
        "# import the numpy library\n",
        "\n",
        "import numpy as np\n",
        "\n",
        "# create an empty array\n",
        "emp_arr = np.empty((2,2))\n",
        "print(\"\\nEmpty Array\")\n",
        "print(emp_arr)\n",
        "\n",
        "# create a full array\n",
        "full_arr = np.full((5,2), 5)\n",
        "print(\"\\nFull Array\")\n",
        "print(full_arr)\n",
        "\n",
        "# create an array filled with all zeros\n",
        "zeros = np.zeros((2,2))\n",
        "print(\"\\nZeros array\")\n",
        "print(zeros)\n",
        "\n",
        "# Create an array with all ones\n",
        "ones = np.ones((4,3))\n",
        "print(\"\\nOnes array\")\n",
        "print(ones)"
      ],
      "metadata": {
        "colab": {
          "base_uri": "https://localhost:8080/"
        },
        "id": "932IJp4wYHtY",
        "outputId": "5bb60eed-6c6f-4cfb-9e71-060068b1a0eb"
      },
      "execution_count": null,
      "outputs": [
        {
          "output_type": "stream",
          "name": "stdout",
          "text": [
            "\n",
            "Empty Array\n",
            "[[5.05074380e-310 0.00000000e+000]\n",
            " [3.40444233e+184 6.74943432e-310]]\n",
            "\n",
            "Full Array\n",
            "[[5 5]\n",
            " [5 5]\n",
            " [5 5]\n",
            " [5 5]\n",
            " [5 5]]\n",
            "\n",
            "Zeros array\n",
            "[[0. 0.]\n",
            " [0. 0.]]\n",
            "\n",
            "Ones array\n",
            "[[1. 1. 1.]\n",
            " [1. 1. 1.]\n",
            " [1. 1. 1.]\n",
            " [1. 1. 1.]]\n"
          ]
        }
      ]
    },
    {
      "cell_type": "code",
      "source": [
        "# check weather a numpy array contains a specified row or not\n",
        "import numpy as np\n",
        "\n",
        "# creata an 2d array\n",
        "arr = np.array([[1,2,3,4],[3,4,2,1],[4,5,6,3], [7,5,8,9]])\n",
        "print(\"the 2-d array is: \\n\", arr)\n",
        "\n",
        "# check wherer an specific row is in array or not\n",
        "if [1,2,3,7] in arr.tolist():\n",
        "  print(\"The row is present\")\n",
        "else:\n",
        "  print(\"The row is not present\")\n"
      ],
      "metadata": {
        "colab": {
          "base_uri": "https://localhost:8080/"
        },
        "id": "SsvQ3UoBY2r9",
        "outputId": "64b07c81-1fb0-4a8f-d65c-255d8ffd442e"
      },
      "execution_count": null,
      "outputs": [
        {
          "output_type": "stream",
          "name": "stdout",
          "text": [
            "the 2-d array is: \n",
            " [[1 2 3 4]\n",
            " [3 4 2 1]\n",
            " [4 5 6 3]\n",
            " [7 5 8 9]]\n",
            "The row is not present\n"
          ]
        }
      ]
    },
    {
      "cell_type": "code",
      "source": [
        "# remove a row from an array that cintains non-numeric values.\n",
        "\n",
        "# import all the libraries\n",
        "import numpy as np\n",
        "\n",
        "# create a 2-d array\n",
        "\n",
        "arr1 = np.array([[1,2,3], [4,5,np.nan], [7,8,9], [True, False, True]])\n",
        "print(\"The array is:\\n \", arr1)\n",
        "\n",
        "# remove all the non-numeric rows\n",
        "new_arr = arr1[~np.isnan(arr1).any(axis=1)]\n",
        "print(\"The new array is:\\n\", new_arr)\n"
      ],
      "metadata": {
        "colab": {
          "base_uri": "https://localhost:8080/"
        },
        "id": "p4ElcuWzaZsM",
        "outputId": "a18d0ef7-bd94-4f9e-c733-0195e8d575ba"
      },
      "execution_count": null,
      "outputs": [
        {
          "output_type": "stream",
          "name": "stdout",
          "text": [
            "The array is:\n",
            "  [[ 1.  2.  3.]\n",
            " [ 4.  5. nan]\n",
            " [ 7.  8.  9.]\n",
            " [ 1.  0.  1.]]\n",
            "The new array is:\n",
            " [[1. 2. 3.]\n",
            " [7. 8. 9.]\n",
            " [1. 0. 1.]]\n"
          ]
        }
      ]
    },
    {
      "cell_type": "code",
      "source": [
        "# remove a column from an array that cintains non-numeric values.\n",
        "\n",
        "# import all the libraries\n",
        "import numpy as np\n",
        "\n",
        "# create a 2-d array\n",
        "\n",
        "arr1 = np.array([[1,2,3], [4,5,np.nan], [7,8,9], [True, False, True]])\n",
        "print(\"The array is:\\n \", arr1)\n",
        "\n",
        "# remove all the non-numeric column\n",
        "new_arr = arr1[ : , ~np.isnan(arr1).any(axis=0)] # column_wise\n",
        "print(\"The new array is:\\n\", new_arr)"
      ],
      "metadata": {
        "colab": {
          "base_uri": "https://localhost:8080/"
        },
        "id": "TxlZzG9TcDKa",
        "outputId": "5d08d2bf-2427-4094-b9d7-4657b7c820f1"
      },
      "execution_count": null,
      "outputs": [
        {
          "output_type": "stream",
          "name": "stdout",
          "text": [
            "The array is:\n",
            "  [[ 1.  2.  3.]\n",
            " [ 4.  5. nan]\n",
            " [ 7.  8.  9.]\n",
            " [ 1.  0.  1.]]\n",
            "The new array is:\n",
            " [[1. 2.]\n",
            " [4. 5.]\n",
            " [7. 8.]\n",
            " [1. 0.]]\n"
          ]
        }
      ]
    },
    {
      "cell_type": "code",
      "source": [
        "# Remove an single dimensional entries from the shape of an array\n",
        "\n",
        "# using squeeze(arr,axis=None)\n",
        "\n",
        "# create an array\n",
        "import numpy as np\n",
        "\n",
        "arr = np.array([[[1,2,3,4,5],[6,7,8,9,10]]])\n",
        "\n",
        "print(\"The original array:\\n \", arr)\n",
        "print(\"The shape of the array is:\", arr.shape)\n",
        "\n",
        "new_arr = np.squeeze(arr)\n",
        "\n",
        "print(\"The new array:\\n \", new_arr)\n",
        "print(\"The shape of the new array is:\", new_arr.shape)"
      ],
      "metadata": {
        "colab": {
          "base_uri": "https://localhost:8080/"
        },
        "id": "Ckm072n6cbq0",
        "outputId": "19360149-9570-4f9e-d525-c63a574e5ff5"
      },
      "execution_count": null,
      "outputs": [
        {
          "output_type": "stream",
          "name": "stdout",
          "text": [
            "The original array:\n",
            "  [[[ 1  2  3  4  5]\n",
            "  [ 6  7  8  9 10]]]\n",
            "The shape of the array is: (1, 2, 5)\n",
            "The new array:\n",
            "  [[ 1  2  3  4  5]\n",
            " [ 6  7  8  9 10]]\n",
            "The shape of the new array is: (2, 5)\n"
          ]
        }
      ]
    },
    {
      "cell_type": "code",
      "source": [
        "# find the number of occurrance of an sequence in numpy array\n",
        "# creat an array\n",
        "import numpy as np\n",
        "arr1 = np.array([[1,2,3,4],[2,3,9,6],[5,6,2,3], [1,2,3,6],\n",
        "                 [2,3,5,6],\n",
        "                 [4,5,6,7],\n",
        "                  [7,8,9,10]])\n",
        "# print the original array\n",
        "print(\"\\n The original array is: \", arr1)\n",
        "# count the 2,3 sequence in the array\n",
        "count = 0\n",
        "for row in arr1:\n",
        "  for i in range(len(row) - 1):\n",
        "    if row[i] == 2 and row[i + 1] == 3:\n",
        "      count += 1\n",
        "print(\"The number of occurrences of the sequence 2, 3 is:\", count)\n"
      ],
      "metadata": {
        "colab": {
          "base_uri": "https://localhost:8080/"
        },
        "id": "kXeliP9GdU8e",
        "outputId": "2ba15902-3bb4-45a2-fe3b-fec88c665418"
      },
      "execution_count": null,
      "outputs": [
        {
          "output_type": "stream",
          "name": "stdout",
          "text": [
            "\n",
            " The original array is:  [[ 1  2  3  4]\n",
            " [ 2  3  9  6]\n",
            " [ 5  6  2  3]\n",
            " [ 1  2  3  6]\n",
            " [ 2  3  5  6]\n",
            " [ 4  5  6  7]\n",
            " [ 7  8  9 10]]\n",
            "The number of occurrences of the sequence 2, 3 is: 5\n"
          ]
        }
      ]
    },
    {
      "cell_type": "code",
      "source": [
        "# find the most frequent value in the numpy array\n",
        "\n",
        "# create an array\n",
        "import numpy as np\n",
        "\n",
        "# 1-d array\n",
        "arr1 = np.array([1,2,3,1,1,1,1,3,4,4,6,7,8,9,3,3,2,1,2,2,3,3])\n",
        "\n",
        "\n",
        "\n"
      ],
      "metadata": {
        "id": "w-7m9IAyfcrD"
      },
      "execution_count": null,
      "outputs": []
    },
    {
      "cell_type": "code",
      "source": [
        "# prompt: # find the most frequent value in the numpy array\n",
        "# # create an array\n",
        "\n",
        "import numpy as np\n",
        "# # 1-d array\n",
        "arr1 = np.array([1,2,3,1,1,1,1,3,4,4,6,7,8,9,3,3,2,1,2,2,3,3])\n",
        "\n",
        "# find the most frequent\n",
        "print(\"The most frequent value is: \", np.bincount(arr1).argmax())\n"
      ],
      "metadata": {
        "colab": {
          "base_uri": "https://localhost:8080/"
        },
        "id": "8IDl2VP-CYuT",
        "outputId": "c96d5e30-4c63-4969-c164-0e2d6f7596bd"
      },
      "execution_count": null,
      "outputs": [
        {
          "output_type": "stream",
          "name": "stdout",
          "text": [
            "The most frequent value is:  1\n"
          ]
        }
      ]
    },
    {
      "cell_type": "code",
      "source": [
        "# How to combine 1-d & 2-d array\n",
        "import numpy as np\n",
        "\n",
        "# create 1-d array\n",
        "\n",
        "arr1d = np.arange(5)\n",
        "print(\"1-D array: \", arr1d)\n",
        "\n",
        "# create 2-d array\n",
        "\n",
        "arr2d = np.arange(10,20).reshape(2,5)\n",
        "print(\"2-D array: \", arr2d)\n",
        "\n",
        "# combine them together\n",
        "com_arr = np.vstack((arr1d, arr2d))\n",
        "print(\"Combined array: \", com_arr)\n",
        "\n",
        "# elemet wise combine using nditer\n",
        "for a, b in np.nditer([arr1d, arr2d]):\n",
        "  print(f\"{a}:{b}\")\n"
      ],
      "metadata": {
        "colab": {
          "base_uri": "https://localhost:8080/"
        },
        "id": "e48Mqv5KC1U7",
        "outputId": "19711ca3-30ec-44b7-a7cd-2887f757b6e8"
      },
      "execution_count": null,
      "outputs": [
        {
          "output_type": "stream",
          "name": "stdout",
          "text": [
            "1-D array:  [0 1 2 3 4]\n",
            "2-D array:  [[10 11 12 13 14]\n",
            " [15 16 17 18 19]]\n",
            "Combined array:  [[ 0  1  2  3  4]\n",
            " [10 11 12 13 14]\n",
            " [15 16 17 18 19]]\n",
            "0:10\n",
            "1:11\n",
            "2:12\n",
            "3:13\n",
            "4:14\n",
            "0:15\n",
            "1:16\n",
            "2:17\n",
            "3:18\n",
            "4:19\n"
          ]
        }
      ]
    },
    {
      "cell_type": "code",
      "source": [
        "# How to add border in numpy array\n",
        "# pad() --> args--> arr, padwidth, mode = constant, constant_value=0\n",
        "\n",
        "# create an numpy array\n",
        "import numpy as np\n",
        "\n",
        "#create array with zeros\n",
        "arr = np.zeros((3,3))\n",
        "# print the array\n",
        "print(\"the array is: \", arr)\n",
        "\n",
        "# add some border in the array\n",
        "print(\"Added the border in the array\\n \")\n",
        "\n",
        "pad_arr  = np.pad(arr, pad_width=1, mode='constant', constant_values=1)\n",
        "print(pad_arr)"
      ],
      "metadata": {
        "id": "bGtxnvdGDtlP",
        "colab": {
          "base_uri": "https://localhost:8080/"
        },
        "outputId": "86654c3f-24e3-4f65-ff82-dace4332ad94"
      },
      "execution_count": null,
      "outputs": [
        {
          "output_type": "stream",
          "name": "stdout",
          "text": [
            "the array is:  [[0. 0. 0.]\n",
            " [0. 0. 0.]\n",
            " [0. 0. 0.]]\n",
            "Added the border in the array\n",
            " \n",
            "[[1. 1. 1. 1. 1.]\n",
            " [1. 0. 0. 0. 1.]\n",
            " [1. 0. 0. 0. 1.]\n",
            " [1. 0. 0. 0. 1.]\n",
            " [1. 1. 1. 1. 1.]]\n"
          ]
        }
      ]
    },
    {
      "cell_type": "code",
      "source": [
        "# How to compare two numpy array\n",
        "\n",
        "# create an array\n",
        "import numpy as np\n",
        "\n",
        "arr1 = np.arange(1,10).reshape(3,3)\n",
        "print(\"Array1: \\n\", arr1)\n",
        "\n",
        "arr2 = np.arange(11,20).reshape(3,3)\n",
        "print(\"Array2: \\n\", arr2)\n",
        "\n",
        "if (arr1 == arr2).all():\n",
        "  print(\"The arrays are equal\")\n",
        "else:\n",
        "  print(\"The arrays are not equal\")\n",
        "\n",
        "\n",
        "# using np.array_equal()\n",
        "print(\"\\nUsing the numoy function: \\n\")\n",
        "if np.array_equal(arr1,arr2):\n",
        "  print(\"the array is equal\")\n",
        "else:\n",
        "  print(\"Array is not equal\")"
      ],
      "metadata": {
        "colab": {
          "base_uri": "https://localhost:8080/"
        },
        "id": "lMIjER0OP6cR",
        "outputId": "5227e6f9-e345-4899-ae77-e13d66b2cfa4"
      },
      "execution_count": null,
      "outputs": [
        {
          "output_type": "stream",
          "name": "stdout",
          "text": [
            "Array1: \n",
            " [[1 2 3]\n",
            " [4 5 6]\n",
            " [7 8 9]]\n",
            "Array2: \n",
            " [[11 12 13]\n",
            " [14 15 16]\n",
            " [17 18 19]]\n",
            "The arrays are not equal\n",
            "\n",
            "Using the numoy function: \n",
            "\n",
            "Array is not equal\n"
          ]
        }
      ]
    },
    {
      "cell_type": "code",
      "source": [
        "# check wheather specified value is present in the numpy array\n",
        "\n",
        "# import the library\n",
        "import numpy as np\n",
        "\n",
        "# create an array\n",
        "arr = np.arange(1,10)\n",
        "\n",
        "# print the array\n",
        "print(\"The array is: \\n \", arr)\n",
        "\n",
        "if 5 in arr:\n",
        "  print(\"The value is present\\n \")\n",
        "else:\n",
        "  print(\"The value is not present; \\n \")\n",
        "\n",
        "\n",
        "# find the element in the 2-d array\n",
        "arr1 = np.arange(11,20).reshape(3,3)\n",
        "\n",
        "# print the array\n",
        "print(\"The array is: \\n \", arr1)\n",
        "\n",
        "if 22 in arr1:\n",
        "  print(\"The value is present: \\n\")\n",
        "else:\n",
        "  print(\"The value is not present:\")"
      ],
      "metadata": {
        "colab": {
          "base_uri": "https://localhost:8080/"
        },
        "id": "7tald7HWQprx",
        "outputId": "48e5007a-161a-4c19-c658-a07b1af7c046"
      },
      "execution_count": null,
      "outputs": [
        {
          "output_type": "stream",
          "name": "stdout",
          "text": [
            "The array is: \n",
            "  [1 2 3 4 5 6 7 8 9]\n",
            "The value is present\n",
            " \n",
            "The array is: \n",
            "  [[11 12 13]\n",
            " [14 15 16]\n",
            " [17 18 19]]\n",
            "The value is not present:\n"
          ]
        }
      ]
    },
    {
      "cell_type": "code",
      "source": [
        "# how to get all 2-d diagonals of 3d numpy array\n",
        "\n",
        "# import the library\n",
        "import numpy as np\n",
        "\n",
        "# create an 3-d array\n",
        "\n",
        "arr = np.arange(5 * 4 * 4).reshape(5,4,4)\n",
        "print(\"The #-d array is:\\n\", arr)\n",
        "\n",
        "\n",
        "# create an 2-d array from the diagonal of the array\n",
        "diag_arr = np.diagonal(arr, axis1=1, axis2=2)\n",
        "print(\"\\nThe 2-d array is:\\n\", diag_arr)\n",
        "\n"
      ],
      "metadata": {
        "colab": {
          "base_uri": "https://localhost:8080/"
        },
        "id": "59-IE5n1Rq9k",
        "outputId": "afaa52af-a083-4932-e096-c303bdddf2df"
      },
      "execution_count": null,
      "outputs": [
        {
          "output_type": "stream",
          "name": "stdout",
          "text": [
            "The #-d array is:\n",
            " [[[ 0  1  2  3]\n",
            "  [ 4  5  6  7]\n",
            "  [ 8  9 10 11]\n",
            "  [12 13 14 15]]\n",
            "\n",
            " [[16 17 18 19]\n",
            "  [20 21 22 23]\n",
            "  [24 25 26 27]\n",
            "  [28 29 30 31]]\n",
            "\n",
            " [[32 33 34 35]\n",
            "  [36 37 38 39]\n",
            "  [40 41 42 43]\n",
            "  [44 45 46 47]]\n",
            "\n",
            " [[48 49 50 51]\n",
            "  [52 53 54 55]\n",
            "  [56 57 58 59]\n",
            "  [60 61 62 63]]\n",
            "\n",
            " [[64 65 66 67]\n",
            "  [68 69 70 71]\n",
            "  [72 73 74 75]\n",
            "  [76 77 78 79]]]\n",
            "\n",
            "The 2-d array is:\n",
            " [[ 0  5 10 15]\n",
            " [16 21 26 31]\n",
            " [32 37 42 47]\n",
            " [48 53 58 63]\n",
            " [64 69 74 79]]\n"
          ]
        }
      ]
    },
    {
      "cell_type": "code",
      "source": [
        "# how to flateen the arary\n",
        "\n",
        "# import the array\n",
        "import numpy as np\n",
        "\n",
        "# create an array\n",
        "arr = np.arange(1,10).reshape(3,3)\n",
        "print(\"the array is: \\n\", arr)\n",
        "\n",
        "print(\"the flatten array is:\\n \", arr.flatten())\n",
        "\n",
        "# using the -1\n",
        "print(\"the flatten array is:\\n \", arr.reshape(-1))"
      ],
      "metadata": {
        "colab": {
          "base_uri": "https://localhost:8080/"
        },
        "id": "5CzflZU1WVnM",
        "outputId": "20b781ed-d3e7-4db7-e9dd-97129fa7f4bf"
      },
      "execution_count": null,
      "outputs": [
        {
          "output_type": "stream",
          "name": "stdout",
          "text": [
            "the array is: \n",
            " [[1 2 3]\n",
            " [4 5 6]\n",
            " [7 8 9]]\n",
            "the flatten array is:\n",
            "  [1 2 3 4 5 6 7 8 9]\n",
            "the flatten array is:\n",
            "  [1 2 3 4 5 6 7 8 9]\n"
          ]
        }
      ]
    },
    {
      "cell_type": "code",
      "source": [
        "# how to make numpy array read only\n",
        "import numpy as np\n",
        "\n",
        "# create an array\n",
        "arr = np.arange(1,10)\n",
        "print(\"the array is:\\n \", arr)\n",
        "\n",
        "# try t replace the item\n",
        "arr[2] = 6\n",
        "\n",
        "# make the numpy array read only\n",
        "arr.flags.writeable = False\n",
        "print(\"the array is:\\n \", arr)\n",
        "\n",
        "arr[4] = 89\n"
      ],
      "metadata": {
        "colab": {
          "base_uri": "https://localhost:8080/",
          "height": 263
        },
        "id": "NE0hF42OXNCG",
        "outputId": "36b77388-1646-4867-b203-d2a8cac60de7"
      },
      "execution_count": null,
      "outputs": [
        {
          "output_type": "stream",
          "name": "stdout",
          "text": [
            "the array is:\n",
            "  [1 2 3 4 5 6 7 8 9]\n",
            "the array is:\n",
            "  [1 2 6 4 5 6 7 8 9]\n"
          ]
        },
        {
          "output_type": "error",
          "ename": "ValueError",
          "evalue": "assignment destination is read-only",
          "traceback": [
            "\u001b[0;31m---------------------------------------------------------------------------\u001b[0m",
            "\u001b[0;31mValueError\u001b[0m                                Traceback (most recent call last)",
            "\u001b[0;32m<ipython-input-24-998a672452f5>\u001b[0m in \u001b[0;36m<cell line: 15>\u001b[0;34m()\u001b[0m\n\u001b[1;32m     13\u001b[0m \u001b[0mprint\u001b[0m\u001b[0;34m(\u001b[0m\u001b[0;34m\"the array is:\\n \"\u001b[0m\u001b[0;34m,\u001b[0m \u001b[0marr\u001b[0m\u001b[0;34m)\u001b[0m\u001b[0;34m\u001b[0m\u001b[0;34m\u001b[0m\u001b[0m\n\u001b[1;32m     14\u001b[0m \u001b[0;34m\u001b[0m\u001b[0m\n\u001b[0;32m---> 15\u001b[0;31m \u001b[0marr\u001b[0m\u001b[0;34m[\u001b[0m\u001b[0;36m4\u001b[0m\u001b[0;34m]\u001b[0m \u001b[0;34m=\u001b[0m \u001b[0;36m89\u001b[0m\u001b[0;34m\u001b[0m\u001b[0;34m\u001b[0m\u001b[0m\n\u001b[0m\u001b[1;32m     16\u001b[0m \u001b[0;31m#\u001b[0m\u001b[0;34m\u001b[0m\u001b[0;34m\u001b[0m\u001b[0m\n",
            "\u001b[0;31mValueError\u001b[0m: assignment destination is read-only"
          ]
        }
      ]
    },
    {
      "cell_type": "code",
      "source": [
        "# Count the non-zero elements\n",
        "\n",
        "# import the array\n",
        "import numpy as np\n",
        "\n",
        "# create an array\n",
        "arr = np.array([0,1,2,0,4,2,0,0,0,0,2,1,2])\n",
        "\n",
        "# couunt the non-zero elements\n",
        "count = np.count_nonzero(arr)\n",
        "print(\"The count of the non-zero elements is: \", count)\n",
        "\n",
        "# using count operartor\n",
        "count1 = (arr != 0).sum()\n",
        "print(\"The count of the non-zero elements is: \", count1)\n",
        "\n",
        "# using for loop\n",
        "count2 = 0\n",
        "for i in arr:\n",
        "  if i != 0:\n",
        "    count2 += 1\n",
        "print(\"The count of the non-zero elements is: \", count2)"
      ],
      "metadata": {
        "colab": {
          "base_uri": "https://localhost:8080/"
        },
        "id": "-z3tbAaIYNw9",
        "outputId": "5df83504-4e4f-4d85-c646-0c2ff5bcb10c"
      },
      "execution_count": null,
      "outputs": [
        {
          "output_type": "stream",
          "name": "stdout",
          "text": [
            "The count of the non-zero elements is:  7\n",
            "The count of the non-zero elements is:  7\n",
            "The count of the non-zero elements is:  7\n"
          ]
        }
      ]
    },
    {
      "cell_type": "code",
      "source": [
        "# Given a 2-dimensional NumPy array arr of shape (4, 5), perform the following operations:\n",
        "import numpy as np\n",
        "arr = np.arange(1,21).reshape(4,5)\n",
        "print(arr)\n",
        "# Extract the element at the third row and fourth column\n",
        "print(arr[2,3])\n",
        "\n",
        "# Extract the entire first row.\n",
        "print(arr[0])\n",
        "\n",
        "# Extract the entire last column.\n",
        "print(arr[:,-1])\n",
        "\n",
        "# Extract a subarray containing the first three rows and the first two columns.\n",
        "print(arr[0:3,0:2])\n",
        "\n",
        "# Check the expected output below for details."
      ],
      "metadata": {
        "colab": {
          "base_uri": "https://localhost:8080/"
        },
        "id": "NG_WlVm6-aqW",
        "outputId": "f1ae5302-dfe4-44a4-8745-fc130d8bd882"
      },
      "execution_count": null,
      "outputs": [
        {
          "output_type": "stream",
          "name": "stdout",
          "text": [
            "[[ 1  2  3  4  5]\n",
            " [ 6  7  8  9 10]\n",
            " [11 12 13 14 15]\n",
            " [16 17 18 19 20]]\n",
            "14\n",
            "[1 2 3 4 5]\n",
            "[ 5 10 15 20]\n",
            "[[ 1  2]\n",
            " [ 6  7]\n",
            " [11 12]]\n"
          ]
        }
      ]
    },
    {
      "cell_type": "code",
      "source": [
        "#you are given a 3D NumPy array in the IDE. Go ahead and perform the following operations\n",
        "\n",
        "import numpy as np\n",
        "\n",
        "arr = np.array([\n",
        "    [[ 1,  2,  3], [ 4,  5,  6], [ 7,  8,  9]],\n",
        "    [[10, 11, 12], [13, 14, 15], [16, 17, 18]],\n",
        "    [[19, 20, 21], [22, 23, 24], [25, 26, 27]]\n",
        "])\n",
        "print(arr)\n",
        "\n",
        "#Extract the element at position (1, 2, 0) - print the same to the console\n",
        "print(arr[1,2,0])\n",
        "\n",
        "#Extract the 3rd column of the second 2D array\n",
        "print(arr[1,:,-1])\n"
      ],
      "metadata": {
        "colab": {
          "base_uri": "https://localhost:8080/"
        },
        "id": "otoLeVuIutIY",
        "outputId": "7ea163d8-ddfe-4451-c8c5-8ae8c32ac145"
      },
      "execution_count": null,
      "outputs": [
        {
          "output_type": "stream",
          "name": "stdout",
          "text": [
            "[[[ 1  2  3]\n",
            "  [ 4  5  6]\n",
            "  [ 7  8  9]]\n",
            "\n",
            " [[10 11 12]\n",
            "  [13 14 15]\n",
            "  [16 17 18]]\n",
            "\n",
            " [[19 20 21]\n",
            "  [22 23 24]\n",
            "  [25 26 27]]]\n",
            "16\n",
            "[12 15 18]\n"
          ]
        }
      ]
    },
    {
      "cell_type": "code",
      "source": [
        "# update the code below\n",
        "\n",
        "import numpy as np\n",
        "\n",
        "def filter_matrix_elements(matrix, threshold):\n",
        "    # Element-wise comparison to check if elements are greater than the threshold\n",
        "\n",
        "    # Element-wise comparison to check if elements are even\n",
        "\n",
        "\n",
        "    # Combining the two conditions using logical AND\n",
        "\n",
        "\n",
        "    # Creating the result array where elements meeting criteria are retained, others are set to 0\n",
        "    result = matrix * criteria\n",
        "\n",
        "    return result\n",
        "\n",
        "matrix = np.array([\n",
        "    [1, 12, 15],\n",
        "    [8, 23, 4],\n",
        "    [9, 6, 17]\n",
        "])\n",
        "threshold = 10\n",
        "\n",
        "filtered_matrix = filter_matrix_elements(matrix, threshold)\n",
        "print(filtered_matrix)\n"
      ],
      "metadata": {
        "id": "UMUG0n_c10Xt"
      },
      "execution_count": null,
      "outputs": []
    },
    {
      "cell_type": "markdown",
      "source": [
        "# **Numpy Indexing Practice Questions**"
      ],
      "metadata": {
        "id": "KxBXz6w8ZPI7"
      }
    },
    {
      "cell_type": "code",
      "source": [
        "# Replace an array elements from array which doesn't satisfy the certain condition\n",
        "\n",
        "# import the library\n",
        "import numpy as np\n",
        "\n",
        "# create an array\n",
        "arr = np.array([1,2,3,45,7,8,9,89])\n",
        "print(\"the original array is:\\n \", arr)\n",
        "\n",
        "# replace a value using some condition\n",
        "arr[arr < 5] = -1\n",
        "print(\"the new array is:\\n \", arr)\n",
        "\n",
        "# using ehere\n",
        "arr1 = np.where(arr < 6, 67, arr)\n",
        "print(\"the new array is:\\n \", arr1)\n",
        "\n",
        "# using for loop\n",
        "for i in arr:\n",
        "  if (i < 6) and (i < 89):\n",
        "    arr[i] = 67\n",
        "print(\"the new array is:\\n \", arr)"
      ],
      "metadata": {
        "colab": {
          "base_uri": "https://localhost:8080/"
        },
        "id": "l3Gmrz1lYxM3",
        "outputId": "31198f44-d5b5-40d7-cfe0-742622cd79e5"
      },
      "execution_count": null,
      "outputs": [
        {
          "output_type": "stream",
          "name": "stdout",
          "text": [
            "the original array is:\n",
            "  [ 1  2  3 45  7  8  9 89]\n",
            "the new array is:\n",
            "  [-1 -1 -1 45  7  8  9 89]\n",
            "the new array is:\n",
            "  [67 67 67 45  7  8  9 89]\n",
            "the new array is:\n",
            "  [-1 -1 -1 45  7  8  9 67]\n"
          ]
        }
      ]
    },
    {
      "cell_type": "code",
      "source": [
        "# return the indicies of the of elements where the given condition is satisfied\n",
        "\n",
        "# import the library\n",
        "import numpy as np\n",
        "\n",
        "# create an array\n",
        "arr = np.array([1,2,3,45,7,8,9,89])\n",
        "print(\"the original array is:\\n \", arr)\n",
        "\n",
        "# find the indicies of the elements\n",
        "print(\"the indicies of the elements are:\\n \", np.where(arr < 5))"
      ],
      "metadata": {
        "colab": {
          "base_uri": "https://localhost:8080/"
        },
        "id": "dWZ4FdRdaLpl",
        "outputId": "aa6de603-6bdc-4203-81f7-cd67c83f6672"
      },
      "execution_count": null,
      "outputs": [
        {
          "output_type": "stream",
          "name": "stdout",
          "text": [
            "the original array is:\n",
            "  [ 1  2  3 45  7  8  9 89]\n",
            "the indicies of the elements are:\n",
            "  (array([0, 1, 2]),)\n"
          ]
        }
      ]
    },
    {
      "cell_type": "code",
      "source": [
        "# Replace the nan value with avarage of the columns\n",
        "\n",
        "# import the library\n",
        "import numpy as np\n",
        "\n",
        "# create an array\n",
        "arr = np.array([[1,2,3,np.nan], [4,7,np.nan,8], [7,8,9,2]])\n",
        "print(\"The original Array is:\\n\", arr)\n",
        "\n",
        "# replace the NaN witb column average\n",
        "\n",
        "# using for loop\n",
        "for i in arr:\n",
        "  for j in range(len(i)):\n",
        "    if np.isnan(i[j]):\n",
        "      i[j] = np.nanmean(i)\n",
        "print(\"\\nThe new array is:\\n\", arr)"
      ],
      "metadata": {
        "colab": {
          "base_uri": "https://localhost:8080/"
        },
        "id": "d1cudal2bSqw",
        "outputId": "c1314b6d-4af6-432a-cbee-d21b7583b39e"
      },
      "execution_count": null,
      "outputs": [
        {
          "output_type": "stream",
          "name": "stdout",
          "text": [
            "The original Array is:\n",
            " [[ 1.  2.  3. nan]\n",
            " [ 4.  7. nan  8.]\n",
            " [ 7.  8.  9.  2.]]\n",
            "\n",
            "The new array is:\n",
            " [[1.         2.         3.         2.        ]\n",
            " [4.         7.         6.33333333 8.        ]\n",
            " [7.         8.         9.         2.        ]]\n"
          ]
        }
      ]
    },
    {
      "cell_type": "code",
      "source": [
        "# replace negative value with zeros\n",
        "\n",
        "# import the library\n",
        "import numpy as np\n",
        "\n",
        "# create an array\n",
        "arr = np.array([1,2,3,-45,7,-8,9,-89, -7])\n",
        "print(\"the original array is:\\n \", arr)\n",
        "\n",
        "# replace the value\n",
        "arr[arr < 0] = 0\n",
        "print(\"the new array is:\\n \", arr)\n",
        "\n",
        "# using for loop\n",
        "for i in arr:\n",
        "  if i < 0:\n",
        "    arr[i] = 0\n",
        "\n",
        "print(\"the new array is:\\n \", arr)"
      ],
      "metadata": {
        "colab": {
          "base_uri": "https://localhost:8080/"
        },
        "id": "DZFDTV5CcsSX",
        "outputId": "618cfe14-8a51-41b9-f56f-6a48d973b513"
      },
      "execution_count": null,
      "outputs": [
        {
          "output_type": "stream",
          "name": "stdout",
          "text": [
            "the original array is:\n",
            "  [  1   2   3 -45   7  -8   9 -89  -7]\n",
            "the new array is:\n",
            "  [1 2 3 0 7 0 9 0 0]\n",
            "the new array is:\n",
            "  [1 2 3 0 7 0 9 0 0]\n"
          ]
        }
      ]
    },
    {
      "cell_type": "code",
      "source": [
        "# How to get values of an Numpy Array at certain index positions\n",
        "\n",
        "# import the library\n",
        "import numpy as np\n",
        "\n",
        "# create an array\n",
        "arr = np.array([1,2,3,6,7])\n",
        "print(\"The Array1 is:\\n \", arr)\n",
        "\n",
        "# create 2nd array\n",
        "arr1 = np.array([11,15,17,78,5])\n",
        "print(\"The Array2 is: \\n\", arr1)\n",
        "\n",
        "# get the values ta the numpy array\n",
        "\n",
        "print(\"The new array is:\\n \", arr.put([0,2], arr1))"
      ],
      "metadata": {
        "colab": {
          "base_uri": "https://localhost:8080/"
        },
        "id": "lpRDD10fdyrO",
        "outputId": "d6a0d651-24a5-482e-8e31-d41391fe4971"
      },
      "execution_count": null,
      "outputs": [
        {
          "output_type": "stream",
          "name": "stdout",
          "text": [
            "The Array1 is:\n",
            "  [1 2 3 6 7]\n",
            "The Array2 is: \n",
            " [11 15 17 78  5]\n",
            "The new array is:\n",
            "  None\n"
          ]
        }
      ]
    },
    {
      "cell_type": "code",
      "source": [
        "# Find the indices of elements equal to zero in numpy\n",
        "\n",
        "# import the library\n",
        "import numpy as np\n",
        "\n",
        "# create an array\n",
        "arr = np.array([0,1,4,0,5,8,0,0,2,0])\n",
        "print(\"The array is:\\n \", arr)\n",
        "\n",
        "# find the indices of the elements\n",
        "print(\"The indices of the elements are:\\n \", np.where(arr == 0))"
      ],
      "metadata": {
        "colab": {
          "base_uri": "https://localhost:8080/"
        },
        "id": "4hh9ciNKe5Ad",
        "outputId": "01563198-c09c-4f12-c05e-6b6f73b2eeaf"
      },
      "execution_count": null,
      "outputs": [
        {
          "output_type": "stream",
          "name": "stdout",
          "text": [
            "The array is:\n",
            "  [0 1 4 0 5 8 0 0 2 0]\n",
            "The indices of the elements are:\n",
            "  (array([0, 3, 6, 7, 9]),)\n"
          ]
        }
      ]
    },
    {
      "cell_type": "code",
      "source": [
        "# remove the columns and raws which have non-numeric values\n",
        "\n",
        "# import the library\n",
        "import numpy as np\n",
        "\n",
        "# create an array\n",
        "arr = np.array([[1,2,34,2], [np.nan, 5,8,9], [7,np.nan,8,6], [4,5,7,9]])\n",
        "print(\"the array is:\\n\", arr)\n",
        "\n",
        "# remove the column\n",
        "print(\"the new array is:\\n\", arr[:, ~np.isnan(arr).any(axis=0)])\n",
        "\n",
        "# remove the row\n",
        "print(\"the new array is: \\n\", arr[~np.isnan(arr).any(axis=1)])"
      ],
      "metadata": {
        "colab": {
          "base_uri": "https://localhost:8080/"
        },
        "id": "Fxv7UdBEf1ui",
        "outputId": "71f8570b-e04e-4def-9b10-e42c59a1eb34"
      },
      "execution_count": null,
      "outputs": [
        {
          "output_type": "stream",
          "name": "stdout",
          "text": [
            "the array is:\n",
            " [[ 1.  2. 34.  2.]\n",
            " [nan  5.  8.  9.]\n",
            " [ 7. nan  8.  6.]\n",
            " [ 4.  5.  7.  9.]]\n",
            "the new array is:\n",
            " [[34.  2.]\n",
            " [ 8.  9.]\n",
            " [ 8.  6.]\n",
            " [ 7.  9.]]\n",
            "the new array is: \n",
            " [[ 1.  2. 34.  2.]\n",
            " [ 4.  5.  7.  9.]]\n"
          ]
        }
      ]
    },
    {
      "cell_type": "code",
      "source": [
        "# How to access different rows of multidimensional numPy array\n",
        "\n",
        "# import the library\n",
        "import numpy as np\n",
        "\n",
        "# create an array\n",
        "arr = np.arange(45,70).reshape(5,5)\n",
        "print(\"the array is:\\n \", arr)\n",
        "\n",
        "# access the different rows\n",
        "new_arr = arr[[0,4]]\n",
        "print(\"the new array:\\n\", new_arr)\n",
        "\n"
      ],
      "metadata": {
        "colab": {
          "base_uri": "https://localhost:8080/"
        },
        "id": "Zgo7yKuugUeh",
        "outputId": "a413b5df-df1d-4911-d1d4-bd79afa9385b"
      },
      "execution_count": null,
      "outputs": [
        {
          "output_type": "stream",
          "name": "stdout",
          "text": [
            "the array is:\n",
            "  [[45 46 47 48 49]\n",
            " [50 51 52 53 54]\n",
            " [55 56 57 58 59]\n",
            " [60 61 62 63 64]\n",
            " [65 66 67 68 69]]\n",
            "the new array:\n",
            " [[45 46 47 48 49]\n",
            " [65 66 67 68 69]]\n"
          ]
        }
      ]
    },
    {
      "cell_type": "code",
      "source": [
        "# get the row having elements larger then X\n",
        "\n",
        "# import library\n",
        "import numpy as np\n",
        "\n",
        "# create an array\n",
        "arr = np.arange(45,65).reshape(5,4)\n",
        "print(\"The Array:\\n \", arr)\n",
        "\n",
        "print(\"\\nThe conditional array is: \")\n",
        "for i in arr:\n",
        "  for j in range(len(i)):\n",
        "    if i[j] > 54:\n",
        "      print(i)\n",
        "      break"
      ],
      "metadata": {
        "colab": {
          "base_uri": "https://localhost:8080/"
        },
        "id": "1w76k9dohah-",
        "outputId": "c0570b4d-3899-47b4-cf6b-fbd274cd0bea"
      },
      "execution_count": null,
      "outputs": [
        {
          "output_type": "stream",
          "name": "stdout",
          "text": [
            "The Array:\n",
            "  [[45 46 47 48]\n",
            " [49 50 51 52]\n",
            " [53 54 55 56]\n",
            " [57 58 59 60]\n",
            " [61 62 63 64]]\n",
            "\n",
            "The conditional array is: \n",
            "[53 54 55 56]\n",
            "[57 58 59 60]\n",
            "[61 62 63 64]\n"
          ]
        }
      ]
    },
    {
      "cell_type": "code",
      "source": [
        "# Check elements present in the Numoy Array\n",
        "\n",
        "# import thye library\n",
        "import numpy as np\n",
        "\n",
        "# create an array\n",
        "arr = np.array([[1,2,3,4],[4,5,0,8]])\n",
        "print(\"the array is: \\n\", arr)\n",
        "\n",
        "# check the elements\n",
        "print(2 in arr)\n",
        "print(5 in arr)\n",
        "print(0 in arr)\n",
        "\n",
        "# check the elements\n",
        "for i in arr:\n",
        "  for j in i:\n",
        "    if j == 0:\n",
        "      print(True)\n",
        "\n",
        "# using isin()\n",
        "print(np.isin(arr, 5))"
      ],
      "metadata": {
        "colab": {
          "base_uri": "https://localhost:8080/"
        },
        "id": "cxiGxIj0ic7x",
        "outputId": "522ee47d-f955-417e-87ad-19ab740e93d9"
      },
      "execution_count": null,
      "outputs": [
        {
          "output_type": "stream",
          "name": "stdout",
          "text": [
            "the array is: \n",
            " [[1 2 3 4]\n",
            " [4 5 0 8]]\n",
            "True\n",
            "True\n",
            "True\n",
            "True\n",
            "[[False False False False]\n",
            " [False  True False False]]\n"
          ]
        }
      ]
    },
    {
      "cell_type": "code",
      "source": [
        "# How to combine array index by index\n",
        "\n",
        "# import the library\n",
        "import numpy as np\n",
        "\n",
        "# create an array\n",
        "arr = np.arange(1,5)\n",
        "arr1 = np.arange(6,10)\n",
        "\n",
        "# combine array index by index\n",
        "print(\"the index by index:\\n \", np.dstack((arr, arr1)))"
      ],
      "metadata": {
        "colab": {
          "base_uri": "https://localhost:8080/"
        },
        "id": "MATl1JyfjveU",
        "outputId": "b145fbd7-ee85-4078-ea43-1fbc0fa349f4"
      },
      "execution_count": null,
      "outputs": [
        {
          "output_type": "stream",
          "name": "stdout",
          "text": [
            "the index by index:\n",
            "  [[[1 6]\n",
            "  [2 7]\n",
            "  [3 8]\n",
            "  [4 9]]]\n"
          ]
        }
      ]
    },
    {
      "cell_type": "markdown",
      "source": [
        "# **NumPy Linear Algebra and Random**"
      ],
      "metadata": {
        "id": "M8P7Y5HRk-10"
      }
    },
    {
      "cell_type": "code",
      "source": [
        "# find a matrix norm using NumPy\n",
        "\n",
        "# import library\n",
        "import numpy as np\n",
        "\n",
        "# create an array\n",
        "arr = np.arange(1,8)\n",
        "print(\"the array is:\\n \", arr)\n",
        "\n",
        "# print the norm using NumPy\n",
        "print(\"the Norm of the array is:\\n\", np.linalg.norm(arr))"
      ],
      "metadata": {
        "colab": {
          "base_uri": "https://localhost:8080/"
        },
        "id": "MWhnarI5lH8O",
        "outputId": "47eadc50-0a51-478f-b2a2-e9d52c2b4b9f"
      },
      "execution_count": null,
      "outputs": [
        {
          "output_type": "stream",
          "name": "stdout",
          "text": [
            "the array is:\n",
            "  [1 2 3 4 5 6 7]\n",
            "the Norm of the array is:\n",
            " 11.832159566199232\n"
          ]
        }
      ]
    },
    {
      "cell_type": "code",
      "source": [
        "# create an array with random values\n",
        "import numpy as np\n",
        "\n",
        "# create an array\n",
        "arr = np.random.randint(1,10)\n",
        "print(\"the array is:\\n \", arr)"
      ],
      "metadata": {
        "colab": {
          "base_uri": "https://localhost:8080/"
        },
        "id": "APUyYY71lv7J",
        "outputId": "08419a34-752c-49cd-9566-f7f6b3a22067"
      },
      "execution_count": null,
      "outputs": [
        {
          "output_type": "stream",
          "name": "stdout",
          "text": [
            "the array is:\n",
            "  8\n"
          ]
        }
      ]
    },
    {
      "cell_type": "code",
      "source": [
        "# how to choose elements from the list with different probablity using NumPy\n",
        "\n",
        "# import library\n",
        "import numpy as np\n",
        "\n",
        "# create an array\n",
        "arr = [10,20,11,90]\n",
        "print(\"the array is:\\n \", arr)\n",
        "\n",
        "# Get the change\n",
        "arr_choice = np.random.choice(arr)\n",
        "print(\"the array is:\\n \", arr_choice)\n",
        "\n",
        "\n",
        "# get the probablity\n",
        "arr_prob = np.random.choice(arr,3, p=[0.2,0,0.3,0.5])\n",
        "print(\"the array is:\\n \", arr_prob)"
      ],
      "metadata": {
        "colab": {
          "base_uri": "https://localhost:8080/"
        },
        "id": "3pxux4oOmWPn",
        "outputId": "f7a51e85-217d-493a-ae89-4508f737b6ac"
      },
      "execution_count": null,
      "outputs": [
        {
          "output_type": "stream",
          "name": "stdout",
          "text": [
            "the array is:\n",
            "  [10, 20, 11, 90]\n",
            "the array is:\n",
            "  10\n",
            "the array is:\n",
            "  [90 10 90]\n"
          ]
        }
      ]
    },
    {
      "cell_type": "markdown",
      "source": [
        "# **Numpy Sorting & Searching**"
      ],
      "metadata": {
        "id": "3fyt7C6rn22r"
      }
    },
    {
      "cell_type": "code",
      "source": [
        "# Enough"
      ],
      "metadata": {
        "id": "mDK8gQEin9fE"
      },
      "execution_count": null,
      "outputs": []
    }
  ]
}