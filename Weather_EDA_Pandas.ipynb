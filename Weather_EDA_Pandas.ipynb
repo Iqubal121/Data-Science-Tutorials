{
  "nbformat": 4,
  "nbformat_minor": 0,
  "metadata": {
    "colab": {
      "provenance": [],
      "toc_visible": true,
      "authorship_tag": "ABX9TyNDZfkrNWjDBUTNYduApNdB",
      "include_colab_link": true
    },
    "kernelspec": {
      "name": "python3",
      "display_name": "Python 3"
    },
    "language_info": {
      "name": "python"
    }
  },
  "cells": [
    {
      "cell_type": "markdown",
      "metadata": {
        "id": "view-in-github",
        "colab_type": "text"
      },
      "source": [
        "<a href=\"https://colab.research.google.com/github/Iqubal121/Data-Science-Tutorials/blob/main/Weather_EDA_Pandas.ipynb\" target=\"_parent\"><img src=\"https://colab.research.google.com/assets/colab-badge.svg\" alt=\"Open In Colab\"/></a>"
      ]
    },
    {
      "cell_type": "markdown",
      "source": [
        "## **Weather Data**"
      ],
      "metadata": {
        "id": "jobJt3_aqPZh"
      }
    },
    {
      "cell_type": "markdown",
      "source": [
        "This dataset contains synthetic weather data generated for ten different locations, including New York, Los Angeles, Chicago, Houston, Phoenix, Philadelphia, San Antonio, San Diego, Dallas, and San Jose. The data includes information about temperature, humidity, precipitation, and wind speed, with 1 million data points generated for each parameter."
      ],
      "metadata": {
        "id": "ghjeKhK7qkEG"
      }
    },
    {
      "cell_type": "markdown",
      "source": [
        "**Data set link**\n",
        "\n",
        "https://www.kaggle.com/datasets/muthuj7/weather-dataset?resource=download"
      ],
      "metadata": {
        "id": "pf7l0hMwpgrt"
      }
    },
    {
      "cell_type": "markdown",
      "source": [
        "### **Requirements**"
      ],
      "metadata": {
        "id": "Mik_JoJrpvVM"
      }
    },
    {
      "cell_type": "markdown",
      "source": [
        "**General Requirements for EDA:**\n",
        "\n",
        "**Data Cleaning:**\n",
        "\n",
        "Identify and handle missing values across all columns.\n",
        "\n",
        "**Outlier Detection:**\n",
        "\n",
        "Establish methods for detecting and addressing outliers in numerical columns.\n",
        "\n",
        "**Comparative Analysis:**\n",
        "\n",
        "Prepare visualizations (scatter plots, heatmaps) to compare relationships between different columns.\n",
        "\n",
        "**Feature Engineering:**\n",
        "\n",
        "Identify opportunities for creating new features from existing data (e.g., discomfort index from temperature and humidity)."
      ],
      "metadata": {
        "id": "cPZmueCMn1fp"
      }
    },
    {
      "cell_type": "markdown",
      "source": [
        "#### **import libraries and dataset**"
      ],
      "metadata": {
        "id": "UJtlWfSHqFRU"
      }
    },
    {
      "cell_type": "code",
      "execution_count": 3,
      "metadata": {
        "colab": {
          "base_uri": "https://localhost:8080/",
          "height": 521
        },
        "id": "2h9NA1wclzPR",
        "outputId": "8b73613e-dbe5-4304-8550-4178c1f8aaca"
      },
      "outputs": [
        {
          "output_type": "execute_result",
          "data": {
            "text/plain": [
              "                  Formatted Date        Summary Precip Type  Temperature (C)  \\\n",
              "0  2006-04-01 00:00:00.000 +0200  Partly Cloudy        rain         9.472222   \n",
              "1  2006-04-01 01:00:00.000 +0200  Partly Cloudy        rain         9.355556   \n",
              "2  2006-04-01 02:00:00.000 +0200  Mostly Cloudy        rain         9.377778   \n",
              "3  2006-04-01 03:00:00.000 +0200  Partly Cloudy        rain         8.288889   \n",
              "4  2006-04-01 04:00:00.000 +0200  Mostly Cloudy        rain         8.755556   \n",
              "\n",
              "   Apparent Temperature (C)  Humidity  Wind Speed (km/h)  \\\n",
              "0                  7.388889      0.89            14.1197   \n",
              "1                  7.227778      0.86            14.2646   \n",
              "2                  9.377778      0.89             3.9284   \n",
              "3                  5.944444      0.83            14.1036   \n",
              "4                  6.977778      0.83            11.0446   \n",
              "\n",
              "   Wind Bearing (degrees)  Visibility (km)  Loud Cover  Pressure (millibars)  \\\n",
              "0                   251.0          15.8263         0.0               1015.13   \n",
              "1                   259.0          15.8263         0.0               1015.63   \n",
              "2                   204.0          14.9569         0.0               1015.94   \n",
              "3                   269.0          15.8263         0.0               1016.41   \n",
              "4                   259.0          15.8263         0.0               1016.51   \n",
              "\n",
              "                       Daily Summary  \n",
              "0  Partly cloudy throughout the day.  \n",
              "1  Partly cloudy throughout the day.  \n",
              "2  Partly cloudy throughout the day.  \n",
              "3  Partly cloudy throughout the day.  \n",
              "4  Partly cloudy throughout the day.  "
            ],
            "text/html": [
              "\n",
              "  <div id=\"df-5002b28a-fcd7-475e-82ef-cf02f7c19ac4\" class=\"colab-df-container\">\n",
              "    <div>\n",
              "<style scoped>\n",
              "    .dataframe tbody tr th:only-of-type {\n",
              "        vertical-align: middle;\n",
              "    }\n",
              "\n",
              "    .dataframe tbody tr th {\n",
              "        vertical-align: top;\n",
              "    }\n",
              "\n",
              "    .dataframe thead th {\n",
              "        text-align: right;\n",
              "    }\n",
              "</style>\n",
              "<table border=\"1\" class=\"dataframe\">\n",
              "  <thead>\n",
              "    <tr style=\"text-align: right;\">\n",
              "      <th></th>\n",
              "      <th>Formatted Date</th>\n",
              "      <th>Summary</th>\n",
              "      <th>Precip Type</th>\n",
              "      <th>Temperature (C)</th>\n",
              "      <th>Apparent Temperature (C)</th>\n",
              "      <th>Humidity</th>\n",
              "      <th>Wind Speed (km/h)</th>\n",
              "      <th>Wind Bearing (degrees)</th>\n",
              "      <th>Visibility (km)</th>\n",
              "      <th>Loud Cover</th>\n",
              "      <th>Pressure (millibars)</th>\n",
              "      <th>Daily Summary</th>\n",
              "    </tr>\n",
              "  </thead>\n",
              "  <tbody>\n",
              "    <tr>\n",
              "      <th>0</th>\n",
              "      <td>2006-04-01 00:00:00.000 +0200</td>\n",
              "      <td>Partly Cloudy</td>\n",
              "      <td>rain</td>\n",
              "      <td>9.472222</td>\n",
              "      <td>7.388889</td>\n",
              "      <td>0.89</td>\n",
              "      <td>14.1197</td>\n",
              "      <td>251.0</td>\n",
              "      <td>15.8263</td>\n",
              "      <td>0.0</td>\n",
              "      <td>1015.13</td>\n",
              "      <td>Partly cloudy throughout the day.</td>\n",
              "    </tr>\n",
              "    <tr>\n",
              "      <th>1</th>\n",
              "      <td>2006-04-01 01:00:00.000 +0200</td>\n",
              "      <td>Partly Cloudy</td>\n",
              "      <td>rain</td>\n",
              "      <td>9.355556</td>\n",
              "      <td>7.227778</td>\n",
              "      <td>0.86</td>\n",
              "      <td>14.2646</td>\n",
              "      <td>259.0</td>\n",
              "      <td>15.8263</td>\n",
              "      <td>0.0</td>\n",
              "      <td>1015.63</td>\n",
              "      <td>Partly cloudy throughout the day.</td>\n",
              "    </tr>\n",
              "    <tr>\n",
              "      <th>2</th>\n",
              "      <td>2006-04-01 02:00:00.000 +0200</td>\n",
              "      <td>Mostly Cloudy</td>\n",
              "      <td>rain</td>\n",
              "      <td>9.377778</td>\n",
              "      <td>9.377778</td>\n",
              "      <td>0.89</td>\n",
              "      <td>3.9284</td>\n",
              "      <td>204.0</td>\n",
              "      <td>14.9569</td>\n",
              "      <td>0.0</td>\n",
              "      <td>1015.94</td>\n",
              "      <td>Partly cloudy throughout the day.</td>\n",
              "    </tr>\n",
              "    <tr>\n",
              "      <th>3</th>\n",
              "      <td>2006-04-01 03:00:00.000 +0200</td>\n",
              "      <td>Partly Cloudy</td>\n",
              "      <td>rain</td>\n",
              "      <td>8.288889</td>\n",
              "      <td>5.944444</td>\n",
              "      <td>0.83</td>\n",
              "      <td>14.1036</td>\n",
              "      <td>269.0</td>\n",
              "      <td>15.8263</td>\n",
              "      <td>0.0</td>\n",
              "      <td>1016.41</td>\n",
              "      <td>Partly cloudy throughout the day.</td>\n",
              "    </tr>\n",
              "    <tr>\n",
              "      <th>4</th>\n",
              "      <td>2006-04-01 04:00:00.000 +0200</td>\n",
              "      <td>Mostly Cloudy</td>\n",
              "      <td>rain</td>\n",
              "      <td>8.755556</td>\n",
              "      <td>6.977778</td>\n",
              "      <td>0.83</td>\n",
              "      <td>11.0446</td>\n",
              "      <td>259.0</td>\n",
              "      <td>15.8263</td>\n",
              "      <td>0.0</td>\n",
              "      <td>1016.51</td>\n",
              "      <td>Partly cloudy throughout the day.</td>\n",
              "    </tr>\n",
              "  </tbody>\n",
              "</table>\n",
              "</div>\n",
              "    <div class=\"colab-df-buttons\">\n",
              "\n",
              "  <div class=\"colab-df-container\">\n",
              "    <button class=\"colab-df-convert\" onclick=\"convertToInteractive('df-5002b28a-fcd7-475e-82ef-cf02f7c19ac4')\"\n",
              "            title=\"Convert this dataframe to an interactive table.\"\n",
              "            style=\"display:none;\">\n",
              "\n",
              "  <svg xmlns=\"http://www.w3.org/2000/svg\" height=\"24px\" viewBox=\"0 -960 960 960\">\n",
              "    <path d=\"M120-120v-720h720v720H120Zm60-500h600v-160H180v160Zm220 220h160v-160H400v160Zm0 220h160v-160H400v160ZM180-400h160v-160H180v160Zm440 0h160v-160H620v160ZM180-180h160v-160H180v160Zm440 0h160v-160H620v160Z\"/>\n",
              "  </svg>\n",
              "    </button>\n",
              "\n",
              "  <style>\n",
              "    .colab-df-container {\n",
              "      display:flex;\n",
              "      gap: 12px;\n",
              "    }\n",
              "\n",
              "    .colab-df-convert {\n",
              "      background-color: #E8F0FE;\n",
              "      border: none;\n",
              "      border-radius: 50%;\n",
              "      cursor: pointer;\n",
              "      display: none;\n",
              "      fill: #1967D2;\n",
              "      height: 32px;\n",
              "      padding: 0 0 0 0;\n",
              "      width: 32px;\n",
              "    }\n",
              "\n",
              "    .colab-df-convert:hover {\n",
              "      background-color: #E2EBFA;\n",
              "      box-shadow: 0px 1px 2px rgba(60, 64, 67, 0.3), 0px 1px 3px 1px rgba(60, 64, 67, 0.15);\n",
              "      fill: #174EA6;\n",
              "    }\n",
              "\n",
              "    .colab-df-buttons div {\n",
              "      margin-bottom: 4px;\n",
              "    }\n",
              "\n",
              "    [theme=dark] .colab-df-convert {\n",
              "      background-color: #3B4455;\n",
              "      fill: #D2E3FC;\n",
              "    }\n",
              "\n",
              "    [theme=dark] .colab-df-convert:hover {\n",
              "      background-color: #434B5C;\n",
              "      box-shadow: 0px 1px 3px 1px rgba(0, 0, 0, 0.15);\n",
              "      filter: drop-shadow(0px 1px 2px rgba(0, 0, 0, 0.3));\n",
              "      fill: #FFFFFF;\n",
              "    }\n",
              "  </style>\n",
              "\n",
              "    <script>\n",
              "      const buttonEl =\n",
              "        document.querySelector('#df-5002b28a-fcd7-475e-82ef-cf02f7c19ac4 button.colab-df-convert');\n",
              "      buttonEl.style.display =\n",
              "        google.colab.kernel.accessAllowed ? 'block' : 'none';\n",
              "\n",
              "      async function convertToInteractive(key) {\n",
              "        const element = document.querySelector('#df-5002b28a-fcd7-475e-82ef-cf02f7c19ac4');\n",
              "        const dataTable =\n",
              "          await google.colab.kernel.invokeFunction('convertToInteractive',\n",
              "                                                    [key], {});\n",
              "        if (!dataTable) return;\n",
              "\n",
              "        const docLinkHtml = 'Like what you see? Visit the ' +\n",
              "          '<a target=\"_blank\" href=https://colab.research.google.com/notebooks/data_table.ipynb>data table notebook</a>'\n",
              "          + ' to learn more about interactive tables.';\n",
              "        element.innerHTML = '';\n",
              "        dataTable['output_type'] = 'display_data';\n",
              "        await google.colab.output.renderOutput(dataTable, element);\n",
              "        const docLink = document.createElement('div');\n",
              "        docLink.innerHTML = docLinkHtml;\n",
              "        element.appendChild(docLink);\n",
              "      }\n",
              "    </script>\n",
              "  </div>\n",
              "\n",
              "\n",
              "<div id=\"df-27a9bf79-964d-43ed-bf41-0070e6416a5d\">\n",
              "  <button class=\"colab-df-quickchart\" onclick=\"quickchart('df-27a9bf79-964d-43ed-bf41-0070e6416a5d')\"\n",
              "            title=\"Suggest charts\"\n",
              "            style=\"display:none;\">\n",
              "\n",
              "<svg xmlns=\"http://www.w3.org/2000/svg\" height=\"24px\"viewBox=\"0 0 24 24\"\n",
              "     width=\"24px\">\n",
              "    <g>\n",
              "        <path d=\"M19 3H5c-1.1 0-2 .9-2 2v14c0 1.1.9 2 2 2h14c1.1 0 2-.9 2-2V5c0-1.1-.9-2-2-2zM9 17H7v-7h2v7zm4 0h-2V7h2v10zm4 0h-2v-4h2v4z\"/>\n",
              "    </g>\n",
              "</svg>\n",
              "  </button>\n",
              "\n",
              "<style>\n",
              "  .colab-df-quickchart {\n",
              "      --bg-color: #E8F0FE;\n",
              "      --fill-color: #1967D2;\n",
              "      --hover-bg-color: #E2EBFA;\n",
              "      --hover-fill-color: #174EA6;\n",
              "      --disabled-fill-color: #AAA;\n",
              "      --disabled-bg-color: #DDD;\n",
              "  }\n",
              "\n",
              "  [theme=dark] .colab-df-quickchart {\n",
              "      --bg-color: #3B4455;\n",
              "      --fill-color: #D2E3FC;\n",
              "      --hover-bg-color: #434B5C;\n",
              "      --hover-fill-color: #FFFFFF;\n",
              "      --disabled-bg-color: #3B4455;\n",
              "      --disabled-fill-color: #666;\n",
              "  }\n",
              "\n",
              "  .colab-df-quickchart {\n",
              "    background-color: var(--bg-color);\n",
              "    border: none;\n",
              "    border-radius: 50%;\n",
              "    cursor: pointer;\n",
              "    display: none;\n",
              "    fill: var(--fill-color);\n",
              "    height: 32px;\n",
              "    padding: 0;\n",
              "    width: 32px;\n",
              "  }\n",
              "\n",
              "  .colab-df-quickchart:hover {\n",
              "    background-color: var(--hover-bg-color);\n",
              "    box-shadow: 0 1px 2px rgba(60, 64, 67, 0.3), 0 1px 3px 1px rgba(60, 64, 67, 0.15);\n",
              "    fill: var(--button-hover-fill-color);\n",
              "  }\n",
              "\n",
              "  .colab-df-quickchart-complete:disabled,\n",
              "  .colab-df-quickchart-complete:disabled:hover {\n",
              "    background-color: var(--disabled-bg-color);\n",
              "    fill: var(--disabled-fill-color);\n",
              "    box-shadow: none;\n",
              "  }\n",
              "\n",
              "  .colab-df-spinner {\n",
              "    border: 2px solid var(--fill-color);\n",
              "    border-color: transparent;\n",
              "    border-bottom-color: var(--fill-color);\n",
              "    animation:\n",
              "      spin 1s steps(1) infinite;\n",
              "  }\n",
              "\n",
              "  @keyframes spin {\n",
              "    0% {\n",
              "      border-color: transparent;\n",
              "      border-bottom-color: var(--fill-color);\n",
              "      border-left-color: var(--fill-color);\n",
              "    }\n",
              "    20% {\n",
              "      border-color: transparent;\n",
              "      border-left-color: var(--fill-color);\n",
              "      border-top-color: var(--fill-color);\n",
              "    }\n",
              "    30% {\n",
              "      border-color: transparent;\n",
              "      border-left-color: var(--fill-color);\n",
              "      border-top-color: var(--fill-color);\n",
              "      border-right-color: var(--fill-color);\n",
              "    }\n",
              "    40% {\n",
              "      border-color: transparent;\n",
              "      border-right-color: var(--fill-color);\n",
              "      border-top-color: var(--fill-color);\n",
              "    }\n",
              "    60% {\n",
              "      border-color: transparent;\n",
              "      border-right-color: var(--fill-color);\n",
              "    }\n",
              "    80% {\n",
              "      border-color: transparent;\n",
              "      border-right-color: var(--fill-color);\n",
              "      border-bottom-color: var(--fill-color);\n",
              "    }\n",
              "    90% {\n",
              "      border-color: transparent;\n",
              "      border-bottom-color: var(--fill-color);\n",
              "    }\n",
              "  }\n",
              "</style>\n",
              "\n",
              "  <script>\n",
              "    async function quickchart(key) {\n",
              "      const quickchartButtonEl =\n",
              "        document.querySelector('#' + key + ' button');\n",
              "      quickchartButtonEl.disabled = true;  // To prevent multiple clicks.\n",
              "      quickchartButtonEl.classList.add('colab-df-spinner');\n",
              "      try {\n",
              "        const charts = await google.colab.kernel.invokeFunction(\n",
              "            'suggestCharts', [key], {});\n",
              "      } catch (error) {\n",
              "        console.error('Error during call to suggestCharts:', error);\n",
              "      }\n",
              "      quickchartButtonEl.classList.remove('colab-df-spinner');\n",
              "      quickchartButtonEl.classList.add('colab-df-quickchart-complete');\n",
              "    }\n",
              "    (() => {\n",
              "      let quickchartButtonEl =\n",
              "        document.querySelector('#df-27a9bf79-964d-43ed-bf41-0070e6416a5d button');\n",
              "      quickchartButtonEl.style.display =\n",
              "        google.colab.kernel.accessAllowed ? 'block' : 'none';\n",
              "    })();\n",
              "  </script>\n",
              "</div>\n",
              "\n",
              "    </div>\n",
              "  </div>\n"
            ],
            "application/vnd.google.colaboratory.intrinsic+json": {
              "type": "dataframe",
              "variable_name": "data",
              "summary": "{\n  \"name\": \"data\",\n  \"rows\": 96453,\n  \"fields\": [\n    {\n      \"column\": \"Formatted Date\",\n      \"properties\": {\n        \"dtype\": \"object\",\n        \"num_unique_values\": 96429,\n        \"samples\": [\n          \"2008-10-17 17:00:00.000 +0200\",\n          \"2014-11-02 03:00:00.000 +0100\",\n          \"2008-06-18 01:00:00.000 +0200\"\n        ],\n        \"semantic_type\": \"\",\n        \"description\": \"\"\n      }\n    },\n    {\n      \"column\": \"Summary\",\n      \"properties\": {\n        \"dtype\": \"category\",\n        \"num_unique_values\": 27,\n        \"samples\": [\n          \"Humid and Mostly Cloudy\",\n          \"Windy and Partly Cloudy\",\n          \"Humid and Partly Cloudy\"\n        ],\n        \"semantic_type\": \"\",\n        \"description\": \"\"\n      }\n    },\n    {\n      \"column\": \"Precip Type\",\n      \"properties\": {\n        \"dtype\": \"category\",\n        \"num_unique_values\": 2,\n        \"samples\": [\n          \"snow\",\n          \"rain\"\n        ],\n        \"semantic_type\": \"\",\n        \"description\": \"\"\n      }\n    },\n    {\n      \"column\": \"Temperature (C)\",\n      \"properties\": {\n        \"dtype\": \"number\",\n        \"std\": 9.551546320656923,\n        \"min\": -21.822222222222223,\n        \"max\": 39.90555555555555,\n        \"num_unique_values\": 7574,\n        \"samples\": [\n          34.8111111111111,\n          14.955555555555556\n        ],\n        \"semantic_type\": \"\",\n        \"description\": \"\"\n      }\n    },\n    {\n      \"column\": \"Apparent Temperature (C)\",\n      \"properties\": {\n        \"dtype\": \"number\",\n        \"std\": 10.696847392119263,\n        \"min\": -27.716666666666665,\n        \"max\": 39.34444444444444,\n        \"num_unique_values\": 8984,\n        \"samples\": [\n          32.01111111111111,\n          3.1611111111111097\n        ],\n        \"semantic_type\": \"\",\n        \"description\": \"\"\n      }\n    },\n    {\n      \"column\": \"Humidity\",\n      \"properties\": {\n        \"dtype\": \"number\",\n        \"std\": 0.19547273906722662,\n        \"min\": 0.0,\n        \"max\": 1.0,\n        \"num_unique_values\": 90,\n        \"samples\": [\n          0.81,\n          0.8\n        ],\n        \"semantic_type\": \"\",\n        \"description\": \"\"\n      }\n    },\n    {\n      \"column\": \"Wind Speed (km/h)\",\n      \"properties\": {\n        \"dtype\": \"number\",\n        \"std\": 6.9135710125921515,\n        \"min\": 0.0,\n        \"max\": 63.8526,\n        \"num_unique_values\": 2484,\n        \"samples\": [\n          23.3611,\n          33.1016\n        ],\n        \"semantic_type\": \"\",\n        \"description\": \"\"\n      }\n    },\n    {\n      \"column\": \"Wind Bearing (degrees)\",\n      \"properties\": {\n        \"dtype\": \"number\",\n        \"std\": 107.38342838070538,\n        \"min\": 0.0,\n        \"max\": 359.0,\n        \"num_unique_values\": 360,\n        \"samples\": [\n          128.0,\n          15.0\n        ],\n        \"semantic_type\": \"\",\n        \"description\": \"\"\n      }\n    },\n    {\n      \"column\": \"Visibility (km)\",\n      \"properties\": {\n        \"dtype\": \"number\",\n        \"std\": 4.192123191422925,\n        \"min\": 0.0,\n        \"max\": 16.1,\n        \"num_unique_values\": 949,\n        \"samples\": [\n          4.395300000000001,\n          6.6332\n        ],\n        \"semantic_type\": \"\",\n        \"description\": \"\"\n      }\n    },\n    {\n      \"column\": \"Loud Cover\",\n      \"properties\": {\n        \"dtype\": \"number\",\n        \"std\": 0.0,\n        \"min\": 0.0,\n        \"max\": 0.0,\n        \"num_unique_values\": 1,\n        \"samples\": [\n          0.0\n        ],\n        \"semantic_type\": \"\",\n        \"description\": \"\"\n      }\n    },\n    {\n      \"column\": \"Pressure (millibars)\",\n      \"properties\": {\n        \"dtype\": \"number\",\n        \"std\": 116.96990568258147,\n        \"min\": 0.0,\n        \"max\": 1046.38,\n        \"num_unique_values\": 4979,\n        \"samples\": [\n          987.38\n        ],\n        \"semantic_type\": \"\",\n        \"description\": \"\"\n      }\n    },\n    {\n      \"column\": \"Daily Summary\",\n      \"properties\": {\n        \"dtype\": \"category\",\n        \"num_unique_values\": 214,\n        \"samples\": [\n          \"Partly cloudy until evening.\"\n        ],\n        \"semantic_type\": \"\",\n        \"description\": \"\"\n      }\n    }\n  ]\n}"
            }
          },
          "metadata": {},
          "execution_count": 3
        }
      ],
      "source": [
        "import pandas as pd\n",
        "import numpy as np\n",
        "\n",
        "# import the dataset\n",
        "data = pd.read_csv('/content/weatherHistory.csv')\n",
        "\n",
        "\n",
        "# read the dataset\n",
        "data.head()"
      ]
    },
    {
      "cell_type": "markdown",
      "source": [
        "#### **Column Operations**"
      ],
      "metadata": {
        "id": "iUjS9NlDsHS3"
      }
    },
    {
      "cell_type": "markdown",
      "source": [
        "General Operations Across All Columns\n",
        "\n"
      ],
      "metadata": {
        "id": "yreWbT08sP6G"
      }
    },
    {
      "cell_type": "markdown",
      "source": [
        "**Missing Value Analysis:**\n",
        "\n",
        "Identify and analyze the presence of missing values across all columns.\n"
      ],
      "metadata": {
        "id": "1O0pc8HDzSGl"
      }
    },
    {
      "cell_type": "markdown",
      "source": [
        "\n",
        "Outlier Detection:\n",
        "\n",
        "Identify outliers in numerical columns and assess their impact on the analysis.\n",
        "\n"
      ],
      "metadata": {
        "id": "bWaS5NPSzVl1"
      }
    },
    {
      "cell_type": "markdown",
      "source": [
        "**Comparative Analysis:**\n",
        "\n",
        "Compare the relationships between different columns and visualize these relationships using scatter plots or heatmaps.\n",
        "\n"
      ],
      "metadata": {
        "id": "ZLzQUnjWzVjW"
      }
    },
    {
      "cell_type": "markdown",
      "source": [
        "**Feature Engineering:**\n",
        "\n",
        "Create new features based on existing data (e.g., combining temperature and humidity to create a discomfort index).\n",
        "\n"
      ],
      "metadata": {
        "id": "6LdoGe4HzkUF"
      }
    },
    {
      "cell_type": "markdown",
      "source": [
        "By applying these EDA operations you can gain insights into the characteristics and relationships within your weather dataset, enabling more informed analyses and conclusions."
      ],
      "metadata": {
        "id": "pFqc-gAlzonm"
      }
    },
    {
      "cell_type": "markdown",
      "source": [
        "### **Formatted Date**\n"
      ],
      "metadata": {
        "id": "rUEKXR2luJhf"
      }
    },
    {
      "cell_type": "markdown",
      "source": [
        "**Date Range Analysis:**\n",
        "\n",
        "Determine the start and end dates of the dataset."
      ],
      "metadata": {
        "id": "ibTK4BZWuW20"
      }
    },
    {
      "cell_type": "code",
      "source": [],
      "metadata": {
        "id": "G8UERqnuq6HQ"
      },
      "execution_count": null,
      "outputs": []
    },
    {
      "cell_type": "code",
      "source": [],
      "metadata": {
        "id": "uaZKEOfVvwgb"
      },
      "execution_count": null,
      "outputs": []
    },
    {
      "cell_type": "markdown",
      "source": [
        "\n",
        "**Time Series Analysis:**\n",
        "\n",
        "Plot time series graphs to observe trends over time (e.g., average temperature or humidity per day).\n",
        "\n"
      ],
      "metadata": {
        "id": "bXIoRi8IudHD"
      }
    },
    {
      "cell_type": "code",
      "source": [],
      "metadata": {
        "id": "tQ8B3YL3ro0I"
      },
      "execution_count": null,
      "outputs": []
    },
    {
      "cell_type": "code",
      "source": [],
      "metadata": {
        "id": "al1Kfv7svxBJ"
      },
      "execution_count": null,
      "outputs": []
    },
    {
      "cell_type": "markdown",
      "source": [
        "**Date Component Extraction:**\n",
        "\n",
        "Extract components such as day of the week, month, or year for further analysis.\n",
        "\n"
      ],
      "metadata": {
        "id": "03oW9smfrpQL"
      }
    },
    {
      "cell_type": "code",
      "source": [],
      "metadata": {
        "id": "G8FAUyhhrt3b"
      },
      "execution_count": null,
      "outputs": []
    },
    {
      "cell_type": "code",
      "source": [],
      "metadata": {
        "id": "7h4Yxz1qvxZg"
      },
      "execution_count": null,
      "outputs": []
    },
    {
      "cell_type": "markdown",
      "source": [
        "**Frequency Analysis:**\n",
        "\n",
        "Count occurrences of data points for each day, month, or year."
      ],
      "metadata": {
        "id": "lBXMNVr-up1f"
      }
    },
    {
      "cell_type": "code",
      "source": [],
      "metadata": {
        "id": "Z9kFO6ituskN"
      },
      "execution_count": null,
      "outputs": []
    },
    {
      "cell_type": "code",
      "source": [],
      "metadata": {
        "id": "u_QNaqfZvx3d"
      },
      "execution_count": null,
      "outputs": []
    },
    {
      "cell_type": "markdown",
      "source": [
        "### **Summary**\n"
      ],
      "metadata": {
        "id": "rVCU1P6Uu1gO"
      }
    },
    {
      "cell_type": "markdown",
      "source": [
        "**Text Analysis**\n",
        "\n",
        "Perform text mining techniques to analyze common phrases or keywords related to weather conditions.\n"
      ],
      "metadata": {
        "id": "8N_BGeycvdrl"
      }
    },
    {
      "cell_type": "code",
      "source": [],
      "metadata": {
        "id": "x8T6azx7vvLc"
      },
      "execution_count": null,
      "outputs": []
    },
    {
      "cell_type": "code",
      "source": [],
      "metadata": {
        "id": "ghUM7O77vyhm"
      },
      "execution_count": null,
      "outputs": []
    },
    {
      "cell_type": "markdown",
      "source": [
        "**Categorization:**\n",
        "\n",
        "Identify common themes or categories from the summary (e.g., “sunny”, “rainy”, “cloudy”).\n",
        "\n"
      ],
      "metadata": {
        "id": "D4wQkZ2Ou-GJ"
      }
    },
    {
      "cell_type": "code",
      "source": [],
      "metadata": {
        "id": "dcIfSMLXu9Q6"
      },
      "execution_count": null,
      "outputs": []
    },
    {
      "cell_type": "code",
      "source": [],
      "metadata": {
        "id": "HOhrOc28vy44"
      },
      "execution_count": null,
      "outputs": []
    },
    {
      "cell_type": "markdown",
      "source": [
        "**Sentiment Analysis:**\n",
        "\n",
        "If applicable, analyze the sentiment of the summaries to gauge weather conditions qualitatively."
      ],
      "metadata": {
        "id": "B7784K3IvK0o"
      }
    },
    {
      "cell_type": "code",
      "source": [],
      "metadata": {
        "id": "-clIix-xvOSl"
      },
      "execution_count": null,
      "outputs": []
    },
    {
      "cell_type": "code",
      "source": [],
      "metadata": {
        "id": "kdFIlctuvzpB"
      },
      "execution_count": null,
      "outputs": []
    },
    {
      "cell_type": "markdown",
      "source": [
        "### **Precip Type**"
      ],
      "metadata": {
        "id": "fUjHol2dv-Li"
      }
    },
    {
      "cell_type": "markdown",
      "source": [
        "\n",
        "**Frequency Counts**\n",
        "\n",
        "Count occurrences of each precipitation type (e.g., rain, snow, none).\n",
        "\n"
      ],
      "metadata": {
        "id": "FRNRYkokwKOL"
      }
    },
    {
      "cell_type": "code",
      "source": [],
      "metadata": {
        "id": "9upLJ75fwCAB"
      },
      "execution_count": null,
      "outputs": []
    },
    {
      "cell_type": "code",
      "source": [],
      "metadata": {
        "id": "4ZV57uDQwRMy"
      },
      "execution_count": null,
      "outputs": []
    },
    {
      "cell_type": "markdown",
      "source": [
        "**Proportion Analysis:**\n",
        "\n",
        "Calculate the proportion of each precipitation type relative to total observations.\n",
        "\n"
      ],
      "metadata": {
        "id": "j8rYaY-XwRmZ"
      }
    },
    {
      "cell_type": "code",
      "source": [],
      "metadata": {
        "id": "viBKM-muwW3h"
      },
      "execution_count": null,
      "outputs": []
    },
    {
      "cell_type": "code",
      "source": [],
      "metadata": {
        "id": "wPB80v_uwYFp"
      },
      "execution_count": null,
      "outputs": []
    },
    {
      "cell_type": "markdown",
      "source": [
        "\n",
        "**Visualizations:**\n",
        "\n",
        "Use bar charts to visually represent the distribution of precipitation types.\n",
        "\n",
        "\n"
      ],
      "metadata": {
        "id": "oBM7A0j0wYYW"
      }
    },
    {
      "cell_type": "code",
      "source": [],
      "metadata": {
        "id": "x4fll3rCwdW0"
      },
      "execution_count": null,
      "outputs": []
    },
    {
      "cell_type": "markdown",
      "source": [
        "**Impact Analysis:**\n",
        "\n",
        "Analyze the effect of different precipitation types on other variables (e.g., temperature or humidity)."
      ],
      "metadata": {
        "id": "d9gdnHEFweO-"
      }
    },
    {
      "cell_type": "code",
      "source": [],
      "metadata": {
        "id": "MZHjcsF9whQq"
      },
      "execution_count": null,
      "outputs": []
    },
    {
      "cell_type": "code",
      "source": [],
      "metadata": {
        "id": "c60pAv9rwn1T"
      },
      "execution_count": null,
      "outputs": []
    },
    {
      "cell_type": "markdown",
      "source": [
        "### **Temperature (C)**\n"
      ],
      "metadata": {
        "id": "dLpP8PKZwoSd"
      }
    },
    {
      "cell_type": "markdown",
      "source": [
        "**Descriptive Statistics:**\n",
        "\n",
        "Calculate mean, median, mode, standard deviation, minimum, maximum, and range.\n",
        "\n"
      ],
      "metadata": {
        "id": "LtighrpSwxJ0"
      }
    },
    {
      "cell_type": "code",
      "source": [],
      "metadata": {
        "id": "DRLkX7YNwspN"
      },
      "execution_count": null,
      "outputs": []
    },
    {
      "cell_type": "markdown",
      "source": [
        "**Distribution Analysis**\n",
        "\n",
        "Plot histograms and box plots to visualize the distribution of temperatures and identify outliers.\n"
      ],
      "metadata": {
        "id": "mPALnlL7w3-K"
      }
    },
    {
      "cell_type": "code",
      "source": [],
      "metadata": {
        "id": "1kCHEfxrw8Bm"
      },
      "execution_count": null,
      "outputs": []
    },
    {
      "cell_type": "markdown",
      "source": [
        "**Trend Analysis:**\n",
        "\n",
        "Examine trends in temperature over time (daily, monthly, or seasonally).\n",
        "\n",
        "\n"
      ],
      "metadata": {
        "id": "yZnvMbS7w8mC"
      }
    },
    {
      "cell_type": "code",
      "source": [],
      "metadata": {
        "id": "zJ9TdpsPxBMn"
      },
      "execution_count": null,
      "outputs": []
    },
    {
      "cell_type": "markdown",
      "source": [
        "**Correlation Analysis**\n",
        "\n",
        "Investigate correlations with other numerical columns, such as humidity or wind speed."
      ],
      "metadata": {
        "id": "stF8BNBjxB8l"
      }
    },
    {
      "cell_type": "code",
      "source": [],
      "metadata": {
        "id": "09yGzr-BxEdd"
      },
      "execution_count": null,
      "outputs": []
    },
    {
      "cell_type": "markdown",
      "source": [
        "### **Apparent Temperature (C)**\n"
      ],
      "metadata": {
        "id": "Z_KrB-GdyVSU"
      }
    },
    {
      "cell_type": "markdown",
      "source": [
        "**Descriptive Statistics:**\n",
        "\n",
        "Similar to the Temperature column, calculate key statistics for apparent temperature.\n",
        "\n"
      ],
      "metadata": {
        "id": "z_MKWgMM1I6x"
      }
    },
    {
      "cell_type": "code",
      "source": [],
      "metadata": {
        "id": "B8_95DegyaPT"
      },
      "execution_count": null,
      "outputs": []
    },
    {
      "cell_type": "markdown",
      "source": [
        "\n",
        "**Comparison with Actual Temperature:**\n",
        "\n",
        "Analyze the difference between actual temperature and apparent temperature to understand heat index effects.\n",
        "\n"
      ],
      "metadata": {
        "id": "l0lNcm5_1QOI"
      }
    },
    {
      "cell_type": "code",
      "source": [],
      "metadata": {
        "id": "I_cJZerk1UOZ"
      },
      "execution_count": null,
      "outputs": []
    },
    {
      "cell_type": "markdown",
      "source": [
        "\n",
        "**Distribution Visualization**\n",
        "\n",
        "Use box plots or histograms to visualize the distribution of apparent temperatures."
      ],
      "metadata": {
        "id": "uWs6gmbo1Ut8"
      }
    },
    {
      "cell_type": "code",
      "source": [],
      "metadata": {
        "id": "Tft47DCF1YZL"
      },
      "execution_count": null,
      "outputs": []
    },
    {
      "cell_type": "markdown",
      "source": [
        "### **Humidity**\n"
      ],
      "metadata": {
        "id": "Rfdlb1FyybVa"
      }
    },
    {
      "cell_type": "markdown",
      "source": [
        "**Descriptive Statistics**\n",
        "\n",
        "Calculate mean, median, mode, standard deviation, minimum, maximum, and range.\n",
        "\n"
      ],
      "metadata": {
        "id": "PAqCsqIIzyFe"
      }
    },
    {
      "cell_type": "code",
      "source": [],
      "metadata": {
        "id": "R8nPw-fFz6IH"
      },
      "execution_count": null,
      "outputs": []
    },
    {
      "cell_type": "markdown",
      "source": [
        "**Distribution Analysis**\n",
        "\n",
        "Visualize the distribution using histograms and box plots to identify outliers.\n",
        "\n"
      ],
      "metadata": {
        "id": "b8dgp_p1z5b4"
      }
    },
    {
      "cell_type": "code",
      "source": [],
      "metadata": {
        "id": "fJwfy5EiygUB"
      },
      "execution_count": null,
      "outputs": []
    },
    {
      "cell_type": "markdown",
      "source": [
        "\n",
        "**Correlation Analysis**\n",
        "\n",
        "Analyze correlations with other weather variables like temperature and precipitation.\n",
        "\n",
        "\n"
      ],
      "metadata": {
        "id": "pLQkMLhV0GpD"
      }
    },
    {
      "cell_type": "code",
      "source": [],
      "metadata": {
        "id": "sOnio3DJ0OY0"
      },
      "execution_count": null,
      "outputs": []
    },
    {
      "cell_type": "markdown",
      "source": [
        "\n",
        "**Time Series Analysis**\n",
        "\n",
        "Plot humidity trends over time to observe seasonal patterns.\n"
      ],
      "metadata": {
        "id": "obB13JLq0N10"
      }
    },
    {
      "cell_type": "code",
      "source": [],
      "metadata": {
        "id": "dEwHMbVD0Nnf"
      },
      "execution_count": null,
      "outputs": []
    },
    {
      "cell_type": "markdown",
      "source": [
        "### **Wind Speed (km/h)**"
      ],
      "metadata": {
        "id": "KAfSmlSf0W-f"
      }
    },
    {
      "cell_type": "markdown",
      "source": [
        "\n",
        "**Descriptive Statistics:**\n",
        "\n",
        "Calculate summary statistics for wind speed.\n",
        "\n"
      ],
      "metadata": {
        "id": "opuQCT-qz-ZD"
      }
    },
    {
      "cell_type": "code",
      "source": [],
      "metadata": {
        "id": "fawy_k9sz-6m"
      },
      "execution_count": null,
      "outputs": []
    },
    {
      "cell_type": "code",
      "source": [],
      "metadata": {
        "id": "XIlQvAo30fbs"
      },
      "execution_count": null,
      "outputs": []
    },
    {
      "cell_type": "markdown",
      "source": [
        "**Distribution Analysis**\n",
        "\n",
        "Create histograms and box plots to visualize wind speed distribution and\n",
        "identify outliers.\n",
        "\n"
      ],
      "metadata": {
        "id": "1SvdZSBn1irw"
      }
    },
    {
      "cell_type": "code",
      "source": [],
      "metadata": {
        "id": "3kRKnM541nUu"
      },
      "execution_count": null,
      "outputs": []
    },
    {
      "cell_type": "code",
      "source": [],
      "metadata": {
        "id": "WUH1CrD91orE"
      },
      "execution_count": null,
      "outputs": []
    },
    {
      "cell_type": "markdown",
      "source": [
        "**Correlation Analysis**\n",
        "\n",
        "Investigate correlations with temperature, humidity, and precipitation types.\n",
        "\n",
        "\n"
      ],
      "metadata": {
        "id": "ciS3c5hz1pVQ"
      }
    },
    {
      "cell_type": "code",
      "source": [],
      "metadata": {
        "id": "vhfExfWu1v7n"
      },
      "execution_count": null,
      "outputs": []
    },
    {
      "cell_type": "code",
      "source": [],
      "metadata": {
        "id": "Sgpx3gzs112C"
      },
      "execution_count": null,
      "outputs": []
    },
    {
      "cell_type": "markdown",
      "source": [
        "**Wind Speed by Precipitation Type**\n",
        "\n",
        "Analyze how wind speed varies with different types of precipitation.\n"
      ],
      "metadata": {
        "id": "JZw-Wd-K1w9i"
      }
    },
    {
      "cell_type": "code",
      "source": [],
      "metadata": {
        "id": "2JK-EHsv11TL"
      },
      "execution_count": null,
      "outputs": []
    },
    {
      "cell_type": "code",
      "source": [],
      "metadata": {
        "id": "zoFfIUo611HD"
      },
      "execution_count": null,
      "outputs": []
    },
    {
      "cell_type": "markdown",
      "source": [
        "### **Wind Bearing (degrees)**\n",
        "\n"
      ],
      "metadata": {
        "id": "z3Qv1MEY0gEG"
      }
    },
    {
      "cell_type": "markdown",
      "source": [
        "**Descriptive Statistics:**\n",
        "\n",
        "Analyze summary statistics for wind bearing.\n",
        "\n"
      ],
      "metadata": {
        "id": "-rn_qgj-17HV"
      }
    },
    {
      "cell_type": "code",
      "source": [],
      "metadata": {
        "id": "LRXTOuii0j7S"
      },
      "execution_count": null,
      "outputs": []
    },
    {
      "cell_type": "code",
      "source": [],
      "metadata": {
        "id": "bdZUccNE16VY"
      },
      "execution_count": null,
      "outputs": []
    },
    {
      "cell_type": "markdown",
      "source": [
        "\n",
        "**Visualization:**\n",
        "\n",
        "Use circular plots or wind rose diagrams to visualize the distribution of wind directions.\n",
        "\n"
      ],
      "metadata": {
        "id": "4BXGAl2i2DuR"
      }
    },
    {
      "cell_type": "code",
      "source": [],
      "metadata": {
        "id": "mVFjeoNn2HkF"
      },
      "execution_count": null,
      "outputs": []
    },
    {
      "cell_type": "markdown",
      "source": [
        "**Correlation Analysis**\n",
        "\n",
        "Explore the relationship between wind bearing and other numerical variables like temperature or wind speed."
      ],
      "metadata": {
        "id": "kO-cSfey2ICL"
      }
    },
    {
      "cell_type": "code",
      "source": [],
      "metadata": {
        "id": "QE44Awb32K2d"
      },
      "execution_count": null,
      "outputs": []
    },
    {
      "cell_type": "code",
      "source": [],
      "metadata": {
        "id": "KB5-CLwU2LMW"
      },
      "execution_count": null,
      "outputs": []
    },
    {
      "cell_type": "markdown",
      "source": [
        "### **Visibility (km)**\n",
        "\n"
      ],
      "metadata": {
        "id": "WLvaxMuC0qGc"
      }
    },
    {
      "cell_type": "markdown",
      "source": [
        "\n",
        "**Descriptive Statistics:**\n",
        "\n",
        "Calculate mean, median, mode, standard deviation, minimum, maximum, and range.\n",
        "\n"
      ],
      "metadata": {
        "id": "BOsMNnOs2OZE"
      }
    },
    {
      "cell_type": "code",
      "source": [],
      "metadata": {
        "id": "6aecLs1n0sSf"
      },
      "execution_count": null,
      "outputs": []
    },
    {
      "cell_type": "markdown",
      "source": [
        "\n",
        "**Distribution Analysis:**\n",
        "\n",
        "Visualize visibility data with histograms and box plots."
      ],
      "metadata": {
        "id": "uBaTYftH2Tqt"
      }
    },
    {
      "cell_type": "code",
      "source": [],
      "metadata": {
        "id": "iVQRYAVc2WZG"
      },
      "execution_count": null,
      "outputs": []
    },
    {
      "cell_type": "markdown",
      "source": [
        "\n",
        "**Correlation Analysis:**\n",
        "\n",
        "Investigate how visibility correlates with weather conditions, temperature, and humidity.\n",
        "\n"
      ],
      "metadata": {
        "id": "st24KKdz2Wvr"
      }
    },
    {
      "cell_type": "code",
      "source": [],
      "metadata": {
        "id": "RrN8xKqx2ccs"
      },
      "execution_count": null,
      "outputs": []
    },
    {
      "cell_type": "markdown",
      "source": [
        "\n",
        "**Time Series Analysis:**\n",
        "\n",
        "Analyze trends in visibility over time."
      ],
      "metadata": {
        "id": "nwiW83MM2b4F"
      }
    },
    {
      "cell_type": "markdown",
      "source": [
        "### **Loud Cover**"
      ],
      "metadata": {
        "id": "CBkmniHG0xnP"
      }
    },
    {
      "cell_type": "markdown",
      "source": [
        "\n",
        "**Frequency Counts**\n",
        "\n",
        "Determine the frequency of different levels of loud cover (e.g., percentage of cloud cover).\n"
      ],
      "metadata": {
        "id": "ygL0kXMx2g7V"
      }
    },
    {
      "cell_type": "code",
      "source": [],
      "metadata": {
        "id": "iR-gJ1Up01h0"
      },
      "execution_count": null,
      "outputs": []
    },
    {
      "cell_type": "markdown",
      "source": [
        "\n",
        "**Descriptive Statistics:**\n",
        "\n",
        "Calculate summary statistics for loud cover values.\n"
      ],
      "metadata": {
        "id": "hc9wwRp_2myG"
      }
    },
    {
      "cell_type": "code",
      "source": [],
      "metadata": {
        "id": "rf8IVVwW2rrO"
      },
      "execution_count": null,
      "outputs": []
    },
    {
      "cell_type": "markdown",
      "source": [
        "\n",
        "**Distribution Analysis:**\n",
        "\n",
        "Visualize the distribution using histograms or box plots.\n"
      ],
      "metadata": {
        "id": "XWfLJpGo2rSe"
      }
    },
    {
      "cell_type": "code",
      "source": [],
      "metadata": {
        "id": "fJGQSfyK2vu8"
      },
      "execution_count": null,
      "outputs": []
    },
    {
      "cell_type": "markdown",
      "source": [
        "\n",
        "**Impact Analysis:**\n",
        "\n",
        "Analyze the relationship between loud cover and other variables like temperature and precipitation."
      ],
      "metadata": {
        "id": "6P72qcz92yHE"
      }
    },
    {
      "cell_type": "code",
      "source": [],
      "metadata": {
        "id": "EAIpLBIN21VZ"
      },
      "execution_count": null,
      "outputs": []
    },
    {
      "cell_type": "code",
      "source": [],
      "metadata": {
        "id": "glSUyMLe203y"
      },
      "execution_count": null,
      "outputs": []
    },
    {
      "cell_type": "markdown",
      "source": [
        "### **Pressure (millibars)**"
      ],
      "metadata": {
        "id": "auc7xjOq04tO"
      }
    },
    {
      "cell_type": "markdown",
      "source": [
        "\n",
        "**Descriptive Statistics:**\n",
        "\n",
        "Compute summary statistics for atmospheric pressure."
      ],
      "metadata": {
        "id": "5P8KpL4-24Hp"
      }
    },
    {
      "cell_type": "code",
      "source": [],
      "metadata": {
        "id": "zQ3udErs09YH"
      },
      "execution_count": null,
      "outputs": []
    },
    {
      "cell_type": "markdown",
      "source": [
        "\n",
        "**Distribution Analysis:**\n",
        "\n",
        "Create visualizations (histograms, box plots) to analyze the distribution of pressure values."
      ],
      "metadata": {
        "id": "IKcNgpR629pX"
      }
    },
    {
      "cell_type": "code",
      "source": [],
      "metadata": {
        "id": "qJ-1cyNp3B4Q"
      },
      "execution_count": null,
      "outputs": []
    },
    {
      "cell_type": "markdown",
      "source": [
        "\n",
        "**Correlation Analysis:**\n",
        "\n",
        "Explore the relationship between pressure and other weather variables like temperature and humidity."
      ],
      "metadata": {
        "id": "79RSXAWV3CJ3"
      }
    },
    {
      "cell_type": "code",
      "source": [],
      "metadata": {
        "id": "GWF5Rs6Y3FHR"
      },
      "execution_count": null,
      "outputs": []
    },
    {
      "cell_type": "markdown",
      "source": [
        "\n",
        "**Trend Analysis:**\n",
        "\n",
        "Examine changes in pressure over time and its potential impact on weather conditions.\n"
      ],
      "metadata": {
        "id": "YAs_FIXM3Fj1"
      }
    },
    {
      "cell_type": "code",
      "source": [],
      "metadata": {
        "id": "h2g4c4_F3Hf0"
      },
      "execution_count": null,
      "outputs": []
    },
    {
      "cell_type": "code",
      "source": [],
      "metadata": {
        "id": "Pj254Dtd3HY-"
      },
      "execution_count": null,
      "outputs": []
    },
    {
      "cell_type": "markdown",
      "source": [
        "### **Daily Summary**"
      ],
      "metadata": {
        "id": "dLs_Xytf0-RX"
      }
    },
    {
      "cell_type": "markdown",
      "source": [
        "\n",
        "**Text Analysis:**\n",
        "\n",
        "Similar to the Summary column, perform text analysis to identify common phrases or themes in daily summaries."
      ],
      "metadata": {
        "id": "QJxv6jRl3Ncj"
      }
    },
    {
      "cell_type": "code",
      "source": [],
      "metadata": {
        "id": "US6bXQNz1CvA"
      },
      "execution_count": null,
      "outputs": []
    },
    {
      "cell_type": "markdown",
      "source": [
        "\n",
        "**Categorization:**\n",
        "\n",
        "Group the daily summaries into categories based on common weather conditions.\n"
      ],
      "metadata": {
        "id": "5z66HJ4p3QLJ"
      }
    },
    {
      "cell_type": "code",
      "source": [],
      "metadata": {
        "id": "aW-tBtpW3Tih"
      },
      "execution_count": null,
      "outputs": []
    },
    {
      "cell_type": "markdown",
      "source": [
        "**Sentiment Analysis:**\n",
        "\n",
        "If applicable, analyze the sentiment of daily summaries to gauge overall weather sentiment."
      ],
      "metadata": {
        "id": "7jqzpRRc3UA7"
      }
    },
    {
      "cell_type": "code",
      "source": [],
      "metadata": {
        "id": "ZK4RWv5Q3VsT"
      },
      "execution_count": null,
      "outputs": []
    }
  ]
}